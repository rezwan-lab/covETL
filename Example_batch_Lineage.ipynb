{
  "nbformat": 4,
  "nbformat_minor": 0,
  "metadata": {
    "colab": {
      "provenance": []
    },
    "kernelspec": {
      "name": "python3",
      "display_name": "Python 3"
    },
    "language_info": {
      "name": "python"
    }
  },
  "cells": [
    {
      "cell_type": "markdown",
      "metadata": {
        "id": "UyaiI0y1-o4g"
      },
      "source": [
        "# **install_library**"
      ]
    },
    {
      "cell_type": "code",
      "metadata": {
        "id": "rmzM1cu5-NM4"
      },
      "source": [
        "import pandas as pd\n",
        "import numpy as np"
      ],
      "execution_count": null,
      "outputs": []
    },
    {
      "cell_type": "markdown",
      "metadata": {
        "id": "z68mjX67_q60"
      },
      "source": [
        "# **data_upload**"
      ]
    },
    {
      "cell_type": "markdown",
      "metadata": {
        "id": "pkkWGWBU_yN7"
      },
      "source": [
        "mount_gdrive"
      ]
    },
    {
      "cell_type": "code",
      "metadata": {
        "id": "P21rS5VX_xZV",
        "colab": {
          "base_uri": "https://localhost:8080/"
        },
        "outputId": "72448262-5662-4d0a-a2e7-572e87f8e087"
      },
      "source": [
        "from google.colab import drive\n",
        "drive.mount('/content/drive')"
      ],
      "execution_count": null,
      "outputs": [
        {
          "output_type": "stream",
          "name": "stdout",
          "text": [
            "Drive already mounted at /content/drive; to attempt to forcibly remount, call drive.mount(\"/content/drive\", force_remount=True).\n"
          ]
        }
      ]
    },
    {
      "cell_type": "markdown",
      "metadata": {
        "id": "yLEjhxkn_7pc"
      },
      "source": [
        "import_file"
      ]
    },
    {
      "cell_type": "code",
      "metadata": {
        "id": "caPBwETTADUi",
        "colab": {
          "base_uri": "https://localhost:8080/"
        },
        "outputId": "0adbe6dd-fa07-414d-dfc2-426f842bb040"
      },
      "source": [
        "df = pd.read_table(\"/content/drive/MyDrive/LongReport_WeeklyAnalysis/WA22_16092021/MD_16092021.tsv\", sep='\\t')"
      ],
      "execution_count": null,
      "outputs": [
        {
          "output_type": "stream",
          "name": "stderr",
          "text": [
            "/usr/local/lib/python3.7/dist-packages/IPython/core/interactiveshell.py:2822: DtypeWarning: Columns (32) have mixed types.Specify dtype option on import or set low_memory=False.\n",
            "  if self.run_code(code, result):\n"
          ]
        }
      ]
    },
    {
      "cell_type": "markdown",
      "metadata": {
        "id": "Uz85YocsAVb5"
      },
      "source": [
        "# **data_clean**"
      ]
    },
    {
      "cell_type": "code",
      "metadata": {
        "id": "HHJJaQc8Kp_E"
      },
      "source": [
        "#dataNeed_Strain_Date_Division_Location_Submitting_Lab_Region_Type_Clade_Lineage_ImpLin_VariantStatus"
      ],
      "execution_count": null,
      "outputs": []
    },
    {
      "cell_type": "code",
      "metadata": {
        "colab": {
          "base_uri": "https://localhost:8080/",
          "height": 284
        },
        "id": "6YwXCU44ccVR",
        "outputId": "3e02e0b5-784d-40af-9f3b-f0d699bdb3dd"
      },
      "source": [
        "df.head(2)"
      ],
      "execution_count": null,
      "outputs": [
        {
          "output_type": "execute_result",
          "data": {
            "text/html": [
              "<div>\n",
              "<style scoped>\n",
              "    .dataframe tbody tr th:only-of-type {\n",
              "        vertical-align: middle;\n",
              "    }\n",
              "\n",
              "    .dataframe tbody tr th {\n",
              "        vertical-align: top;\n",
              "    }\n",
              "\n",
              "    .dataframe thead th {\n",
              "        text-align: right;\n",
              "    }\n",
              "</style>\n",
              "<table border=\"1\" class=\"dataframe\">\n",
              "  <thead>\n",
              "    <tr style=\"text-align: right;\">\n",
              "      <th></th>\n",
              "      <th>strain</th>\n",
              "      <th>virus</th>\n",
              "      <th>gisaid_epi_isl</th>\n",
              "      <th>genbank_accession</th>\n",
              "      <th>date</th>\n",
              "      <th>region</th>\n",
              "      <th>country</th>\n",
              "      <th>division</th>\n",
              "      <th>location</th>\n",
              "      <th>region_exposure</th>\n",
              "      <th>country_exposure</th>\n",
              "      <th>division_exposure</th>\n",
              "      <th>segment</th>\n",
              "      <th>length</th>\n",
              "      <th>host</th>\n",
              "      <th>age</th>\n",
              "      <th>sex</th>\n",
              "      <th>originating_lab</th>\n",
              "      <th>submitting_lab</th>\n",
              "      <th>authors</th>\n",
              "      <th>url</th>\n",
              "      <th>title</th>\n",
              "      <th>paper_url</th>\n",
              "      <th>date_submitted</th>\n",
              "      <th>purpose_of_sequencing</th>\n",
              "      <th>lab_id</th>\n",
              "      <th>last_vaccinated</th>\n",
              "      <th>region_type</th>\n",
              "      <th>clade</th>\n",
              "      <th>totalInsertions</th>\n",
              "      <th>totalMissing</th>\n",
              "      <th>totalNonACGTNs</th>\n",
              "      <th>nonACGTNs</th>\n",
              "      <th>substitutions</th>\n",
              "      <th>deletions</th>\n",
              "      <th>aaSubstitutions</th>\n",
              "      <th>aaDeletions</th>\n",
              "      <th>lineage</th>\n",
              "      <th>scorpio_call</th>\n",
              "      <th>note</th>\n",
              "      <th>pangoLEARN_version</th>\n",
              "    </tr>\n",
              "  </thead>\n",
              "  <tbody>\n",
              "    <tr>\n",
              "      <th>0</th>\n",
              "      <td>hCoV-19/India/INSACOG/AS-CSIR-NEIST1-CIDIN0011...</td>\n",
              "      <td>betacoronavirus</td>\n",
              "      <td>EPI_ISL_0</td>\n",
              "      <td>?</td>\n",
              "      <td>2021-05-15</td>\n",
              "      <td>Asia</td>\n",
              "      <td>India</td>\n",
              "      <td>Assam</td>\n",
              "      <td>JORHAT</td>\n",
              "      <td>Asia</td>\n",
              "      <td>India</td>\n",
              "      <td>Assam</td>\n",
              "      <td>genome</td>\n",
              "      <td>29890</td>\n",
              "      <td>Human</td>\n",
              "      <td>51</td>\n",
              "      <td>Male</td>\n",
              "      <td>Centre for Infectious Diseases, CSIR-NEIST</td>\n",
              "      <td>NEIST</td>\n",
              "      <td>Romi Wahengbam, Moirangthem G Singh, Munmi Bor...</td>\n",
              "      <td>?</td>\n",
              "      <td>?</td>\n",
              "      <td>?</td>\n",
              "      <td>2021-05-15</td>\n",
              "      <td>?</td>\n",
              "      <td>CIDIN0011</td>\n",
              "      <td>1st dose: COVAXIN, 2021-04-20</td>\n",
              "      <td>North East India</td>\n",
              "      <td>21A (Delta)</td>\n",
              "      <td>0.0</td>\n",
              "      <td>395.0</td>\n",
              "      <td>0.0</td>\n",
              "      <td>NaN</td>\n",
              "      <td>G210T,C241T,C1191T,C1267T,C2676T,C3037T,C5184T...</td>\n",
              "      <td>22029-22034,28248-28253,28271</td>\n",
              "      <td>M:I82T,N:D63G,N:R203M,N:T362I,N:D377Y,N:R385K,...</td>\n",
              "      <td>ORF8:D119-,ORF8:F120-,S:E156-,S:F157-</td>\n",
              "      <td>B.1.617.2</td>\n",
              "      <td>Delta (B.1.617.2-like)</td>\n",
              "      <td>scorpio call: Alt alleles 12; Ref alleles 0; A...</td>\n",
              "      <td>2021-08-24</td>\n",
              "    </tr>\n",
              "    <tr>\n",
              "      <th>1</th>\n",
              "      <td>hCoV-19/India/INSACOG/AS-CSIR-NEIST1-CIDIN0001...</td>\n",
              "      <td>betacoronavirus</td>\n",
              "      <td>EPI_ISL_1</td>\n",
              "      <td>?</td>\n",
              "      <td>2020-07-21</td>\n",
              "      <td>Asia</td>\n",
              "      <td>India</td>\n",
              "      <td>Assam</td>\n",
              "      <td>GOLAGHAT</td>\n",
              "      <td>Asia</td>\n",
              "      <td>India</td>\n",
              "      <td>Assam</td>\n",
              "      <td>genome</td>\n",
              "      <td>29903</td>\n",
              "      <td>Human</td>\n",
              "      <td>55</td>\n",
              "      <td>Male</td>\n",
              "      <td>Centre for Infectious Diseases, CSIR-NEIST</td>\n",
              "      <td>NEIST</td>\n",
              "      <td>Romi Wahengbam, Moirangthem G Singh, Munmi Bor...</td>\n",
              "      <td>?</td>\n",
              "      <td>?</td>\n",
              "      <td>?</td>\n",
              "      <td>2020-07-21</td>\n",
              "      <td>?</td>\n",
              "      <td>CIDIN0001</td>\n",
              "      <td>unknown</td>\n",
              "      <td>North East India</td>\n",
              "      <td>20A</td>\n",
              "      <td>0.0</td>\n",
              "      <td>6689.0</td>\n",
              "      <td>0.0</td>\n",
              "      <td>NaN</td>\n",
              "      <td>C241T,T1947C,C3037T,C12546T,C14408T,C18877T,G2...</td>\n",
              "      <td>NaN</td>\n",
              "      <td>ORF1a:V561A,ORF1a:A4094V,ORF1b:P314L,ORF3a:Q57...</td>\n",
              "      <td>NaN</td>\n",
              "      <td>B.1.36</td>\n",
              "      <td>NaN</td>\n",
              "      <td>NaN</td>\n",
              "      <td>2021-08-24</td>\n",
              "    </tr>\n",
              "  </tbody>\n",
              "</table>\n",
              "</div>"
            ],
            "text/plain": [
              "                                              strain  ... pangoLEARN_version\n",
              "0  hCoV-19/India/INSACOG/AS-CSIR-NEIST1-CIDIN0011...  ...         2021-08-24\n",
              "1  hCoV-19/India/INSACOG/AS-CSIR-NEIST1-CIDIN0001...  ...         2021-08-24\n",
              "\n",
              "[2 rows x 41 columns]"
            ]
          },
          "metadata": {},
          "execution_count": 21
        }
      ]
    },
    {
      "cell_type": "markdown",
      "metadata": {
        "id": "57B8CN-gAag4"
      },
      "source": [
        "delete_unnessary_columns_change_in_dataset"
      ]
    },
    {
      "cell_type": "code",
      "metadata": {
        "id": "TqaqwvuEAq6Q",
        "colab": {
          "base_uri": "https://localhost:8080/",
          "height": 111
        },
        "outputId": "907981be-bf34-4f9a-873a-34c74ddccdb5"
      },
      "source": [
        "df.drop([ 'virus','gisaid_epi_isl', 'genbank_accession', 'region', 'country', 'region_exposure', 'country_exposure', 'division_exposure', 'segment', 'length', 'host', 'originating_lab', 'authors', 'url',\n",
        "       'title', 'paper_url', 'date_submitted', 'purpose_of_sequencing', 'lab_id', 'totalInsertions', 'totalMissing', 'totalNonACGTNs', 'nonACGTNs', 'substitutions', 'deletions', 'aaSubstitutions', 'aaDeletions', 'scorpio_call', 'note', 'pangoLEARN_version'], axis=1, inplace=True)\n",
        "df.head(2)"
      ],
      "execution_count": null,
      "outputs": [
        {
          "output_type": "execute_result",
          "data": {
            "text/html": [
              "<div>\n",
              "<style scoped>\n",
              "    .dataframe tbody tr th:only-of-type {\n",
              "        vertical-align: middle;\n",
              "    }\n",
              "\n",
              "    .dataframe tbody tr th {\n",
              "        vertical-align: top;\n",
              "    }\n",
              "\n",
              "    .dataframe thead th {\n",
              "        text-align: right;\n",
              "    }\n",
              "</style>\n",
              "<table border=\"1\" class=\"dataframe\">\n",
              "  <thead>\n",
              "    <tr style=\"text-align: right;\">\n",
              "      <th></th>\n",
              "      <th>strain</th>\n",
              "      <th>date</th>\n",
              "      <th>division</th>\n",
              "      <th>location</th>\n",
              "      <th>age</th>\n",
              "      <th>sex</th>\n",
              "      <th>submitting_lab</th>\n",
              "      <th>last_vaccinated</th>\n",
              "      <th>region_type</th>\n",
              "      <th>clade</th>\n",
              "      <th>lineage</th>\n",
              "    </tr>\n",
              "  </thead>\n",
              "  <tbody>\n",
              "    <tr>\n",
              "      <th>0</th>\n",
              "      <td>hCoV-19/India/INSACOG/AS-CSIR-NEIST1-CIDIN0011...</td>\n",
              "      <td>2021-05-15</td>\n",
              "      <td>Assam</td>\n",
              "      <td>JORHAT</td>\n",
              "      <td>51</td>\n",
              "      <td>Male</td>\n",
              "      <td>NEIST</td>\n",
              "      <td>1st dose: COVAXIN, 2021-04-20</td>\n",
              "      <td>North East India</td>\n",
              "      <td>21A (Delta)</td>\n",
              "      <td>B.1.617.2</td>\n",
              "    </tr>\n",
              "    <tr>\n",
              "      <th>1</th>\n",
              "      <td>hCoV-19/India/INSACOG/AS-CSIR-NEIST1-CIDIN0001...</td>\n",
              "      <td>2020-07-21</td>\n",
              "      <td>Assam</td>\n",
              "      <td>GOLAGHAT</td>\n",
              "      <td>55</td>\n",
              "      <td>Male</td>\n",
              "      <td>NEIST</td>\n",
              "      <td>unknown</td>\n",
              "      <td>North East India</td>\n",
              "      <td>20A</td>\n",
              "      <td>B.1.36</td>\n",
              "    </tr>\n",
              "  </tbody>\n",
              "</table>\n",
              "</div>"
            ],
            "text/plain": [
              "                                              strain  ...    lineage\n",
              "0  hCoV-19/India/INSACOG/AS-CSIR-NEIST1-CIDIN0011...  ...  B.1.617.2\n",
              "1  hCoV-19/India/INSACOG/AS-CSIR-NEIST1-CIDIN0001...  ...     B.1.36\n",
              "\n",
              "[2 rows x 11 columns]"
            ]
          },
          "metadata": {},
          "execution_count": 22
        }
      ]
    },
    {
      "cell_type": "markdown",
      "metadata": {
        "id": "EjeHe8Et8iux"
      },
      "source": [
        "# Lineage_Name_Change"
      ]
    },
    {
      "cell_type": "code",
      "metadata": {
        "id": "Qj7IbViRRR2T"
      },
      "source": [
        "#focus on other"
      ],
      "execution_count": null,
      "outputs": []
    },
    {
      "cell_type": "code",
      "metadata": {
        "id": "KqhIlX3TMu_2"
      },
      "source": [
        "df.loc[df['lineage'] == 'B.1.1.7', 'ImpLin'] = 'Alpha'\n",
        "df.loc[df['lineage'] == 'Q.1', 'ImpLin'] = 'Alpha'\n",
        "df.loc[df['lineage'] == 'Q.2', 'ImpLin'] = 'Alpha'\n",
        "df.loc[df['lineage'] == 'Q.3', 'ImpLin'] = 'Alpha'\n",
        "df.loc[df['lineage'] == 'Q.4', 'ImpLin'] = 'Alpha'\n",
        "df.loc[df['lineage'] == 'Q.5', 'ImpLin'] = 'Alpha'\n",
        "df.loc[df['lineage'] == 'Q.6', 'ImpLin'] = 'Alpha'\n",
        "df.loc[df['lineage'] == 'Q.7', 'ImpLin'] = 'Alpha'\n",
        "df.loc[df['lineage'] == 'Q.8', 'ImpLin'] = 'Alpha'\n",
        "df.loc[df['lineage'] == 'B.1.351', 'ImpLin'] = 'Beta'\n",
        "df.loc[df['lineage'] == 'P.1', 'ImpLin'] = 'Gamma'\n",
        "df.loc[df['lineage'] == 'B.1.525', 'ImpLin'] = 'Eta'\n",
        "df.loc[df['lineage'] == 'B.1.526', 'ImpLin'] = 'Iota'\n",
        "df.loc[df['lineage'] == 'B.1.617.1', 'ImpLin'] = 'Kappa'\n",
        "df.loc[df['lineage'] == 'C.37', 'ImpLin'] = 'Lambda'\n",
        "df.loc[df['lineage'] == 'B.1.621', 'ImpLin'] = 'Mu'\n",
        "df.loc[df['lineage'] == 'B.1.427', 'ImpLin'] = 'Monitoring'\n",
        "df.loc[df['lineage'] == 'B.1.429', 'ImpLin'] = 'Monitoring'\n",
        "df.loc[df['lineage'] == 'R.1', 'ImpLin'] = 'Monitoring'\n",
        "df.loc[df['lineage'] == 'B.1.466.2', 'ImpLin'] = 'Monitoring'\n",
        "df.loc[df['lineage'] == 'B.1.1.318', 'ImpLin'] = 'Monitoring'\n",
        "df.loc[df['lineage'] == 'B.1.1.519', 'ImpLin'] = 'Monitoring'\n",
        "df.loc[df['lineage'] == 'C.36.3', 'ImpLin'] = 'Monitoring'\n",
        "df.loc[df['lineage'] == 'B.1.214.2', 'ImpLin'] = 'Monitoring'\n",
        "df.loc[df['lineage'] == 'B.1.1.523', 'ImpLin'] = 'Monitoring'\n",
        "df.loc[df['lineage'] == 'B.1.619', 'ImpLin'] = 'Monitoring'\n",
        "df.loc[df['lineage'] == 'B.1.620', 'ImpLin'] = 'Monitoring'\n",
        "df.loc[df['lineage'] == 'C.1.2', 'ImpLin'] = 'Monitoring'\n",
        "df.loc[df['lineage'] == 'B.1.617.2', 'ImpLin'] = 'Delta'\n",
        "df.loc[df['lineage'] == 'AY.1', 'ImpLin'] = 'Delta'\n",
        "df.loc[df['lineage'] == 'AY.2', 'ImpLin'] = 'Delta'\n",
        "df.loc[df['lineage'] == 'AY.3', 'ImpLin'] = 'Delta'\n",
        "df.loc[df['lineage'] == 'AY.3.1', 'ImpLin'] = 'Delta'\n",
        "df.loc[df['lineage'] == 'AY.4', 'ImpLin'] = 'Delta'\n",
        "df.loc[df['lineage'] == 'AY.5', 'ImpLin'] = 'Delta'\n",
        "df.loc[df['lineage'] == 'AY.5.1', 'ImpLin'] = 'Delta'\n",
        "df.loc[df['lineage'] == 'AY.5.2', 'ImpLin'] = 'Delta'\n",
        "df.loc[df['lineage'] == 'AY.6', 'ImpLin'] = 'Delta'\n",
        "df.loc[df['lineage'] == 'AY.7', 'ImpLin'] = 'Delta'\n",
        "df.loc[df['lineage'] == 'AY.7.1', 'ImpLin'] = 'Delta'\n",
        "df.loc[df['lineage'] == 'AY.7.2', 'ImpLin'] = 'Delta'\n",
        "df.loc[df['lineage'] == 'AY.8', 'ImpLin'] = 'Delta'\n",
        "df.loc[df['lineage'] == 'AY.9', 'ImpLin'] = 'Delta'\n",
        "df.loc[df['lineage'] == 'AY.10', 'ImpLin'] = 'Delta'\n",
        "df.loc[df['lineage'] == 'AY.11', 'ImpLin'] = 'Delta'\n",
        "df.loc[df['lineage'] == 'AY.12', 'ImpLin'] = 'Delta'\n",
        "df.loc[df['lineage'] == 'AY.13', 'ImpLin'] = 'Delta'\n",
        "df.loc[df['lineage'] == 'AY.14', 'ImpLin'] = 'Delta'\n",
        "df.loc[df['lineage'] == 'AY.15', 'ImpLin'] = 'Delta'\n",
        "df.loc[df['lineage'] == 'AY.16', 'ImpLin'] = 'Delta'\n",
        "df.loc[df['lineage'] == 'AY.17', 'ImpLin'] = 'Delta'\n",
        "df.loc[df['lineage'] == 'AY.18', 'ImpLin'] = 'Delta'\n",
        "df.loc[df['lineage'] == 'AY.19', 'ImpLin'] = 'Delta'\n",
        "df.loc[df['lineage'] == 'AY.20', 'ImpLin'] = 'Delta'\n",
        "df.loc[df['lineage'] == 'AY.21', 'ImpLin'] = 'Delta'\n",
        "df.loc[df['lineage'] == 'AY.22', 'ImpLin'] = 'Delta'\n",
        "df.loc[df['lineage'] == 'AY.23', 'ImpLin'] = 'Delta'\n",
        "df.loc[df['lineage'] == 'AY.24', 'ImpLin'] = 'Delta'\n",
        "df.loc[df['lineage'] == 'AY.25', 'ImpLin'] = 'Delta'\n",
        "df.loc[df['lineage'] == 'AY.26', 'ImpLin'] = 'Delta'\n",
        "df.loc[df['lineage'] == 'AY.27', 'ImpLin'] = 'Delta'\n",
        "df.loc[df['lineage'] == 'AY.28', 'ImpLin'] = 'Delta'\n",
        "df.loc[df['lineage'] == 'AY.29', 'ImpLin'] = 'Delta'\n",
        "df.loc[df['lineage'] == 'AY.30', 'ImpLin'] = 'Delta'\n",
        "df.loc[df['lineage'] == 'AY.31', 'ImpLin'] = 'Delta'\n",
        "df.loc[df['lineage'] == 'AY.32', 'ImpLin'] = 'Delta'\n",
        "df.loc[df['lineage'] == 'AY.33', 'ImpLin'] = 'Delta'\n",
        "df.loc[df['lineage'] == '617', 'ImpLin'] = 'Delta'\n",
        "df.loc[(df['lineage'] != 'B.1.1.7') & (df['lineage'] != 'Q.1') & (df['lineage'] != 'Q.2') & (df['lineage'] != 'Q.3') & (df['lineage'] != 'Q.4') & (df['lineage'] != 'Q.5') & (df['lineage'] != 'Q.6') & (df['lineage'] != 'Q.7') & (df['lineage'] != 'Q.8') & (df['lineage'] != 'B.1.351') & (df['lineage'] != 'P.1') & (df['lineage'] != 'B.1.525') & (df['lineage'] != 'B.1.526') & (df['lineage'] != 'B.1.617.1') & (df['lineage'] != 'C.37') & (df['lineage'] != 'B.1.621') & (df['lineage'] != 'B.1.427') & (df['lineage'] != 'B.1.429') & (df['lineage'] != 'R.1') & (df['lineage'] != 'B.1.466.2') & (df['lineage'] != 'B.1.1.318') & (df['lineage'] != 'B.1.1.519') & (df['lineage'] != 'C.36.3') & (df['lineage'] != 'B.1.214.2') & (df['lineage'] != 'B.1.1.523') & (df['lineage'] != 'B.1.619') & (df['lineage'] != 'B.1.620') & (df['lineage'] != 'C.1.2') & (df['lineage'] != 'B.1.617.2') & (df['lineage'] != 'AY.1') & (df['lineage'] != 'AY.2') & (df['lineage'] != 'AY.3') & (df['lineage'] != 'AY.3.1') & (df['lineage'] != 'AY.4') & (df['lineage'] != 'AY.5') & (df['lineage'] != 'AY.5.1') & (df['lineage'] != 'AY.5.2') & (df['lineage'] != 'AY.6') & (df['lineage'] != 'AY.7') & (df['lineage'] != 'AY.7.1') & (df['lineage'] != 'AY.7.2') & (df['lineage'] != 'AY.8') & (df['lineage'] != 'AY.9') & (df['lineage'] != 'AY.10') & (df['lineage'] != 'AY.11') & (df['lineage'] != 'AY.12') & (df['lineage'] != 'AY.13') & (df['lineage'] != 'AY.14') & (df['lineage'] != 'AY.15') & (df['lineage'] != 'AY.16') & (df['lineage'] != 'AY.17') & (df['lineage'] != 'AY.18') & (df['lineage'] != 'AY.19') & (df['lineage'] != 'AY.20') & (df['lineage'] != 'AY.21') & (df['lineage'] != 'AY.22') & (df['lineage'] != 'AY.23') & (df['lineage'] != 'AY.24') & (df['lineage'] != 'AY.25') & (df['lineage'] != 'AY.26') & (df['lineage'] != 'AY.27') & (df['lineage'] != 'AY.28') & (df['lineage'] != 'AY.29') & (df['lineage'] != 'AY.30') & (df['lineage'] != 'AY.31') & (df['lineage'] != 'AY.32') & (df['lineage'] != 'AY.33'), 'ImpLin'] = 'Other'"
      ],
      "execution_count": null,
      "outputs": []
    },
    {
      "cell_type": "code",
      "metadata": {
        "colab": {
          "base_uri": "https://localhost:8080/",
          "height": 111
        },
        "id": "aETHmXigdRgB",
        "outputId": "0f6a038c-1b19-4053-e68f-ade52c1c63fe"
      },
      "source": [
        "df.head(2)"
      ],
      "execution_count": null,
      "outputs": [
        {
          "output_type": "execute_result",
          "data": {
            "text/html": [
              "<div>\n",
              "<style scoped>\n",
              "    .dataframe tbody tr th:only-of-type {\n",
              "        vertical-align: middle;\n",
              "    }\n",
              "\n",
              "    .dataframe tbody tr th {\n",
              "        vertical-align: top;\n",
              "    }\n",
              "\n",
              "    .dataframe thead th {\n",
              "        text-align: right;\n",
              "    }\n",
              "</style>\n",
              "<table border=\"1\" class=\"dataframe\">\n",
              "  <thead>\n",
              "    <tr style=\"text-align: right;\">\n",
              "      <th></th>\n",
              "      <th>strain</th>\n",
              "      <th>date</th>\n",
              "      <th>division</th>\n",
              "      <th>location</th>\n",
              "      <th>age</th>\n",
              "      <th>sex</th>\n",
              "      <th>submitting_lab</th>\n",
              "      <th>last_vaccinated</th>\n",
              "      <th>region_type</th>\n",
              "      <th>clade</th>\n",
              "      <th>lineage</th>\n",
              "      <th>ImpLin</th>\n",
              "    </tr>\n",
              "  </thead>\n",
              "  <tbody>\n",
              "    <tr>\n",
              "      <th>0</th>\n",
              "      <td>hCoV-19/India/INSACOG/AS-CSIR-NEIST1-CIDIN0011...</td>\n",
              "      <td>2021-05-15</td>\n",
              "      <td>Assam</td>\n",
              "      <td>JORHAT</td>\n",
              "      <td>51</td>\n",
              "      <td>Male</td>\n",
              "      <td>NEIST</td>\n",
              "      <td>1st dose: COVAXIN, 2021-04-20</td>\n",
              "      <td>North East India</td>\n",
              "      <td>21A (Delta)</td>\n",
              "      <td>B.1.617.2</td>\n",
              "      <td>Delta</td>\n",
              "    </tr>\n",
              "    <tr>\n",
              "      <th>1</th>\n",
              "      <td>hCoV-19/India/INSACOG/AS-CSIR-NEIST1-CIDIN0001...</td>\n",
              "      <td>2020-07-21</td>\n",
              "      <td>Assam</td>\n",
              "      <td>GOLAGHAT</td>\n",
              "      <td>55</td>\n",
              "      <td>Male</td>\n",
              "      <td>NEIST</td>\n",
              "      <td>unknown</td>\n",
              "      <td>North East India</td>\n",
              "      <td>20A</td>\n",
              "      <td>B.1.36</td>\n",
              "      <td>Other</td>\n",
              "    </tr>\n",
              "  </tbody>\n",
              "</table>\n",
              "</div>"
            ],
            "text/plain": [
              "                                              strain  ... ImpLin\n",
              "0  hCoV-19/India/INSACOG/AS-CSIR-NEIST1-CIDIN0011...  ...  Delta\n",
              "1  hCoV-19/India/INSACOG/AS-CSIR-NEIST1-CIDIN0001...  ...  Other\n",
              "\n",
              "[2 rows x 12 columns]"
            ]
          },
          "metadata": {},
          "execution_count": 25
        }
      ]
    },
    {
      "cell_type": "code",
      "metadata": {
        "id": "1CgkQLMnY5RF"
      },
      "source": [
        "#variant_naming"
      ],
      "execution_count": null,
      "outputs": []
    },
    {
      "cell_type": "code",
      "metadata": {
        "id": "iENkXzwlS1pd"
      },
      "source": [
        "df.loc[df['ImpLin'] == 'Alpha', 'Variant'] = 'VOC'\n",
        "df.loc[df['ImpLin'] == 'Beta', 'Variant'] = 'VOC'\n",
        "df.loc[df['ImpLin'] == 'Gamma', 'Variant'] = 'VOC'\n",
        "df.loc[df['ImpLin'] == 'Delta', 'Variant'] = 'VOC'\n",
        "df.loc[df['ImpLin'] == 'Eta', 'Variant'] = 'VOI'\n",
        "df.loc[df['ImpLin'] == 'Iota', 'Variant'] = 'VOI'\n",
        "df.loc[df['ImpLin'] == 'Kappa', 'Variant'] = 'VOI'\n",
        "df.loc[df['ImpLin'] == 'Lambda', 'Variant'] = 'VOI'\n",
        "df.loc[df['ImpLin'] == 'Mu', 'Variant'] = 'VOI'\n",
        "df.loc[df['ImpLin'] == 'Monitoring', 'Variant'] = 'Monitoring'\n",
        "df.loc[(df['ImpLin'] != 'Alpha') & (df['ImpLin'] != 'Beta') & (df['ImpLin'] != 'Gamma') & (df['ImpLin'] != 'Delta') & (df['ImpLin'] != 'Eta') & (df['ImpLin'] != 'Iota') & (df['ImpLin'] != 'Kappa') & (df['ImpLin'] != 'Lambda') & (df['ImpLin'] != 'Mu') & (df['ImpLin'] != 'Monitoring'), 'Variant'] = 'Other'"
      ],
      "execution_count": null,
      "outputs": []
    },
    {
      "cell_type": "code",
      "metadata": {
        "colab": {
          "base_uri": "https://localhost:8080/",
          "height": 145
        },
        "id": "kY7qw-W4d21J",
        "outputId": "22ed8a4d-50c5-4ad1-b1d3-8b3087e21c51"
      },
      "source": [
        "df.head(2)"
      ],
      "execution_count": null,
      "outputs": [
        {
          "output_type": "execute_result",
          "data": {
            "text/html": [
              "<div>\n",
              "<style scoped>\n",
              "    .dataframe tbody tr th:only-of-type {\n",
              "        vertical-align: middle;\n",
              "    }\n",
              "\n",
              "    .dataframe tbody tr th {\n",
              "        vertical-align: top;\n",
              "    }\n",
              "\n",
              "    .dataframe thead th {\n",
              "        text-align: right;\n",
              "    }\n",
              "</style>\n",
              "<table border=\"1\" class=\"dataframe\">\n",
              "  <thead>\n",
              "    <tr style=\"text-align: right;\">\n",
              "      <th></th>\n",
              "      <th>strain</th>\n",
              "      <th>date</th>\n",
              "      <th>division</th>\n",
              "      <th>location</th>\n",
              "      <th>age</th>\n",
              "      <th>sex</th>\n",
              "      <th>submitting_lab</th>\n",
              "      <th>last_vaccinated</th>\n",
              "      <th>region_type</th>\n",
              "      <th>clade</th>\n",
              "      <th>lineage</th>\n",
              "      <th>ImpLin</th>\n",
              "      <th>Variant</th>\n",
              "    </tr>\n",
              "  </thead>\n",
              "  <tbody>\n",
              "    <tr>\n",
              "      <th>0</th>\n",
              "      <td>hCoV-19/India/INSACOG/AS-CSIR-NEIST1-CIDIN0011...</td>\n",
              "      <td>2021-05-15</td>\n",
              "      <td>Assam</td>\n",
              "      <td>JORHAT</td>\n",
              "      <td>51</td>\n",
              "      <td>Male</td>\n",
              "      <td>NEIST</td>\n",
              "      <td>1st dose: COVAXIN, 2021-04-20</td>\n",
              "      <td>North East India</td>\n",
              "      <td>21A (Delta)</td>\n",
              "      <td>B.1.617.2</td>\n",
              "      <td>Delta</td>\n",
              "      <td>VOC</td>\n",
              "    </tr>\n",
              "    <tr>\n",
              "      <th>1</th>\n",
              "      <td>hCoV-19/India/INSACOG/AS-CSIR-NEIST1-CIDIN0001...</td>\n",
              "      <td>2020-07-21</td>\n",
              "      <td>Assam</td>\n",
              "      <td>GOLAGHAT</td>\n",
              "      <td>55</td>\n",
              "      <td>Male</td>\n",
              "      <td>NEIST</td>\n",
              "      <td>unknown</td>\n",
              "      <td>North East India</td>\n",
              "      <td>20A</td>\n",
              "      <td>B.1.36</td>\n",
              "      <td>Other</td>\n",
              "      <td>Other</td>\n",
              "    </tr>\n",
              "  </tbody>\n",
              "</table>\n",
              "</div>"
            ],
            "text/plain": [
              "                                              strain        date  ... ImpLin Variant\n",
              "0  hCoV-19/India/INSACOG/AS-CSIR-NEIST1-CIDIN0011...  2021-05-15  ...  Delta     VOC\n",
              "1  hCoV-19/India/INSACOG/AS-CSIR-NEIST1-CIDIN0001...  2020-07-21  ...  Other   Other\n",
              "\n",
              "[2 rows x 13 columns]"
            ]
          },
          "metadata": {},
          "execution_count": 28
        }
      ]
    },
    {
      "cell_type": "code",
      "metadata": {
        "id": "jqSOWP6FeK51"
      },
      "source": [
        "df.to_csv('MD_160921_WA22.csv')"
      ],
      "execution_count": null,
      "outputs": []
    }
  ]
}