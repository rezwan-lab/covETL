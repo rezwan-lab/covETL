{
  "nbformat": 4,
  "nbformat_minor": 0,
  "metadata": {
    "colab": {
      "provenance": [],
      "toc_visible": true
    },
    "kernelspec": {
      "name": "python3",
      "display_name": "Python 3"
    },
    "language_info": {
      "name": "python"
    }
  },
  "cells": [
    {
      "cell_type": "markdown",
      "metadata": {
        "id": "UyaiI0y1-o4g"
      },
      "source": [
        "# **install_library**"
      ]
    },
    {
      "cell_type": "code",
      "metadata": {
        "id": "rmzM1cu5-NM4"
      },
      "source": [
        "import pandas as pd\n",
        "import numpy as np"
      ],
      "execution_count": null,
      "outputs": []
    },
    {
      "cell_type": "markdown",
      "metadata": {
        "id": "z68mjX67_q60"
      },
      "source": [
        "# **data_upload**"
      ]
    },
    {
      "cell_type": "markdown",
      "metadata": {
        "id": "pkkWGWBU_yN7"
      },
      "source": [
        "mount_gdrive"
      ]
    },
    {
      "cell_type": "code",
      "metadata": {
        "id": "P21rS5VX_xZV"
      },
      "source": [
        "from google.colab import drive\n",
        "drive.mount('/content/drive')"
      ],
      "execution_count": null,
      "outputs": []
    },
    {
      "cell_type": "markdown",
      "metadata": {
        "id": "yLEjhxkn_7pc"
      },
      "source": [
        "import_file"
      ]
    },
    {
      "cell_type": "code",
      "metadata": {
        "id": "caPBwETTADUi"
      },
      "source": [
        "df = pd.read_table(\"/content/drive/MyDrive/LongReport_WeeklyAnalysis/WA19/nextstrain_metadata_01092021.tsv\", sep='\\t')"
      ],
      "execution_count": null,
      "outputs": []
    },
    {
      "cell_type": "markdown",
      "metadata": {
        "id": "Uz85YocsAVb5"
      },
      "source": [
        "# **data_clean**"
      ]
    },
    {
      "cell_type": "code",
      "metadata": {
        "id": "HHJJaQc8Kp_E"
      },
      "source": [
        "#dataNeed_Strain_Date_Division_Location_Submitting_Lab_Region_Type_Clade_Lineage_ImpLin_VariantStatus"
      ],
      "execution_count": null,
      "outputs": []
    },
    {
      "cell_type": "markdown",
      "metadata": {
        "id": "57B8CN-gAag4"
      },
      "source": [
        "delete_unnessary_columns_change_in_dataset"
      ]
    },
    {
      "cell_type": "code",
      "metadata": {
        "id": "TqaqwvuEAq6Q"
      },
      "source": [
        "df.drop([ 'virus','gisaid_epi_isl', 'genbank_accession', 'region', 'region_exposure', 'country_exposure', 'division_exposure', 'segment', 'length', 'host', 'originating_lab', 'authors', 'url',\n",
        "       'title', 'paper_url', 'date_submitted', 'purpose_of_sequencing', 'lab_id', 'totalInsertions', 'totalMissing', 'totalNonACGTNs', 'nonACGTNs', 'substitutions',\n",
        "       'deletions', 'scorpio_call', 'note', 'pangoLEARN_version'], axis=1, inplace=True)\n",
        "df.head(2)"
      ],
      "execution_count": null,
      "outputs": []
    },
    {
      "cell_type": "markdown",
      "metadata": {
        "id": "-zG9ywiSB4mb"
      },
      "source": [
        "delete_unnessary_columns_change_without_dataset"
      ]
    },
    {
      "cell_type": "code",
      "metadata": {
        "id": "YJAX-5CBBzQ5"
      },
      "source": [
        "#delete unnessary columns\n",
        "df_seq_ana1=df.drop([ 'country', 'age','sex','submitting_lab','last_vaccinated','clade','aaSubstitutions', 'aaDeletions'], axis=1)\n",
        "df_seq_ana1.head(2)"
      ],
      "execution_count": null,
      "outputs": []
    },
    {
      "cell_type": "code",
      "metadata": {
        "id": "dJfnp8a9CcuS"
      },
      "source": [],
      "execution_count": null,
      "outputs": []
    },
    {
      "cell_type": "markdown",
      "metadata": {
        "id": "EjeHe8Et8iux"
      },
      "source": [
        "# Lineage_Name_Change"
      ]
    },
    {
      "cell_type": "code",
      "metadata": {
        "id": "Qj7IbViRRR2T"
      },
      "source": [
        "#focus on other"
      ],
      "execution_count": null,
      "outputs": []
    },
    {
      "cell_type": "code",
      "metadata": {
        "id": "KqhIlX3TMu_2"
      },
      "source": [
        "df.loc[df['lineage'] == 'B.1.1.7', 'ImpLin'] = 'Alpha'\n",
        "df.loc[df['lineage'] == 'Q.1', 'ImpLin'] = 'Alpha'\n",
        "df.loc[df['lineage'] == 'Q.2', 'ImpLin'] = 'Alpha'\n",
        "df.loc[df['lineage'] == 'Q.3', 'ImpLin'] = 'Alpha'\n",
        "df.loc[df['lineage'] == 'Q.4', 'ImpLin'] = 'Alpha'\n",
        "df.loc[df['lineage'] == 'Q.5', 'ImpLin'] = 'Alpha'\n",
        "df.loc[df['lineage'] == 'Q.6', 'ImpLin'] = 'Alpha'\n",
        "df.loc[df['lineage'] == 'Q.7', 'ImpLin'] = 'Alpha'\n",
        "df.loc[df['lineage'] == 'Q.8', 'ImpLin'] = 'Alpha'\n",
        "df.loc[df['lineage'] == 'B.1.351', 'ImpLin'] = 'Beta'\n",
        "df.loc[df['lineage'] == 'P.1', 'ImpLin'] = 'Gamma'\n",
        "df.loc[df['lineage'] == 'B.1.525', 'ImpLin'] = 'Eta'\n",
        "df.loc[df['lineage'] == 'B.1.526', 'ImpLin'] = 'Iota'\n",
        "df.loc[df['lineage'] == 'B.1.617.1', 'ImpLin'] = 'Kappa'\n",
        "df.loc[df['lineage'] == 'C.37', 'ImpLin'] = 'Lambda'\n",
        "df.loc[df['lineage'] == 'B.1.621', 'ImpLin'] = 'Mu'\n",
        "df.loc[df['lineage'] == 'B.1.427', 'ImpLin'] = 'Monitoring'\n",
        "df.loc[df['lineage'] == 'B.1.429', 'ImpLin'] = 'Monitoring'\n",
        "df.loc[df['lineage'] == 'R.1', 'ImpLin'] = 'Monitoring'\n",
        "df.loc[df['lineage'] == 'B.1.466.2', 'ImpLin'] = 'Monitoring'\n",
        "df.loc[df['lineage'] == 'B.1.1.318', 'ImpLin'] = 'Monitoring'\n",
        "df.loc[df['lineage'] == 'B.1.1.519', 'ImpLin'] = 'Monitoring'\n",
        "df.loc[df['lineage'] == 'C.36.3', 'ImpLin'] = 'Monitoring'\n",
        "df.loc[df['lineage'] == 'B.1.214.2', 'ImpLin'] = 'Monitoring'\n",
        "df.loc[df['lineage'] == 'B.1.1.523', 'ImpLin'] = 'Monitoring'\n",
        "df.loc[df['lineage'] == 'B.1.619', 'ImpLin'] = 'Monitoring'\n",
        "df.loc[df['lineage'] == 'B.1.620', 'ImpLin'] = 'Monitoring'\n",
        "df.loc[df['lineage'] == 'C.1.2', 'ImpLin'] = 'Monitoring'\n",
        "df.loc[df['lineage'] == 'B.1.617.2', 'ImpLin'] = 'Delta'\n",
        "df.loc[df['lineage'] == 'AY.1', 'ImpLin'] = 'Delta'\n",
        "df.loc[df['lineage'] == 'AY.2', 'ImpLin'] = 'Delta'\n",
        "df.loc[df['lineage'] == 'AY.3', 'ImpLin'] = 'Delta'\n",
        "df.loc[df['lineage'] == 'AY.3.1', 'ImpLin'] = 'Delta'\n",
        "df.loc[df['lineage'] == 'AY.4', 'ImpLin'] = 'Delta'\n",
        "df.loc[df['lineage'] == 'AY.5', 'ImpLin'] = 'Delta'\n",
        "df.loc[df['lineage'] == 'AY.5.1', 'ImpLin'] = 'Delta'\n",
        "df.loc[df['lineage'] == 'AY.5.2', 'ImpLin'] = 'Delta'\n",
        "df.loc[df['lineage'] == 'AY.6', 'ImpLin'] = 'Delta'\n",
        "df.loc[df['lineage'] == 'AY.7', 'ImpLin'] = 'Delta'\n",
        "df.loc[df['lineage'] == 'AY.7.1', 'ImpLin'] = 'Delta'\n",
        "df.loc[df['lineage'] == 'AY.7.2', 'ImpLin'] = 'Delta'\n",
        "df.loc[df['lineage'] == 'AY.8', 'ImpLin'] = 'Delta'\n",
        "df.loc[df['lineage'] == 'AY.9', 'ImpLin'] = 'Delta'\n",
        "df.loc[df['lineage'] == 'AY.10', 'ImpLin'] = 'Delta'\n",
        "df.loc[df['lineage'] == 'AY.11', 'ImpLin'] = 'Delta'\n",
        "df.loc[df['lineage'] == 'AY.12', 'ImpLin'] = 'Delta'\n",
        "df.loc[df['lineage'] == 'AY.13', 'ImpLin'] = 'Delta'\n",
        "df.loc[df['lineage'] == 'AY.14', 'ImpLin'] = 'Delta'\n",
        "df.loc[df['lineage'] == 'AY.15', 'ImpLin'] = 'Delta'\n",
        "df.loc[df['lineage'] == 'AY.16', 'ImpLin'] = 'Delta'\n",
        "df.loc[df['lineage'] == 'AY.17', 'ImpLin'] = 'Delta'\n",
        "df.loc[df['lineage'] == 'AY.18', 'ImpLin'] = 'Delta'\n",
        "df.loc[df['lineage'] == 'AY.19', 'ImpLin'] = 'Delta'\n",
        "df.loc[df['lineage'] == 'AY.20', 'ImpLin'] = 'Delta'\n",
        "df.loc[df['lineage'] == 'AY.21', 'ImpLin'] = 'Delta'\n",
        "df.loc[df['lineage'] == 'AY.22', 'ImpLin'] = 'Delta'\n",
        "df.loc[df['lineage'] == 'AY.23', 'ImpLin'] = 'Delta'\n",
        "df.loc[df['lineage'] == 'AY.24', 'ImpLin'] = 'Delta'\n",
        "df.loc[df['lineage'] == 'AY.25', 'ImpLin'] = 'Delta'\n",
        "df.loc[df['lineage'] == 'AY.26', 'ImpLin'] = 'Delta'\n",
        "df.loc[df['lineage'] == 'AY.27', 'ImpLin'] = 'Delta'\n",
        "df.loc[df['lineage'] == 'AY.28', 'ImpLin'] = 'Delta'\n",
        "df.loc[df['lineage'] == 'AY.29', 'ImpLin'] = 'Delta'\n",
        "df.loc[df['lineage'] == 'AY.30', 'ImpLin'] = 'Delta'\n",
        "df.loc[df['lineage'] == 'AY.31', 'ImpLin'] = 'Delta'\n",
        "df.loc[df['lineage'] == 'AY.32', 'ImpLin'] = 'Delta'\n",
        "df.loc[df['lineage'] == 'AY.33', 'ImpLin'] = 'Delta'\n",
        "df.loc[df['lineage'] == '617', 'ImpLin'] = 'Delta'\n",
        "df.loc[(df['lineage'] != 'B.1.1.7') & (df['lineage'] != 'Q.1') & (df['lineage'] != 'Q.2') & (df['lineage'] != 'Q.3') & (df['lineage'] != 'Q.4') & (df['lineage'] != 'Q.5') & (df['lineage'] != 'Q.6') & (df['lineage'] != 'Q.7') & (df['lineage'] != 'Q.8') & (df['lineage'] != 'B.1.351') & (df['lineage'] != 'P.1') & (df['lineage'] != 'B.1.525') & (df['lineage'] != 'B.1.526') & (df['lineage'] != 'B.1.617.1') & (df['lineage'] != 'C.37') & (df['lineage'] != 'B.1.621') & (df['lineage'] != 'B.1.427') & (df['lineage'] != 'B.1.429') & (df['lineage'] != 'R.1') & (df['lineage'] != 'B.1.466.2') & (df['lineage'] != 'B.1.1.318') & (df['lineage'] != 'B.1.1.519') & (df['lineage'] != 'C.36.3') & (df['lineage'] != 'B.1.214.2') & (df['lineage'] != 'B.1.1.523') & (df['lineage'] != 'B.1.619') & (df['lineage'] != 'B.1.620') & (df['lineage'] != 'C.1.2') & (df['lineage'] != 'B.1.617.2') & (df['lineage'] != 'AY.1') & (df['lineage'] != 'AY.2') & (df['lineage'] != 'AY.3') & (df['lineage'] != 'AY.3.1') & (df['lineage'] != 'AY.4') & (df['lineage'] != 'AY.5') & (df['lineage'] != 'AY.5.1') & (df['lineage'] != 'AY.5.2') & (df['lineage'] != 'AY.6') & (df['lineage'] != 'AY.7') & (df['lineage'] != 'AY.7.1') & (df['lineage'] != 'AY.7.2') & (df['lineage'] != 'AY.8') & (df['lineage'] != 'AY.9') & (df['lineage'] != 'AY.10') & (df['lineage'] != 'AY.11') & (df['lineage'] != 'AY.12') & (df['lineage'] != 'AY.13') & (df['lineage'] != 'AY.14') & (df['lineage'] != 'AY.15') & (df['lineage'] != 'AY.16') & (df['lineage'] != 'AY.17') & (df['lineage'] != 'AY.18') & (df['lineage'] != 'AY.19') & (df['lineage'] != 'AY.20') & (df['lineage'] != 'AY.21') & (df['lineage'] != 'AY.22') & (df['lineage'] != 'AY.23') & (df['lineage'] != 'AY.24') & (df['lineage'] != 'AY.25') & (df['lineage'] != 'AY.26') & (df['lineage'] != 'AY.27') & (df['lineage'] != 'AY.28') & (df['lineage'] != 'AY.29') & (df['lineage'] != 'AY.30') & (df['lineage'] != 'AY.31') & (df['lineage'] != 'AY.32') & (df['lineage'] != 'AY.33'), 'Status'] = 'Other'"
      ],
      "execution_count": null,
      "outputs": []
    },
    {
      "cell_type": "code",
      "metadata": {
        "id": "1CgkQLMnY5RF"
      },
      "source": [
        "#variant_naming"
      ],
      "execution_count": null,
      "outputs": []
    },
    {
      "cell_type": "code",
      "metadata": {
        "id": "iENkXzwlS1pd"
      },
      "source": [
        "df.loc[df['ImpLin'] == 'Alpha', 'Variant'] = 'VOC'\n",
        "df.loc[df['ImpLin'] == 'Beta', 'Variant'] = 'VOC'\n",
        "df.loc[df['ImpLin'] == 'Gamma', 'Variant'] = 'VOC'\n",
        "df.loc[df['ImpLin'] == 'Delta', 'Variant'] = 'VOC'\n",
        "df.loc[df['ImpLin'] == 'Eta', 'Variant'] = 'VOI'\n",
        "df.loc[df['ImpLin'] == 'Iota', 'Variant'] = 'VOI'\n",
        "df.loc[df['ImpLin'] == 'Kappa', 'Variant'] = 'VOI'\n",
        "df.loc[df['ImpLin'] == 'Lambda', 'Variant'] = 'VOI'\n",
        "df.loc[df['ImpLin'] == 'Mu', 'Variant'] = 'VOI'\n",
        "df.loc[df['ImpLin'] == 'Monitoring', 'Variant'] = 'Monitoring'\n",
        "df.loc[(df['ImpLin'] != 'Alpha') & (df['ImpLin'] != 'Beta') & (df['ImpLin'] != 'Gamma') & (df['ImpLin'] != 'Delta') & (df['ImpLin'] != 'Eta') & (df['ImpLin'] != 'Iota') & (df['ImpLin'] != 'Kappa') & (df['ImpLin'] != 'Lambda') & (df['ImpLin'] != 'Mu') & (df['ImpLin'] != 'Monitoring'), 'Status'] = 'Other'"
      ],
      "execution_count": null,
      "outputs": []
    },
    {
      "cell_type": "code",
      "metadata": {
        "id": "MFYMgAe1_1UF"
      },
      "source": [
        "#df['lineage'].replace(['Alpha', 'Beta', 'Gamma', 'Delta', 'Eta', 'Iota', 'Kappa', 'Lambda', 'Mu'], ['VOC', 'VOC', 'VOC', 'VOC', 'VOI', 'VOI', 'VOI', 'VOI', 'VOI'], inplace = True)"
      ],
      "execution_count": null,
      "outputs": []
    }
  ]
}