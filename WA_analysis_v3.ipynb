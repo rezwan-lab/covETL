{
  "cells": [
    {
      "cell_type": "code",
      "execution_count": null,
      "metadata": {
        "colab": {
          "base_uri": "https://localhost:8080/"
        },
        "id": "HnNeAV1Uke7j",
        "outputId": "8603e344-03bf-4a44-d3cd-db3e3e2c8979"
      },
      "outputs": [
        {
          "output_type": "stream",
          "name": "stdout",
          "text": [
            "Looking in indexes: https://pypi.org/simple, https://us-python.pkg.dev/colab-wheels/public/simple/\n",
            "Collecting pivottablejs\n",
            "  Downloading pivottablejs-0.9.0-py2.py3-none-any.whl (4.7 kB)\n",
            "Installing collected packages: pivottablejs\n",
            "Successfully installed pivottablejs-0.9.0\n"
          ]
        }
      ],
      "source": [
        "import pandas as pd\n",
        "import numpy as np\n",
        "!pip install pivottablejs\n",
        "from pivottablejs import pivot_ui\n",
        "from IPython.display import HTML\n",
        "from IPython.display import IFrame\n",
        "import json, io"
      ]
    },
    {
      "cell_type": "code",
      "execution_count": null,
      "metadata": {
        "colab": {
          "base_uri": "https://localhost:8080/"
        },
        "id": "EuajdKsektB1",
        "outputId": "b4360e07-0ac5-4801-9e84-6f329573279c"
      },
      "outputs": [
        {
          "output_type": "stream",
          "name": "stdout",
          "text": [
            "Mounted at /content/drive\n"
          ]
        }
      ],
      "source": [
        "from google.colab import drive\n",
        "drive.mount('/content/drive')"
      ]
    },
    {
      "cell_type": "code",
      "source": [
        "# df = pd.read_csv (\"/content/drive/MyDrive/Colab Notebooks/WA108_IBDC_29.06.2022/IBDC-metadata.csv\")"
      ],
      "metadata": {
        "id": "KTJldeGTo8kU"
      },
      "execution_count": null,
      "outputs": []
    },
    {
      "cell_type": "code",
      "source": [
        "# df.columns"
      ],
      "metadata": {
        "id": "icksnth4pfBs"
      },
      "execution_count": null,
      "outputs": []
    },
    {
      "cell_type": "code",
      "execution_count": null,
      "metadata": {
        "id": "45URmgWhkvXy"
      },
      "outputs": [],
      "source": [
        "df = pd.read_table(\"/content/drive/MyDrive/BRICS_GISAID_India/BRICKS_GISAID_INDIA/nextstrain_metadata.tsv\", low_memory=False, index_col=False)"
      ]
    },
    {
      "cell_type": "code",
      "source": [
        "df.columns"
      ],
      "metadata": {
        "colab": {
          "base_uri": "https://localhost:8080/"
        },
        "id": "UT-n7aCrkQTr",
        "outputId": "1d1ec07e-f2ac-418b-b43d-cae0dd5bcc07"
      },
      "execution_count": null,
      "outputs": [
        {
          "output_type": "execute_result",
          "data": {
            "text/plain": [
              "Index(['strain', 'virus', 'gisaid_epi_isl', 'genbank_accession', 'date',\n",
              "       'region', 'country', 'division', 'location', 'region_exposure',\n",
              "       'country_exposure', 'division_exposure', 'segment', 'length', 'host',\n",
              "       'age', 'sex', 'originating_lab', 'submitting_lab', 'authors', 'url',\n",
              "       'title', 'paper_url', 'date_submitted', 'purpose_of_sequencing',\n",
              "       'lab_id', 'last_vaccinated', 'region_type', 'collection_month',\n",
              "       'collection_week', 'WHO_label', 'clade', 'Nextclade_pango',\n",
              "       'totalInsertions', 'insertions', 'totalFrameShifts', 'frameShifts',\n",
              "       'totalMissing', 'missing', 'totalNonACGTNs', 'nonACGTNs',\n",
              "       'substitutions', 'aaSubstitutions', 'deletions', 'aaDeletions',\n",
              "       'privateNucMutations.labeledSubstitutions', 'qc.overallStatus',\n",
              "       'privateNucMutations.unlabeledSubstitutions',\n",
              "       'privateNucMutations.totalLabeledSubstitutions',\n",
              "       'privateNucMutations.totalUnlabeledSubstitutions',\n",
              "       'privateNucMutations.totalPrivateSubstitutions', 'lineage',\n",
              "       'scorpio_call', 'scorpio_support', 'scorpio_conflict', 'note',\n",
              "       'qc_status'],\n",
              "      dtype='object')"
            ]
          },
          "metadata": {},
          "execution_count": 4
        }
      ]
    },
    {
      "cell_type": "code",
      "source": [
        "# df['substitutions'].astype(str)"
      ],
      "metadata": {
        "id": "tM0xXLHEVAN3"
      },
      "execution_count": null,
      "outputs": []
    },
    {
      "cell_type": "code",
      "source": [
        "df['total_substitutions'] = df['substitutions'].apply(lambda x: len(str(x).split(',')))"
      ],
      "metadata": {
        "id": "XR7vmRK2T2IV"
      },
      "execution_count": null,
      "outputs": []
    },
    {
      "cell_type": "code",
      "execution_count": null,
      "metadata": {
        "id": "tiRy__gZlGpj"
      },
      "outputs": [],
      "source": [
        "df.drop([ 'virus', 'age', 'sex', 'location', 'last_vaccinated', 'gisaid_epi_isl', 'genbank_accession', 'region', 'country', 'region_exposure', 'country_exposure', 'totalFrameShifts', 'missing', 'scorpio_support', 'scorpio_conflict', 'insertions', 'frameShifts', 'division_exposure', 'segment', 'length', 'host', 'originating_lab', 'authors', 'url',\n",
        "       'title', 'paper_url', 'date_submitted', 'purpose_of_sequencing', 'lab_id', 'privateNucMutations.labeledSubstitutions', 'privateNucMutations.unlabeledSubstitutions', 'totalInsertions', 'totalNonACGTNs', 'nonACGTNs', 'substitutions', 'deletions', 'scorpio_call', 'note','privateNucMutations.totalLabeledSubstitutions',\n",
        "       'privateNucMutations.totalUnlabeledSubstitutions',\n",
        "       'privateNucMutations.totalPrivateSubstitutions'], axis=1, inplace=True)"
      ]
    },
    {
      "cell_type": "code",
      "source": [
        "df.columns"
      ],
      "metadata": {
        "colab": {
          "base_uri": "https://localhost:8080/"
        },
        "id": "gV3vhpzlSgGF",
        "outputId": "9e1bb31d-7045-4c20-ba6b-7e7f8aa5672a"
      },
      "execution_count": null,
      "outputs": [
        {
          "output_type": "execute_result",
          "data": {
            "text/plain": [
              "Index(['strain', 'date', 'division', 'submitting_lab', 'region_type',\n",
              "       'collection_month', 'collection_week', 'WHO_label', 'clade',\n",
              "       'Nextclade_pango', 'totalMissing', 'aaSubstitutions', 'aaDeletions',\n",
              "       'qc.overallStatus', 'lineage', 'qc_status', 'total_substitutions'],\n",
              "      dtype='object')"
            ]
          },
          "metadata": {},
          "execution_count": 7
        }
      ]
    },
    {
      "cell_type": "code",
      "source": [
        "df.head(2)"
      ],
      "metadata": {
        "colab": {
          "base_uri": "https://localhost:8080/",
          "height": 350
        },
        "id": "qbc8YH5ZTL7t",
        "outputId": "6a7d5aa5-d311-4bf9-c519-0a716cca12fb"
      },
      "execution_count": null,
      "outputs": [
        {
          "output_type": "execute_result",
          "data": {
            "text/plain": [
              "                                        strain        date        division  \\\n",
              "0  India/MP-AIIMS_B-ICMR-INSACOG-WGS-1006/2022  2022-06-01  Madhya Pradesh   \n",
              "1  India/MP-AIIMS_B-ICMR-INSACOG-WGS-1008/2022  2022-05-17  Madhya Pradesh   \n",
              "\n",
              "  submitting_lab    region_type collection_month collection_week WHO_label  \\\n",
              "0   AIIMS Bhopal  Central India         Jun-2022        W22-2022   Omicron   \n",
              "1   AIIMS Bhopal  Central India         May-2022        W20-2022   Omicron   \n",
              "\n",
              "           clade Nextclade_pango  totalMissing  \\\n",
              "0  22D (Omicron)       BA.2.75.1         550.0   \n",
              "1  21L (Omicron)         BA.2.38         279.0   \n",
              "\n",
              "                                     aaSubstitutions  \\\n",
              "0  E:T9I,E:T11A,M:Q19E,M:A63T,N:P13L,N:R203K,N:G2...   \n",
              "1  E:T9I,M:Q19E,M:A63T,N:P13L,N:R203K,N:G204R,N:S...   \n",
              "\n",
              "                                         aaDeletions qc.overallStatus  \\\n",
              "0  N:E31-,N:R32-,N:S33-,ORF1a:S3675-,ORF1a:G3676-...             good   \n",
              "1  N:E31-,N:R32-,N:S33-,ORF1a:S3675-,ORF1a:G3676-...             good   \n",
              "\n",
              "     lineage qc_status  total_substitutions  \n",
              "0  BA.2.75.1      pass                   78  \n",
              "1    BA.2.38      pass                   69  "
            ],
            "text/html": [
              "\n",
              "  <div id=\"df-f27fae60-1027-4774-a9a4-4bb1603d9753\">\n",
              "    <div class=\"colab-df-container\">\n",
              "      <div>\n",
              "<style scoped>\n",
              "    .dataframe tbody tr th:only-of-type {\n",
              "        vertical-align: middle;\n",
              "    }\n",
              "\n",
              "    .dataframe tbody tr th {\n",
              "        vertical-align: top;\n",
              "    }\n",
              "\n",
              "    .dataframe thead th {\n",
              "        text-align: right;\n",
              "    }\n",
              "</style>\n",
              "<table border=\"1\" class=\"dataframe\">\n",
              "  <thead>\n",
              "    <tr style=\"text-align: right;\">\n",
              "      <th></th>\n",
              "      <th>strain</th>\n",
              "      <th>date</th>\n",
              "      <th>division</th>\n",
              "      <th>submitting_lab</th>\n",
              "      <th>region_type</th>\n",
              "      <th>collection_month</th>\n",
              "      <th>collection_week</th>\n",
              "      <th>WHO_label</th>\n",
              "      <th>clade</th>\n",
              "      <th>Nextclade_pango</th>\n",
              "      <th>totalMissing</th>\n",
              "      <th>aaSubstitutions</th>\n",
              "      <th>aaDeletions</th>\n",
              "      <th>qc.overallStatus</th>\n",
              "      <th>lineage</th>\n",
              "      <th>qc_status</th>\n",
              "      <th>total_substitutions</th>\n",
              "    </tr>\n",
              "  </thead>\n",
              "  <tbody>\n",
              "    <tr>\n",
              "      <th>0</th>\n",
              "      <td>India/MP-AIIMS_B-ICMR-INSACOG-WGS-1006/2022</td>\n",
              "      <td>2022-06-01</td>\n",
              "      <td>Madhya Pradesh</td>\n",
              "      <td>AIIMS Bhopal</td>\n",
              "      <td>Central India</td>\n",
              "      <td>Jun-2022</td>\n",
              "      <td>W22-2022</td>\n",
              "      <td>Omicron</td>\n",
              "      <td>22D (Omicron)</td>\n",
              "      <td>BA.2.75.1</td>\n",
              "      <td>550.0</td>\n",
              "      <td>E:T9I,E:T11A,M:Q19E,M:A63T,N:P13L,N:R203K,N:G2...</td>\n",
              "      <td>N:E31-,N:R32-,N:S33-,ORF1a:S3675-,ORF1a:G3676-...</td>\n",
              "      <td>good</td>\n",
              "      <td>BA.2.75.1</td>\n",
              "      <td>pass</td>\n",
              "      <td>78</td>\n",
              "    </tr>\n",
              "    <tr>\n",
              "      <th>1</th>\n",
              "      <td>India/MP-AIIMS_B-ICMR-INSACOG-WGS-1008/2022</td>\n",
              "      <td>2022-05-17</td>\n",
              "      <td>Madhya Pradesh</td>\n",
              "      <td>AIIMS Bhopal</td>\n",
              "      <td>Central India</td>\n",
              "      <td>May-2022</td>\n",
              "      <td>W20-2022</td>\n",
              "      <td>Omicron</td>\n",
              "      <td>21L (Omicron)</td>\n",
              "      <td>BA.2.38</td>\n",
              "      <td>279.0</td>\n",
              "      <td>E:T9I,M:Q19E,M:A63T,N:P13L,N:R203K,N:G204R,N:S...</td>\n",
              "      <td>N:E31-,N:R32-,N:S33-,ORF1a:S3675-,ORF1a:G3676-...</td>\n",
              "      <td>good</td>\n",
              "      <td>BA.2.38</td>\n",
              "      <td>pass</td>\n",
              "      <td>69</td>\n",
              "    </tr>\n",
              "  </tbody>\n",
              "</table>\n",
              "</div>\n",
              "      <button class=\"colab-df-convert\" onclick=\"convertToInteractive('df-f27fae60-1027-4774-a9a4-4bb1603d9753')\"\n",
              "              title=\"Convert this dataframe to an interactive table.\"\n",
              "              style=\"display:none;\">\n",
              "        \n",
              "  <svg xmlns=\"http://www.w3.org/2000/svg\" height=\"24px\"viewBox=\"0 0 24 24\"\n",
              "       width=\"24px\">\n",
              "    <path d=\"M0 0h24v24H0V0z\" fill=\"none\"/>\n",
              "    <path d=\"M18.56 5.44l.94 2.06.94-2.06 2.06-.94-2.06-.94-.94-2.06-.94 2.06-2.06.94zm-11 1L8.5 8.5l.94-2.06 2.06-.94-2.06-.94L8.5 2.5l-.94 2.06-2.06.94zm10 10l.94 2.06.94-2.06 2.06-.94-2.06-.94-.94-2.06-.94 2.06-2.06.94z\"/><path d=\"M17.41 7.96l-1.37-1.37c-.4-.4-.92-.59-1.43-.59-.52 0-1.04.2-1.43.59L10.3 9.45l-7.72 7.72c-.78.78-.78 2.05 0 2.83L4 21.41c.39.39.9.59 1.41.59.51 0 1.02-.2 1.41-.59l7.78-7.78 2.81-2.81c.8-.78.8-2.07 0-2.86zM5.41 20L4 18.59l7.72-7.72 1.47 1.35L5.41 20z\"/>\n",
              "  </svg>\n",
              "      </button>\n",
              "      \n",
              "  <style>\n",
              "    .colab-df-container {\n",
              "      display:flex;\n",
              "      flex-wrap:wrap;\n",
              "      gap: 12px;\n",
              "    }\n",
              "\n",
              "    .colab-df-convert {\n",
              "      background-color: #E8F0FE;\n",
              "      border: none;\n",
              "      border-radius: 50%;\n",
              "      cursor: pointer;\n",
              "      display: none;\n",
              "      fill: #1967D2;\n",
              "      height: 32px;\n",
              "      padding: 0 0 0 0;\n",
              "      width: 32px;\n",
              "    }\n",
              "\n",
              "    .colab-df-convert:hover {\n",
              "      background-color: #E2EBFA;\n",
              "      box-shadow: 0px 1px 2px rgba(60, 64, 67, 0.3), 0px 1px 3px 1px rgba(60, 64, 67, 0.15);\n",
              "      fill: #174EA6;\n",
              "    }\n",
              "\n",
              "    [theme=dark] .colab-df-convert {\n",
              "      background-color: #3B4455;\n",
              "      fill: #D2E3FC;\n",
              "    }\n",
              "\n",
              "    [theme=dark] .colab-df-convert:hover {\n",
              "      background-color: #434B5C;\n",
              "      box-shadow: 0px 1px 3px 1px rgba(0, 0, 0, 0.15);\n",
              "      filter: drop-shadow(0px 1px 2px rgba(0, 0, 0, 0.3));\n",
              "      fill: #FFFFFF;\n",
              "    }\n",
              "  </style>\n",
              "\n",
              "      <script>\n",
              "        const buttonEl =\n",
              "          document.querySelector('#df-f27fae60-1027-4774-a9a4-4bb1603d9753 button.colab-df-convert');\n",
              "        buttonEl.style.display =\n",
              "          google.colab.kernel.accessAllowed ? 'block' : 'none';\n",
              "\n",
              "        async function convertToInteractive(key) {\n",
              "          const element = document.querySelector('#df-f27fae60-1027-4774-a9a4-4bb1603d9753');\n",
              "          const dataTable =\n",
              "            await google.colab.kernel.invokeFunction('convertToInteractive',\n",
              "                                                     [key], {});\n",
              "          if (!dataTable) return;\n",
              "\n",
              "          const docLinkHtml = 'Like what you see? Visit the ' +\n",
              "            '<a target=\"_blank\" href=https://colab.research.google.com/notebooks/data_table.ipynb>data table notebook</a>'\n",
              "            + ' to learn more about interactive tables.';\n",
              "          element.innerHTML = '';\n",
              "          dataTable['output_type'] = 'display_data';\n",
              "          await google.colab.output.renderOutput(dataTable, element);\n",
              "          const docLink = document.createElement('div');\n",
              "          docLink.innerHTML = docLinkHtml;\n",
              "          element.appendChild(docLink);\n",
              "        }\n",
              "      </script>\n",
              "    </div>\n",
              "  </div>\n",
              "  "
            ]
          },
          "metadata": {},
          "execution_count": 8
        }
      ]
    },
    {
      "cell_type": "code",
      "execution_count": null,
      "metadata": {
        "id": "2tvzav71QuGd"
      },
      "outputs": [],
      "source": [
        "Alpha = ['B.1.1.7', 'Q.']\n",
        "Omicron = ['B.1.1.529']\n",
        "BA1 = ['BA.1']\n",
        "BA1X = ['BA.1.']\n",
        "BA210 = ['BA.2.10']\n",
        "BA2101 = ['BA.2.10.1']\n",
        "BA212 = ['BA.2.12']\n",
        "BA2121 = ['BA.2.12.1']\n",
        "BA2X = ['BA.2.']\n",
        "BA2 = ['BA.2']\n",
        "BA3 = ['BA.3']\n",
        "BA4 = ['BA.4']\n",
        "BA5 = ['BA.5']\n",
        "BA5X = ['BA.5., BF., BE.']\n",
        "Beta = ['B.1.351']\n",
        "Gamma = ['P.1']\n",
        "Zeta = ['P.2']\n",
        "Theta = ['P.3']\n",
        "Eta = ['B.1.525']\n",
        "Iota = ['B.1.526']\n",
        "Kappa = ['B.1.617.1']\n",
        "Lambda = ['C.37']\n",
        "Mu = ['B.1.621']\n",
        "Epsilon =['B.1.427','B.1.429']\n",
        "Monitoring = ['AZ.5','C.1.2','B.1.630']\n",
        "Delta = ['B.1.617.2', 'AY.']\n",
        "Unassigned = ['Unassigned']\n",
        "Other = Alpha+Omicron+BA1+BA1X+BA2+BA210+BA2101+BA212+BA2121+BA2X+BA3+BA4+BA5+BA5X+Beta+Gamma+Zeta+Theta+Eta+Iota+Kappa+Lambda+Mu+Epsilon+Monitoring+Delta+Unassigned"
      ]
    },
    {
      "cell_type": "code",
      "execution_count": null,
      "metadata": {
        "id": "ihjZm0jTQ38U"
      },
      "outputs": [],
      "source": [
        "df.loc[(df.lineage.str.contains(\n",
        "    '|'.join(Alpha))),  'WHO_Label'] = 'Alpha'\n",
        "df.loc[(df.lineage.str.contains(\n",
        "    '|'.join(Omicron))),  'WHO_Label'] = 'Omicron'\n",
        "# df.loc[(df.lineage.str.contains(\n",
        "#     '|'.join(Omicron1))),  'WHO_Label'] = df.lineage\n",
        "df.loc[(df.lineage.str.contains(\n",
        "    '|'.join(BA1))),  'WHO_Label'] = 'BA.1'\n",
        "df.loc[(df.lineage.str.contains(\n",
        "    '|'.join(BA1X))),  'WHO_Label'] = 'BA.1.X'\n",
        "df.loc[(df.lineage.str.contains(\n",
        "    '|'.join(BA2))),  'WHO_Label'] = 'BA.2'\n",
        "df.loc[(df.lineage.str.contains(\n",
        "    '|'.join(BA210))),  'WHO_Label'] = 'BA.2.10'\n",
        "df.loc[(df.lineage.str.contains(\n",
        "    '|'.join(BA2101))),  'WHO_Label'] = 'BA.2.10.1'\n",
        "df.loc[(df.lineage.str.contains(\n",
        "    '|'.join(BA212))),  'WHO_Label'] = 'BA.2.12'\n",
        "df.loc[(df.lineage.str.contains(\n",
        "    '|'.join(BA2121))),  'WHO_Label'] = 'BA.2.12.1'\n",
        "df.loc[(df.lineage.str.contains(\n",
        "    '|'.join(BA2X))),  'WHO_Label'] = 'BA.2.X'\n",
        "df.loc[(df.lineage.str.contains(\n",
        "    '|'.join(BA3))),  'WHO_Label'] = 'BA.3'\n",
        "df.loc[(df.lineage.str.contains(\n",
        "    '|'.join(BA4))),  'WHO_Label'] = 'BA.4'\n",
        "df.loc[(df.lineage.str.contains(\n",
        "    '|'.join(BA5))),  'WHO_Label'] = 'BA.5'\n",
        "df.loc[(df.lineage.str.contains(\n",
        "    '|'.join(BA5X))),  'WHO_Label'] = 'BA.5.X'\n",
        "df.loc[(df.lineage.str.contains(\n",
        "    '|'.join(Beta))),  'WHO_Label'] = 'Beta'\n",
        "df.loc[(df.lineage.str.contains(\n",
        "    '|'.join(Gamma))),  'WHO_Label'] = 'Gamma'\n",
        "df.loc[(df.lineage.str.contains(\n",
        "    '|'.join(Zeta))),  'WHO_Label'] = 'Zeta'\n",
        "df.loc[(df.lineage.str.contains(\n",
        "    '|'.join(Theta))),  'WHO_Label'] = 'Theta'\n",
        "df.loc[(df.lineage.str.contains(\n",
        "    '|'.join(Eta))),  'WHO_Label'] = 'Eta'\n",
        "df.loc[(df.lineage.str.contains(\n",
        "    '|'.join(Iota))),  'WHO_Label'] = 'Iota'\n",
        "df.loc[(df.lineage.str.contains(\n",
        "    '|'.join(Kappa))),  'WHO_Label'] = 'Kappa'\n",
        "df.loc[(df.lineage.str.contains(\n",
        "    '|'.join(Lambda))),  'WHO_Label'] = 'Lambda'\n",
        "df.loc[(df.lineage.str.contains(\n",
        "    '|'.join(Mu))),  'WHO_Label'] = 'Mu'\n",
        "df.loc[(df.lineage.str.contains(\n",
        "    '|'.join(Epsilon))),  'WHO_Label'] = 'Epsilon'\n",
        "df.loc[(df.lineage.str.contains(\n",
        "    '|'.join(Monitoring))),  'WHO_Label'] = 'Monitoring'\n",
        "df.loc[(df.lineage.str.contains(\n",
        "    '|'.join(Delta))),  'WHO_Label'] = 'Delta'\n",
        "df.loc[~(df.lineage.str.contains(\n",
        "    '|'.join(Other))),  'WHO_Label'] = 'Other'\n",
        "df.loc[(df.lineage.str.contains(\n",
        "    '|'.join(Unassigned))),  'WHO_Label'] = 'Unassigned'"
      ]
    },
    {
      "cell_type": "code",
      "execution_count": null,
      "metadata": {
        "id": "Y2MDwnauRlZa"
      },
      "outputs": [],
      "source": [
        "# df.head(2)"
      ]
    },
    {
      "cell_type": "code",
      "execution_count": null,
      "metadata": {
        "id": "3tpOvcdMlXLd"
      },
      "outputs": [],
      "source": [
        "df[\"date\"] = pd.to_datetime(df[\"date\"])\n",
        "df[\"year\"] = df[\"date\"].dt.year\n",
        "df[\"month\"] = df[\"date\"].dt.month\n",
        "df['count']=1"
      ]
    },
    {
      "cell_type": "code",
      "source": [
        "df.columns"
      ],
      "metadata": {
        "colab": {
          "base_uri": "https://localhost:8080/"
        },
        "id": "5ZvJkLSZT7-V",
        "outputId": "8be98647-6605-4861-f499-eacce9d06575"
      },
      "execution_count": null,
      "outputs": [
        {
          "output_type": "execute_result",
          "data": {
            "text/plain": [
              "Index(['strain', 'date', 'division', 'submitting_lab', 'region_type',\n",
              "       'collection_month', 'collection_week', 'WHO_label', 'clade',\n",
              "       'Nextclade_pango', 'totalMissing', 'aaSubstitutions', 'aaDeletions',\n",
              "       'qc.overallStatus', 'lineage', 'qc_status', 'total_substitutions',\n",
              "       'WHO_Label', 'year', 'month', 'count'],\n",
              "      dtype='object')"
            ]
          },
          "metadata": {},
          "execution_count": 13
        }
      ]
    },
    {
      "cell_type": "code",
      "execution_count": null,
      "metadata": {
        "id": "hI3Knc1LTQU8"
      },
      "outputs": [],
      "source": [
        "# df_fig = df.drop([ 'insertions', 'totalFrameShifts', 'frameShifts', 'totalMissing', 'last_vaccinated', 'missing', 'aaDeletions', 'privateNucMutations.labeledSubstitutions', 'privateNucMutations.unlabeledSubstitutions', 'scorpio_support', 'scorpio_conflict',  'month'], axis=1)"
      ]
    },
    {
      "cell_type": "code",
      "execution_count": null,
      "metadata": {
        "id": "pLgbO4Z57pqL"
      },
      "outputs": [],
      "source": [
        "# df_fig.head(2)"
      ]
    },
    {
      "cell_type": "code",
      "execution_count": null,
      "metadata": {
        "id": "YLxTrAJwqW3G"
      },
      "outputs": [],
      "source": [
        "def pivot_cht_html(df, outfile_path = \"Lineage.html\", url=\"\",\n",
        "    width=\"100%\", height=\"400\",json_kwargs='',  **kwargs):\n",
        "  with io.open(outfile_path, 'wt', encoding='utf8') as outfile:\n",
        "      csv = df.to_csv(encoding='utf8')\n",
        "      if hasattr(csv, 'decode'):\n",
        "          csv = csv.decode('utf8')\n",
        "      outfile.write(TEMPLATE %\n",
        "            dict(csv=csv, kwargs=json.dumps(kwargs),json_kwargs=json_kwargs))\n",
        "\n",
        "  IFrame(src=url or outfile_path, width=width, height=height)\n",
        "  return HTML(outfile_path)\n",
        "\n",
        "pivot_ui(df,outfile_path='Lineage.html')\n",
        "HTML('Lineage.html')"
      ]
    },
    {
      "cell_type": "code",
      "execution_count": null,
      "metadata": {
        "id": "edaoe9JDpwdK"
      },
      "outputs": [],
      "source": [
        "df.to_excel(\"Lineage.xlsx\", index=False)"
      ]
    },
    {
      "cell_type": "code",
      "execution_count": null,
      "metadata": {
        "id": "bXCgn0LzqqPG"
      },
      "outputs": [],
      "source": [
        "# df.to_csv('Lineage_old.csv', index=False)\n"
      ]
    },
    {
      "cell_type": "code",
      "source": [
        "df.to_csv('Lineage.tsv', sep=\"\\t\", index=False)"
      ],
      "metadata": {
        "id": "SmR-4m_Dxv6Y"
      },
      "execution_count": null,
      "outputs": []
    },
    {
      "cell_type": "code",
      "execution_count": null,
      "metadata": {
        "id": "EvQhtgnNa57u"
      },
      "outputs": [],
      "source": [
        "# df.to_excel(\"Lineage_old.xlsx\", index=False)"
      ]
    },
    {
      "cell_type": "code",
      "source": [
        "l11 = df[df['collection_month'] == 'May-2022']\n",
        "l12 = df[df['collection_month'] == 'Jun-2022']\n",
        "l13 = df[df['collection_month'] == 'Jul-2022']\n",
        "l14 = df[df['collection_month'] == 'Aug-2022']\n",
        "\n",
        "recent = pd.concat([l12,l13,l14], join=\"inner\")\n",
        "\n",
        "# recent.to_csv('recent.tsv', sep=\"\\t\", index=False)"
      ],
      "metadata": {
        "id": "8eq8aWIyAI60"
      },
      "execution_count": null,
      "outputs": []
    },
    {
      "cell_type": "code",
      "execution_count": null,
      "metadata": {
        "id": "TfcNtP_Vlb2Z"
      },
      "outputs": [],
      "source": [
        "recent['aaSubstitutions']=recent['aaSubstitutions'].map(str)\n",
        "recent['aaSubstitutions'] = recent['aaSubstitutions'].str.split(',')\n",
        "mut1 = recent.explode('aaSubstitutions')\n",
        "mut1 = recent.explode('aaSubstitutions')\n",
        "mut1[['gene', 'aaMutations']] = mut1['aaSubstitutions'].str.split(':', expand=True)"
      ]
    },
    {
      "cell_type": "code",
      "execution_count": null,
      "metadata": {
        "id": "_Ds4g1RvleXO"
      },
      "outputs": [],
      "source": [
        "mut2 = mut1['aaMutations'].str.split('(\\d+)([A-Za-z]+)', expand=True)\n",
        "mut3 = pd.concat([mut1, mut2], axis=1, join='inner')\n",
        "mut3.rename(columns={0:'RefAA', 1:'Position', 2:'AltAA'}, inplace=True)\n",
        "mut3.drop(3, axis=1, inplace=True)\n",
        "#mut3.head(2)\n",
        "mut3[\"Position\"] = pd.to_numeric(mut3[\"Position\"])"
      ]
    },
    {
      "cell_type": "code",
      "source": [
        "mut3.to_csv('recentMJJA_mutation.tsv', sep=\"\\t\", index=False)"
      ],
      "metadata": {
        "id": "S4UHqCtwIHna"
      },
      "execution_count": null,
      "outputs": []
    },
    {
      "cell_type": "code",
      "execution_count": null,
      "metadata": {
        "id": "bEpx-RdZUo84"
      },
      "outputs": [],
      "source": [
        "# l10 = mut3[mut3['collection_month'] == 'May-2022']\n",
        "\n",
        "# l10.to_csv('apr_mutation.tsv', sep=\"\\t\", index=False)"
      ]
    },
    {
      "cell_type": "code",
      "source": [
        "# recent.to_excel(\"recent.xlsx\", index=False)"
      ],
      "metadata": {
        "id": "ZdghqVdJg9oD"
      },
      "execution_count": null,
      "outputs": []
    },
    {
      "cell_type": "code",
      "source": [
        "# def pivot_cht_html(recent, outfile_path = \"recent.html\", url=\"\",\n",
        "#     width=\"100%\", height=\"400\",json_kwargs='',  **kwargs):\n",
        "#   with io.open(outfile_path, 'wt', encoding='utf8') as outfile:\n",
        "#       csv = recent.to_csv(encoding='utf8')\n",
        "#       if hasattr(csv, 'decode'):\n",
        "#           csv = csv.decode('utf8')\n",
        "#       outfile.write(TEMPLATE %\n",
        "#             dict(csv=csv, kwargs=json.dumps(kwargs),json_kwargs=json_kwargs))\n",
        "\n",
        "#   IFrame(src=url or outfile_path, width=width, height=height)\n",
        "#   return HTML(outfile_path)\n",
        "\n",
        "# pivot_ui(recent,outfile_path='recent.html')\n",
        "# HTML('recent.html')"
      ],
      "metadata": {
        "id": "pmqASMis8BqS"
      },
      "execution_count": null,
      "outputs": []
    },
    {
      "cell_type": "code",
      "source": [
        "# ba_2 = mut3[mut3['lineage'] == 'BA.2']"
      ],
      "metadata": {
        "id": "INT88rRMV1k_"
      },
      "execution_count": null,
      "outputs": []
    },
    {
      "cell_type": "code",
      "source": [
        "array = ['ORF1a:S135R', 'ORF1a:T842I', 'ORF1a:K856R', 'ORF1a:G1307S', 'ORF1a:S2083I', 'ORF1a:A2710T', 'ORF1a:L3027F', 'ORF1a:T3090I', 'ORF1a:L3201F', 'ORF1a:T3255I', 'ORF1a:P3395H', 'ORF1a:I3758V',\n",
        "'ORF1b:P314L', 'ORF1b:R1315C', 'ORF1b:I1566V', 'ORF1b:T2163I', 'S:T19I', 'S:L24S', 'S:del25/27', 'S:A67V', 'S:del69/70', 'S:T95I', 'S:G142D', 'S:N211I', 'S:V213G', 'S:G339D', 'S:R346K', 'S:S371F', 'S:S373P', 'S:S375F', 'S:T376A', 'S:D405N', 'S:R408S', 'S:K417N', 'S:N440K', 'S:S477N', 'S:T478K', 'S:E484A', 'S:Q493R', 'S:G496S', 'S:Q498R',\n",
        "'S:N501Y', 'S:Y505H', 'S:T547K', 'S:D614G', 'S:H655Y', 'S:N679K', 'S:P681H', 'S:N764K', 'S:D796Y', 'S:N856K', 'S:Q954H', 'S:N969K', 'S:L981F', 'ORF3a:T223I', 'E:T9I', 'M:D3G', 'M:Q19E', 'M:A63T', 'ORF6:D61L', 'ORF8:S84L', 'N:P13L', 'N:R203K', 'N:G204R', 'N:S413R']\n",
        "mutation2 = mut3.loc[~mut3['aaSubstitutions'].isin(array)]"
      ],
      "metadata": {
        "id": "FamsZfs4V-Yu"
      },
      "execution_count": null,
      "outputs": []
    },
    {
      "cell_type": "code",
      "source": [
        "mutation2.to_csv('recent_excludeOmicron.tsv', sep=\"\\t\", index=False)"
      ],
      "metadata": {
        "id": "WDyX56184998"
      },
      "execution_count": null,
      "outputs": []
    },
    {
      "cell_type": "code",
      "source": [
        "mutation2.to_excel(\"recent_excludeOmicron.xlsx\", index=False)"
      ],
      "metadata": {
        "id": "8FwjLyQ22aBc"
      },
      "execution_count": null,
      "outputs": []
    },
    {
      "cell_type": "code",
      "source": [
        "def pivot_cht_html(mutation2, outfile_path = \"recent_excludeOmicron.html\", url=\"\",\n",
        "    width=\"100%\", height=\"400\",json_kwargs='',  **kwargs):\n",
        "  with io.open(outfile_path, 'wt', encoding='utf8') as outfile:\n",
        "      csv = mutation2.to_csv(encoding='utf8')\n",
        "      if hasattr(csv, 'decode'):\n",
        "          csv = csv.decode('utf8')\n",
        "      outfile.write(TEMPLATE %\n",
        "            dict(csv=csv, kwargs=json.dumps(kwargs),json_kwargs=json_kwargs))\n",
        "\n",
        "  IFrame(src=url or outfile_path, width=width, height=height)\n",
        "  return HTML(outfile_path)\n",
        "\n",
        "pivot_ui(mutation2,outfile_path='recent_excludeOmicron.html')\n",
        "HTML('recent_excludeOmicron.html')"
      ],
      "metadata": {
        "id": "YUzKyCyw2pQa"
      },
      "execution_count": null,
      "outputs": []
    },
    {
      "cell_type": "code",
      "source": [
        "# array = ['ORF1a:S135R', 'ORF1a:T842I', 'ORF1a:K856R', 'ORF1a:G1307S', 'ORF1a:S2083I', 'ORF1a:A2710T', 'ORF1a:L3027F', 'ORF1a:T3090I', 'ORF1a:L3201F', 'ORF1a:T3255I', 'ORF1a:P3395H', 'ORF1a:I3758V',\n",
        "# 'ORF1b:P314L', 'ORF1b:R1315C', 'ORF1b:I1566V', 'ORF1b:T2163I', 'S:T19I', 'S:L24S', 'S:del25/27', 'S:A67V', 'S:del69/70', 'S:T95I', 'S:G142D', 'S:N211I', 'S:V213G', 'S:G339D', 'S:R346K', 'S:S371F', 'S:S373P', 'S:S375F', 'S:T376A', 'S:D405N', 'S:R408S', 'S:K417N', 'S:N440K', 'S:S477N', 'S:T478K', 'S:E484A', 'S:Q493R', 'S:G496S', 'S:Q498R',\n",
        "# 'S:N501Y', 'S:Y505H', 'S:T547K', 'S:D614G', 'S:H655Y', 'S:N679K', 'S:P681H', 'S:N764K', 'S:D796Y', 'S:N856K', 'S:Q954H', 'S:N969K', 'S:L981F', 'ORF3a:T223I', 'E:T9I', 'M:D3G', 'M:Q19E', 'M:A63T', 'ORF6:D61L', 'ORF8:S84L', 'N:P13L', 'N:R203K', 'N:G204R', 'N:S413R']\n",
        "# mutation2 = recent.loc[~recent['aaSubstitutions'].isin(array)]\n",
        "\n"
      ],
      "metadata": {
        "id": "4NUp1vk7zSDD"
      },
      "execution_count": null,
      "outputs": []
    },
    {
      "cell_type": "code",
      "source": [
        "# ba1 = mut3[mut3['lineage'] == 'Unassigned']\n",
        "# ba2 = mut3[mut3['lineage'] == 'BA.2.10']\n",
        "# ba3 = mut3[mut3['lineage'] == 'BA.2.10.1']\n",
        "# ba4 = mut3[mut3['lineage'] == 'BA.2']\n",
        "# bj = pd.concat([ba1, ba2, ba3, ba4], join=\"inner\")"
      ],
      "metadata": {
        "id": "5t1AuSiaKcrD"
      },
      "execution_count": null,
      "outputs": []
    },
    {
      "cell_type": "code",
      "source": [
        "array = [ 'S:V83A','S:H146Q','S:Q183E','S:V213E','S:G339H','S:R346T','S:L368I','S:V445P','S:G446S','S:V483A','S:F490V','S:G798D','S:S1003I']\n",
        "mutation3 = mut3.loc[mut3['aaSubstitutions'].isin(array)]"
      ],
      "metadata": {
        "id": "3sdS96W1INAY"
      },
      "execution_count": null,
      "outputs": []
    },
    {
      "cell_type": "code",
      "source": [
        "mutation3.to_csv('BJ_3.tsv', sep=\"\\t\", index=False)"
      ],
      "metadata": {
        "id": "bXiqH4kXJByN"
      },
      "execution_count": null,
      "outputs": []
    },
    {
      "cell_type": "code",
      "source": [
        "def pivot_cht_html(mutation3, outfile_path = \"BJ_3.html\", url=\"\",\n",
        "    width=\"100%\", height=\"400\",json_kwargs='',  **kwargs):\n",
        "  with io.open(outfile_path, 'wt', encoding='utf8') as outfile:\n",
        "      csv = mutation3.to_csv(encoding='utf8')\n",
        "      if hasattr(csv, 'decode'):\n",
        "          csv = csv.decode('utf8')\n",
        "      outfile.write(TEMPLATE %\n",
        "            dict(csv=csv, kwargs=json.dumps(kwargs),json_kwargs=json_kwargs))\n",
        "\n",
        "  IFrame(src=url or outfile_path, width=width, height=height)\n",
        "  return HTML(outfile_path)\n",
        "\n",
        "pivot_ui(mutation3,outfile_path='BJ_3.html')\n",
        "HTML('BJ_3.html')"
      ],
      "metadata": {
        "id": "7zb_aarBJLSf"
      },
      "execution_count": null,
      "outputs": []
    },
    {
      "cell_type": "code",
      "source": [
        "#Special case"
      ],
      "metadata": {
        "id": "gNZTnm6hFDZx"
      },
      "execution_count": null,
      "outputs": []
    },
    {
      "cell_type": "code",
      "source": [
        "# BA_2_75 = recent[recent['lineage'] == 'BA.2']"
      ],
      "metadata": {
        "id": "A71XrB-DFYXp"
      },
      "execution_count": null,
      "outputs": []
    },
    {
      "cell_type": "code",
      "source": [
        "# array = ['S:Q493Q', 'S:K147E', 'ORF1b:G662S', 'E:T11A', 'ORF1a:N4060S', 'ORF1a:P1640S', 'ORF1a:S1221L', 'S:G446S', 'S:F157L', 'S:N460K', 'S:G339H', 'S:G257S', 'S:I210V', 'S:W152R']\n",
        "# mutation3 = recent.loc[recent['aaSubstitutions'].isin(array)]"
      ],
      "metadata": {
        "id": "EafUkNju1N-J"
      },
      "execution_count": null,
      "outputs": []
    },
    {
      "cell_type": "code",
      "execution_count": null,
      "metadata": {
        "id": "yOsYGfQzXIrn"
      },
      "outputs": [],
      "source": [
        "# def pivot_cht_html(mutation3, outfile_path = \"BA_2_75_mutation3_2.html\", url=\"\",\n",
        "#     width=\"100%\", height=\"400\",json_kwargs='',  **kwargs):\n",
        "#   with io.open(outfile_path, 'wt', encoding='utf8') as outfile:\n",
        "#       csv = mutation3.to_csv(encoding='utf8')\n",
        "#       if hasattr(csv, 'decode'):\n",
        "#           csv = csv.decode('utf8')\n",
        "#       outfile.write(TEMPLATE %\n",
        "#             dict(csv=csv, kwargs=json.dumps(kwargs),json_kwargs=json_kwargs))\n",
        "\n",
        "#   IFrame(src=url or outfile_path, width=width, height=height)\n",
        "#   return HTML(outfile_path)\n",
        "\n",
        "# pivot_ui(mutation3,outfile_path='BA_2_75_mutation3_2.html')\n",
        "# HTML('BA_2_75_mutation3_2.html')"
      ]
    },
    {
      "cell_type": "code",
      "execution_count": null,
      "metadata": {
        "id": "bdfU0kA9tCxF"
      },
      "outputs": [],
      "source": [
        "#mut3.to_csv('mutation_complete.csv', index=False)"
      ]
    },
    {
      "cell_type": "code",
      "execution_count": null,
      "metadata": {
        "id": "5p5iwAdTlfMh"
      },
      "outputs": [],
      "source": [
        "# mutation1 = mut3[mut3['WHO_label'] == 'Omicron']"
      ]
    },
    {
      "cell_type": "code",
      "source": [
        "# mutation2.to_csv('mutation2.tsv', sep=\"\\t\", index=False)"
      ],
      "metadata": {
        "id": "NyC8-0082soQ"
      },
      "execution_count": null,
      "outputs": []
    },
    {
      "cell_type": "code",
      "execution_count": null,
      "metadata": {
        "id": "egKq3zH7tzmU"
      },
      "outputs": [],
      "source": [
        "#Omicron(BA.1, BA.1.1, BA.2)\n",
        "\n",
        "#upload_defining_mutations\n",
        "#omicron_defining = pd.read_table(\"/content/drive/MyDrive/Colab Notebooks/WA73_18.02.2022/omicron_defining.tsv\", sep='\\t')\n",
        "\n",
        "#omicron_additional = mutation1[~mutation1['aaSubstitutions'].isin(omicron_defining[\"aaSubstitutions\"])]\n",
        "\n",
        "#omicron_additional.to_csv('omicron_additional_mutations.csv', index=False)"
      ]
    },
    {
      "cell_type": "code",
      "execution_count": null,
      "metadata": {
        "id": "8ZMJakvRBWF0"
      },
      "outputs": [],
      "source": [
        "# def pivot_cht_html(mutation2, outfile_path = \"Omicron_additional_mutations.html\", url=\"\",\n",
        "#     width=\"100%\", height=\"400\",json_kwargs='',  **kwargs):\n",
        "#   with io.open(outfile_path, 'wt', encoding='utf8') as outfile:\n",
        "#       csv = mutation2.to_csv(encoding='utf8')\n",
        "#       if hasattr(csv, 'decode'):\n",
        "#           csv = csv.decode('utf8')\n",
        "#       outfile.write(TEMPLATE %\n",
        "#             dict(csv=csv, kwargs=json.dumps(kwargs),json_kwargs=json_kwargs))\n",
        "\n",
        "#   IFrame(src=url or outfile_path, width=width, height=height)\n",
        "#   return HTML(outfile_path)\n",
        "\n",
        "# pivot_ui(mutation2,outfile_path='Omicron_additional_mutations.html')\n",
        "# HTML('Omicron_additional_mutations.html')"
      ]
    },
    {
      "cell_type": "code",
      "execution_count": null,
      "metadata": {
        "id": "A18YK1um8ibz"
      },
      "outputs": [],
      "source": [
        "#recombinant = mut3[mut3['clade'] == 'recombinant']\n",
        "#recombinant.to_csv('recombinant.tsv', sep=\"\\t\", index=False)"
      ]
    },
    {
      "cell_type": "code",
      "execution_count": null,
      "metadata": {
        "id": "kg2gGGVXtMBk"
      },
      "outputs": [],
      "source": [
        "#mutation2 = mut3[~mut3[\"WHO_label\"].isin(['Omicron'])]\n",
        "\n",
        "\n",
        "#l10 = mutation2[mutation2['collection_month'] == 'Jan-2022']\n",
        "#l11 = mutation2[mutation2['collection_month'] == 'Feb-2022']\n",
        "\n",
        "#except_omicron = pd.concat([l10,l11], join=\"inner\")\n",
        "\n",
        "#except_omicron.to_csv('except_omicron.tsv', sep=\"\\t\", index=False)"
      ]
    },
    {
      "cell_type": "code",
      "execution_count": null,
      "metadata": {
        "id": "_95PYMDfXxx9"
      },
      "outputs": [],
      "source": [
        "#none1 = except_omicron[except_omicron['WHO_label'] == 'None']\n",
        "#none2 = none1[none1['collection_month'] == 'Feb-2022']"
      ]
    },
    {
      "cell_type": "code",
      "execution_count": null,
      "metadata": {
        "id": "Hw42Ox4_l9ZZ"
      },
      "outputs": [],
      "source": [
        "# array = ['ORF1a:S135R', 'ORF1a:T842I', 'ORF1a:K856R', 'ORF1a:G1307S', 'ORF1a:S2083I', 'ORF1a:A2710T', 'ORF1a:L3027F', 'ORF1a:T3090I', 'ORF1a:L3201F', 'ORF1a:T3255I', 'ORF1a:P3395H', 'ORF1a:I3758V',\n",
        "# 'ORF1b:P314L', 'ORF1b:R1315C', 'ORF1b:I1566V', 'ORF1b:T2163I', 'S:T19I', 'S:L24S', 'S:del25/27', 'S:A67V', 'S:del69/70', 'S:T95I', 'S:G142D', 'S:N211I', 'S:V213G', 'S:G339D', 'S:R346K', 'S:S371F', 'S:S373P', 'S:S375F', 'S:T376A', 'S:D405N', 'S:R408S', 'S:K417N', 'S:N440K', 'S:S477N', 'S:T478K', 'S:E484A', 'S:Q493R', 'S:G496S', 'S:Q498R',\n",
        "# 'S:N501Y', 'S:Y505H', 'S:T547K', 'S:D614G', 'S:H655Y', 'S:N679K', 'S:P681H', 'S:N764K', 'S:D796Y', 'S:N856K', 'S:Q954H', 'S:N969K', 'S:L981F', 'ORF3a:T223I', 'E:T9I', 'M:D3G', 'M:Q19E', 'M:A63T', 'ORF6:D61L', 'ORF8:S84L', 'N:P13L', 'N:R203K', 'N:G204R', 'N:S413R']\n",
        "# mutation2 = mutation1.loc[~mutation1['aaSubstitutions'].isin(array)]"
      ]
    },
    {
      "cell_type": "code",
      "execution_count": null,
      "metadata": {
        "id": "7cBVOhvtmAro"
      },
      "outputs": [],
      "source": [
        "#mutation2 = mutation1.loc[mutation1['aaSubstitutions'].isin(array)]\n",
        "#mutation2 = mutation1.loc[~mutation1['aaSubstitutions'].isin(array)]"
      ]
    },
    {
      "cell_type": "code",
      "execution_count": null,
      "metadata": {
        "id": "hWSGa7BemcYA"
      },
      "outputs": [],
      "source": [
        "# df1[df1['lineage'].isin(df2[\"lineage\"])]\n",
        "\n",
        "# #df1[~df1['lineage'].isin(df2[\"lineage\"])]"
      ]
    }
  ],
  "metadata": {
    "colab": {
      "provenance": []
    },
    "kernelspec": {
      "display_name": "Python 3",
      "name": "python3"
    },
    "language_info": {
      "name": "python"
    }
  },
  "nbformat": 4,
  "nbformat_minor": 0
}