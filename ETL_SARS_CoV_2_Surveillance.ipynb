{
  "nbformat": 4,
  "nbformat_minor": 0,
  "metadata": {
    "colab": {
      "provenance": []
    },
    "kernelspec": {
      "name": "python3",
      "display_name": "Python 3"
    },
    "language_info": {
      "name": "python"
    }
  },
  "cells": [
    {
      "cell_type": "markdown",
      "metadata": {
        "id": "UyaiI0y1-o4g"
      },
      "source": [
        "# **install_packages**"
      ]
    },
    {
      "cell_type": "markdown",
      "metadata": {
        "id": "Q-LcNKI58gkr"
      },
      "source": [
        "# New section"
      ]
    },
    {
      "cell_type": "markdown",
      "metadata": {
        "id": "YgRJpzQYM0Pb"
      },
      "source": [
        "# New section"
      ]
    },
    {
      "cell_type": "markdown",
      "metadata": {
        "id": "hgB4-BCF-6XJ"
      },
      "source": [
        "install_most_neccessary_pachages"
      ]
    },
    {
      "cell_type": "code",
      "metadata": {
        "id": "rmzM1cu5-NM4"
      },
      "source": [
        "import pandas as pd\n",
        "import numpy as np"
      ],
      "execution_count": null,
      "outputs": []
    },
    {
      "cell_type": "markdown",
      "metadata": {
        "id": "8PVJiKhx_HZN"
      },
      "source": [
        "install_packages_for_figure_generation"
      ]
    },
    {
      "cell_type": "code",
      "metadata": {
        "id": "-Icwql66_QO0"
      },
      "source": [
        "import seaborn as sns\n",
        "import matplotlib.pyplot as plt"
      ],
      "execution_count": null,
      "outputs": []
    },
    {
      "cell_type": "markdown",
      "metadata": {
        "id": "z68mjX67_q60"
      },
      "source": [
        "# **data_upload**"
      ]
    },
    {
      "cell_type": "markdown",
      "metadata": {
        "id": "pkkWGWBU_yN7"
      },
      "source": [
        "mount_gdrive"
      ]
    },
    {
      "cell_type": "code",
      "metadata": {
        "id": "P21rS5VX_xZV"
      },
      "source": [
        "from google.colab import drive\n",
        "drive.mount('/content/drive')"
      ],
      "execution_count": null,
      "outputs": []
    },
    {
      "cell_type": "markdown",
      "metadata": {
        "id": "yLEjhxkn_7pc"
      },
      "source": [
        "import_file"
      ]
    },
    {
      "cell_type": "markdown",
      "metadata": {
        "id": "RFQnAbhy_-Zk"
      },
      "source": [
        "if_file_in_tsv_format"
      ]
    },
    {
      "cell_type": "code",
      "metadata": {
        "id": "caPBwETTADUi"
      },
      "source": [
        "df = pd.read_table(\"/content/drive/MyDrive/LongReport_WeeklyAnalysis/WA19/nextstrain_metadata_01092021.tsv\", sep='\\t')"
      ],
      "execution_count": null,
      "outputs": []
    },
    {
      "cell_type": "markdown",
      "metadata": {
        "id": "Dy7Orf2zAHR5"
      },
      "source": [
        "if_file_in_csv_format"
      ]
    },
    {
      "cell_type": "code",
      "metadata": {
        "id": "MbBXqKVDARTp"
      },
      "source": [],
      "execution_count": null,
      "outputs": []
    },
    {
      "cell_type": "markdown",
      "metadata": {
        "id": "Uz85YocsAVb5"
      },
      "source": [
        "# **data_clean**"
      ]
    },
    {
      "cell_type": "markdown",
      "metadata": {
        "id": "57B8CN-gAag4"
      },
      "source": [
        "delete_unnessary_columns_change_in_dataset"
      ]
    },
    {
      "cell_type": "code",
      "metadata": {
        "id": "TqaqwvuEAq6Q"
      },
      "source": [
        "df.drop([ 'virus','gisaid_epi_isl', 'genbank_accession', 'region', 'region_exposure', 'country_exposure', 'division_exposure', 'segment', 'length', 'host', 'originating_lab', 'authors', 'url',\n",
        "       'title', 'paper_url', 'date_submitted', 'purpose_of_sequencing', 'lab_id', 'totalInsertions', 'totalMissing', 'totalNonACGTNs', 'nonACGTNs', 'substitutions',\n",
        "       'deletions', 'scorpio_call', 'note', 'pangoLEARN_version'], axis=1, inplace=True)\n",
        "df.head(2)"
      ],
      "execution_count": null,
      "outputs": []
    },
    {
      "cell_type": "markdown",
      "metadata": {
        "id": "-zG9ywiSB4mb"
      },
      "source": [
        "delete_unnessary_columns_change_without_dataset"
      ]
    },
    {
      "cell_type": "code",
      "metadata": {
        "id": "YJAX-5CBBzQ5"
      },
      "source": [
        "#delete unnessary columns\n",
        "df_seq_ana1=df.drop([ 'country', 'age','sex','submitting_lab','last_vaccinated','clade','aaSubstitutions', 'aaDeletions'], axis=1)\n",
        "df_seq_ana1.head(2)"
      ],
      "execution_count": null,
      "outputs": []
    },
    {
      "cell_type": "code",
      "metadata": {
        "id": "dJfnp8a9CcuS"
      },
      "source": [],
      "execution_count": null,
      "outputs": []
    },
    {
      "cell_type": "markdown",
      "metadata": {
        "id": "EjeHe8Et8iux"
      },
      "source": [
        "# Lineage_Name_Change"
      ]
    },
    {
      "cell_type": "markdown",
      "metadata": {
        "id": "qnYxbcN8DCcP"
      },
      "source": [
        "copy column"
      ]
    },
    {
      "cell_type": "code",
      "metadata": {
        "id": "gXzDjvSDDEl2"
      },
      "source": [
        "df.assign(sen=df.sex)"
      ],
      "execution_count": null,
      "outputs": []
    },
    {
      "cell_type": "markdown",
      "metadata": {
        "id": "8Qjw3iea8p10"
      },
      "source": [
        "Alpha"
      ]
    },
    {
      "cell_type": "code",
      "metadata": {
        "id": "2ptPkj-98o_k"
      },
      "source": [
        "df['lineage'].replace(['B.1.1.7', 'Q.1', 'Q.2', 'Q.3', 'Q.4', 'Q.5', 'Q.6', 'Q.7', 'Q.8'], ['Alpha', 'Alpha', 'Alpha', 'Alpha', 'Alpha', 'Alpha', 'Alpha', 'Alpha', 'Alpha'], inplace = True)"
      ],
      "execution_count": null,
      "outputs": []
    },
    {
      "cell_type": "markdown",
      "metadata": {
        "id": "qDX9SQKE8tT3"
      },
      "source": [
        "Delta"
      ]
    },
    {
      "cell_type": "code",
      "metadata": {
        "id": "3oKfZws38vR1"
      },
      "source": [
        "df['lineage'].replace(['B.1.617.2', 'AY.1', 'AY.2', 'AY.3', 'AY.3.1', 'AY.4', 'AY.5', 'AY.5.1', 'AY.5.2', 'AY.6', 'AY.7', 'AY.7.1', 'AY.7.2', 'AY.8', 'AY.9', 'AY.10', 'AY.11', 'AY.12', 'AY.13', 'AY.14', 'AY.15', 'AY.16', 'AY.17', 'AY.18', 'AY.19', 'AY.20', 'AY.21', 'AY.22', 'AY.23', 'AY.24', 'AY.25', 'AY.26', 'AY.27', 'AY.28', 'AY.29', 'AY.30', 'AY.31', 'AY.32', 'AY.33'], ['Delta','Delta', 'Delta','Delta','Delta','Delta','Delta','Delta','Delta','Delta','Delta','Delta','Delta','Delta','Delta','Delta','Delta','Delta','Delta','Delta','Delta','Delta','Delta','Delta','Delta','Delta','Delta','Delta','Delta','Delta','Delta','Delta','Delta','Delta','Delta','Delta','Delta','Delta','Delta'], inplace = True)"
      ],
      "execution_count": null,
      "outputs": []
    },
    {
      "cell_type": "markdown",
      "metadata": {
        "id": "tceJ9h9K-bdI"
      },
      "source": [
        "Gamma to Mu"
      ]
    },
    {
      "cell_type": "code",
      "metadata": {
        "id": "OW_IuRCJ80Ak"
      },
      "source": [
        "df['lineage'].replace(['B.1.351 ', 'P.1', 'B.1.525', 'B.1.526', 'B.1.617.1', 'C.37', 'B.1.621'], ['Beta', 'Gamma', 'Eta', 'Iota', 'Kappa', 'Lambda', 'Mu'], inplace = True)"
      ],
      "execution_count": null,
      "outputs": []
    },
    {
      "cell_type": "markdown",
      "metadata": {
        "id": "Ta3tS1vN-iDu"
      },
      "source": [
        "Monitoring"
      ]
    },
    {
      "cell_type": "code",
      "metadata": {
        "id": "ldjx-K3w-kqR"
      },
      "source": [
        "df['lineage'].replace(['B.1.427', 'B.1.429', 'R.1', 'B.1.466.2', 'B.1.1.318', 'B.1.1.519', 'C.36.3', 'B.1.214.2', 'B.1.1.523', 'B.1.619', 'B.1.620', 'C.1.2'], ['Monitoring', 'Monitoring', 'Monitoring', 'Monitoring', 'Monitoring', 'Monitoring', 'Monitoring', 'Monitoring', 'Monitoring', 'Monitoring', 'Monitoring', 'Monitoring'], inplace = True)"
      ],
      "execution_count": null,
      "outputs": []
    },
    {
      "cell_type": "markdown",
      "metadata": {
        "id": "vkeAnZln_1vZ"
      },
      "source": [
        "Variant rename"
      ]
    },
    {
      "cell_type": "code",
      "metadata": {
        "id": "MFYMgAe1_1UF"
      },
      "source": [
        "df['lineage'].replace(['Alpha', 'Beta', 'Gamma', 'Delta', 'Eta', 'Iota', 'Kappa', 'Lambda', 'Mu'], ['VOC', 'VOC', 'VOC', 'VOC', 'VOI', 'VOI', 'VOI', 'VOI', 'VOI'], inplace = True)"
      ],
      "execution_count": null,
      "outputs": []
    },
    {
      "cell_type": "markdown",
      "metadata": {
        "id": "bkjIWFLvMWxL"
      },
      "source": [
        "other"
      ]
    },
    {
      "cell_type": "code",
      "metadata": {
        "id": "9Wi3JwhPMU_U"
      },
      "source": [
        "df.loc[df['lineage'] == 'Delta', 'Status'] = 'VOC'\n",
        "df.loc[df['lineage'] != 'Delta', 'Status'] = 'Other'"
      ],
      "execution_count": null,
      "outputs": []
    },
    {
      "cell_type": "markdown",
      "metadata": {
        "id": "GL5DvgG3NvcZ"
      },
      "source": [
        "or"
      ]
    },
    {
      "cell_type": "code",
      "metadata": {
        "id": "bcK97Dm3NsPX"
      },
      "source": [
        "df['Status'] = df['lineage'].apply(lambda x: 'Delta' if x == 'B.1.617.2'  else 'other')\n",
        "df.head(50)"
      ],
      "execution_count": null,
      "outputs": []
    },
    {
      "cell_type": "code",
      "metadata": {
        "id": "mlBGSNVJQPRN"
      },
      "source": [
        "df.loc[(df['lineage'] == 'B.1.617.2') | (df['lineage'] == 'B.1.36') | (df['lineage'] == 'B.1.537'), 'Status'] = 'Delta'\n",
        "df.loc[(df['lineage'] != 'B.1.617.2') & (df['lineage'] != 'B.1.36') & (df['lineage'] != 'B.1.537'), 'Status'] = 'Other'"
      ],
      "execution_count": null,
      "outputs": []
    },
    {
      "cell_type": "code",
      "metadata": {
        "id": "lewyHamWn5Q9"
      },
      "source": [
        "df.loc[df['lineage'] == 'B.1.617.2', 'Status'] = 'Delta'\n",
        "df.loc[df['lineage'] == 'B.1.36', 'Status'] = 'Gamma'\n",
        "df.loc[df['lineage'] == 'B.1.537', 'Status'] = 'Alpha'\n",
        "df.loc[(df['lineage'] != 'B.1.617.2') & (df['lineage'] != 'B.1.36') & (df['lineage'] != 'B.1.537'), 'Status'] = 'Other'"
      ],
      "execution_count": null,
      "outputs": []
    },
    {
      "cell_type": "markdown",
      "metadata": {
        "id": "7X2KoGOzCdGb"
      },
      "source": [
        "# date_format_change"
      ]
    },
    {
      "cell_type": "code",
      "metadata": {
        "id": "2eYx1LYoCaJi"
      },
      "source": [
        "df_seq_ana1[\"date\"] = pd.to_datetime(df_seq_ana1[\"date\"])\n",
        "df_seq_ana1[\"year\"] = df_seq_ana1[\"date\"].dt.year\n",
        "df_seq_ana1[\"month\"] = df_seq_ana1[\"date\"].dt.month\n",
        "df_seq_ana1[\"day\"] = df_seq_ana1[\"date\"].dt.day\n",
        "df_seq_ana1.head(2)"
      ],
      "execution_count": null,
      "outputs": []
    },
    {
      "cell_type": "markdown",
      "metadata": {
        "id": "lg-FxqNWM3QU"
      },
      "source": []
    },
    {
      "cell_type": "markdown",
      "metadata": {
        "id": "4fimvdvvINLl"
      },
      "source": [
        "#Amino Acid Explode"
      ]
    },
    {
      "cell_type": "code",
      "metadata": {
        "id": "ejhfQ2d3M38D"
      },
      "source": [
        "df['aaSubstitutions']=df['aaSubstitutions'].map(str)\n",
        "df['aaSubstitutions'] = df['aaSubstitutions'].str.split(',')\n",
        "mut1 = df.explode('aaSubstitutions')\n",
        "mut1 = df.explode('aaSubstitutions')\n",
        "mut1.head(1)"
      ],
      "execution_count": null,
      "outputs": []
    },
    {
      "cell_type": "markdown",
      "metadata": {
        "id": "MR123AJHNL32"
      },
      "source": []
    },
    {
      "cell_type": "code",
      "metadata": {
        "id": "JHnJpM5XNN8a"
      },
      "source": [
        "mut1[['gene', 'aaMutations']] = mut1['aaSubstitutions'].str.split(':', expand=True)\n",
        "mut1.head(1)"
      ],
      "execution_count": null,
      "outputs": []
    },
    {
      "cell_type": "code",
      "metadata": {
        "id": "6pisGg6hNbna"
      },
      "source": [],
      "execution_count": null,
      "outputs": []
    },
    {
      "cell_type": "code",
      "metadata": {
        "id": "yrxGKO_sNjoa"
      },
      "source": [
        "S_gene=mut2[mut2['gene'] == 'S']\n",
        "S_gene.head(1)"
      ],
      "execution_count": null,
      "outputs": []
    },
    {
      "cell_type": "markdown",
      "metadata": {
        "id": "xorYjObqZkVl"
      },
      "source": [
        "if else condition"
      ]
    },
    {
      "cell_type": "markdown",
      "metadata": {
        "id": "82c8DTSzZT43"
      },
      "source": [
        "https://datascience.stackexchange.com/questions/58232/conditional-statement-to-update-columns-based-on-range\n",
        "\n",
        "https://datatofish.com/if-condition-in-pandas-dataframe/"
      ]
    },
    {
      "cell_type": "code",
      "metadata": {
        "id": "vqGzjh2sjfTF"
      },
      "source": [],
      "execution_count": null,
      "outputs": []
    },
    {
      "cell_type": "code",
      "metadata": {
        "id": "jtlIRtr5IVRK"
      },
      "source": [],
      "execution_count": null,
      "outputs": []
    },
    {
      "cell_type": "markdown",
      "metadata": {
        "id": "coPMFq9BIVwd"
      },
      "source": [
        "# Amino Acid Split"
      ]
    },
    {
      "cell_type": "code",
      "metadata": {
        "id": "sAmvHM-_Ibsz"
      },
      "source": [
        "result = pd.read_csv('i_have.csv')\n",
        "mutation = result['aaMutations'].str.split('(\\d+)([A-Za-z]+)', expand=True)\n",
        "mutation_split = pd.concat([result, mutation], axis=1, join='inner')\n",
        "mutation_split.rename(columns={0:'RefAA', 1:'Position', 2:'AltAA'}, inplace=True)\n",
        "mutation_split.drop(3, axis=1, inplace=True)\n",
        "mutation_split.to_csv('Mutation_split.csv', index=False)\n",
        "result2 = pd.read_csv('Mutation_split.csv')"
      ],
      "execution_count": null,
      "outputs": []
    },
    {
      "cell_type": "code",
      "metadata": {
        "id": "QewMT3DAIfp8"
      },
      "source": [],
      "execution_count": null,
      "outputs": []
    },
    {
      "cell_type": "code",
      "metadata": {
        "id": "KIGvg-qQM3Wp"
      },
      "source": [],
      "execution_count": null,
      "outputs": []
    },
    {
      "cell_type": "markdown",
      "metadata": {
        "id": "K03meml0M3-y"
      },
      "source": [
        "# Mutation Split"
      ]
    },
    {
      "cell_type": "code",
      "metadata": {
        "id": "vMuw6orjNyP0"
      },
      "source": [
        "mut2 = mut1['aaMutations'].str.split('(\\d+)([A-Za-z]+)', expand=True)\n",
        "mut3 = pd.concat([mut1, mut2], axis=1, join='inner')\n",
        "mut3.rename(columns={0:'RefAA', 1:'Position', 2:'AltAA'}, inplace=True)\n",
        "mut3.drop(3, axis=1, inplace=True)\n",
        "mut3.head(2)"
      ],
      "execution_count": null,
      "outputs": []
    },
    {
      "cell_type": "code",
      "metadata": {
        "id": "3K_V9UAeR3Zh"
      },
      "source": [
        "#if else condition"
      ],
      "execution_count": null,
      "outputs": []
    },
    {
      "cell_type": "code",
      "metadata": {
        "id": "lkmTIMt3R1CA"
      },
      "source": [
        "mut3.loc[mut3['Position'] <= 15, 'Domian'] = 'S1'\n",
        "mut3.loc[(mut3['Position'] >= 16) & (mut3['Position'] <= 305) , 'Domian'] = 'NTD'\n",
        "mut3.loc[(mut3['Position'] >= 306) & (mut3['Position'] <= 329) , 'Domian'] = 'S1.1'\n",
        "mut3.loc[(mut3['Position'] >= 330) & (mut3['Position'] <= 521) , 'Domian'] = 'RBD'\n",
        "mut3.loc[(mut3['Position'] >= 522) & (mut3['Position'] <= 681) , 'Domian'] = 'S1/S2'\n",
        "mut3.loc[(mut3['Position'] >= 682) & (mut3['Position'] <= 814) , 'Domian'] = 'S2.1'\n",
        "mut3.loc[(mut3['Position'] >= 815) & (mut3['Position'] <= 833) , 'Domian'] = 'FP'\n",
        "mut3.loc[(mut3['Position'] >= 834) & (mut3['Position'] <= 911) , 'Domian'] = 'S2.2'\n",
        "mut3.loc[(mut3['Position'] >= 912) & (mut3['Position'] <= 985) , 'Domian'] = 'HR1'\n",
        "mut3.loc[(mut3['Position'] >= 986) & (mut3['Position'] <= 1035) , 'Domian'] = 'CH'\n",
        "mut3.loc[(mut3['Position'] >= 1036) & (mut3['Position'] <= 1075) , 'Domian'] = 'S2.3'\n",
        "mut3.loc[(mut3['Position'] >= 1076) & (mut3['Position'] <= 1141) , 'Domian'] = 'CD'\n",
        "mut3.loc[mut3['Position'] > 1142, 'Domian'] = 'S2'\n"
      ],
      "execution_count": null,
      "outputs": []
    },
    {
      "cell_type": "markdown",
      "metadata": {
        "id": "BgwgcDOyM4f3"
      },
      "source": [
        "# Extra"
      ]
    },
    {
      "cell_type": "code",
      "metadata": {
        "id": "HZD-6cDRM7cL"
      },
      "source": [
        "#showing data type\n",
        "mut3.dtypes"
      ],
      "execution_count": null,
      "outputs": []
    },
    {
      "cell_type": "code",
      "metadata": {
        "id": "Fny71AhmNEjc"
      },
      "source": [
        "#convert number to number in float data\n",
        "mut3[\"Position\"] = pd.to_numeric(mut3[\"Position\"])"
      ],
      "execution_count": null,
      "outputs": []
    },
    {
      "cell_type": "code",
      "metadata": {
        "id": "hrbQ5q2ENPjA"
      },
      "source": [
        "#convert string into intejar\n",
        "mut3[\"Position\"] = pd.to_numeric(mut3[\"Position\"])"
      ],
      "execution_count": null,
      "outputs": []
    },
    {
      "cell_type": "code",
      "metadata": {
        "id": "SnyZI65EgeLL"
      },
      "source": [
        "#add new collumn with specific value\n",
        "mut3['count']=1"
      ],
      "execution_count": null,
      "outputs": []
    }
  ]
}