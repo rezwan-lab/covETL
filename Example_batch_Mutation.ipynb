{
  "nbformat": 4,
  "nbformat_minor": 0,
  "metadata": {
    "colab": {
      "provenance": []
    },
    "kernelspec": {
      "name": "python3",
      "display_name": "Python 3"
    },
    "language_info": {
      "name": "python"
    }
  },
  "cells": [
    {
      "cell_type": "markdown",
      "metadata": {
        "id": "UyaiI0y1-o4g"
      },
      "source": [
        "# **install_library**"
      ]
    },
    {
      "cell_type": "code",
      "metadata": {
        "id": "rmzM1cu5-NM4"
      },
      "source": [
        "import pandas as pd\n",
        "import numpy as np"
      ],
      "execution_count": null,
      "outputs": []
    },
    {
      "cell_type": "markdown",
      "metadata": {
        "id": "z68mjX67_q60"
      },
      "source": [
        "# **data_upload**"
      ]
    },
    {
      "cell_type": "markdown",
      "metadata": {
        "id": "pkkWGWBU_yN7"
      },
      "source": [
        "mount_gdrive"
      ]
    },
    {
      "cell_type": "code",
      "metadata": {
        "id": "P21rS5VX_xZV",
        "colab": {
          "base_uri": "https://localhost:8080/"
        },
        "outputId": "824d11ef-1bf0-46c8-8e64-083df636e38f"
      },
      "source": [
        "from google.colab import drive\n",
        "drive.mount('/content/drive')"
      ],
      "execution_count": null,
      "outputs": [
        {
          "output_type": "stream",
          "name": "stdout",
          "text": [
            "Mounted at /content/drive\n"
          ]
        }
      ]
    },
    {
      "cell_type": "markdown",
      "metadata": {
        "id": "yLEjhxkn_7pc"
      },
      "source": [
        "import_file"
      ]
    },
    {
      "cell_type": "code",
      "metadata": {
        "id": "caPBwETTADUi",
        "colab": {
          "base_uri": "https://localhost:8080/"
        },
        "outputId": "cb5e0e5e-1998-4b24-f440-18c2c46c383a"
      },
      "source": [
        "df = pd.read_table(\"/content/drive/MyDrive/LongReport_WeeklyAnalysis/WA22_16092021/MD_16092021.tsv\", sep='\\t')"
      ],
      "execution_count": null,
      "outputs": [
        {
          "output_type": "stream",
          "name": "stderr",
          "text": [
            "/usr/local/lib/python3.7/dist-packages/IPython/core/interactiveshell.py:2822: DtypeWarning: Columns (32) have mixed types.Specify dtype option on import or set low_memory=False.\n",
            "  if self.run_code(code, result):\n"
          ]
        }
      ]
    },
    {
      "cell_type": "markdown",
      "metadata": {
        "id": "Uz85YocsAVb5"
      },
      "source": [
        "# **data_clean**"
      ]
    },
    {
      "cell_type": "code",
      "metadata": {
        "id": "HHJJaQc8Kp_E"
      },
      "source": [
        "#dataNeed_Strain_Date_Division_Location_Submitting_Lab_Region_Type_Clade_Lineage_ImpLin_VariantStatus"
      ],
      "execution_count": null,
      "outputs": []
    },
    {
      "cell_type": "code",
      "metadata": {
        "colab": {
          "base_uri": "https://localhost:8080/",
          "height": 284
        },
        "id": "6YwXCU44ccVR",
        "outputId": "1691c26d-bf03-46d8-de00-69282c198a69"
      },
      "source": [
        "df.head(2)"
      ],
      "execution_count": null,
      "outputs": [
        {
          "output_type": "execute_result",
          "data": {
            "text/html": [
              "<div>\n",
              "<style scoped>\n",
              "    .dataframe tbody tr th:only-of-type {\n",
              "        vertical-align: middle;\n",
              "    }\n",
              "\n",
              "    .dataframe tbody tr th {\n",
              "        vertical-align: top;\n",
              "    }\n",
              "\n",
              "    .dataframe thead th {\n",
              "        text-align: right;\n",
              "    }\n",
              "</style>\n",
              "<table border=\"1\" class=\"dataframe\">\n",
              "  <thead>\n",
              "    <tr style=\"text-align: right;\">\n",
              "      <th></th>\n",
              "      <th>strain</th>\n",
              "      <th>virus</th>\n",
              "      <th>gisaid_epi_isl</th>\n",
              "      <th>genbank_accession</th>\n",
              "      <th>date</th>\n",
              "      <th>region</th>\n",
              "      <th>country</th>\n",
              "      <th>division</th>\n",
              "      <th>location</th>\n",
              "      <th>region_exposure</th>\n",
              "      <th>country_exposure</th>\n",
              "      <th>division_exposure</th>\n",
              "      <th>segment</th>\n",
              "      <th>length</th>\n",
              "      <th>host</th>\n",
              "      <th>age</th>\n",
              "      <th>sex</th>\n",
              "      <th>originating_lab</th>\n",
              "      <th>submitting_lab</th>\n",
              "      <th>authors</th>\n",
              "      <th>url</th>\n",
              "      <th>title</th>\n",
              "      <th>paper_url</th>\n",
              "      <th>date_submitted</th>\n",
              "      <th>purpose_of_sequencing</th>\n",
              "      <th>lab_id</th>\n",
              "      <th>last_vaccinated</th>\n",
              "      <th>region_type</th>\n",
              "      <th>clade</th>\n",
              "      <th>totalInsertions</th>\n",
              "      <th>totalMissing</th>\n",
              "      <th>totalNonACGTNs</th>\n",
              "      <th>nonACGTNs</th>\n",
              "      <th>substitutions</th>\n",
              "      <th>deletions</th>\n",
              "      <th>aaSubstitutions</th>\n",
              "      <th>aaDeletions</th>\n",
              "      <th>lineage</th>\n",
              "      <th>scorpio_call</th>\n",
              "      <th>note</th>\n",
              "      <th>pangoLEARN_version</th>\n",
              "    </tr>\n",
              "  </thead>\n",
              "  <tbody>\n",
              "    <tr>\n",
              "      <th>0</th>\n",
              "      <td>hCoV-19/India/INSACOG/AS-CSIR-NEIST1-CIDIN0011...</td>\n",
              "      <td>betacoronavirus</td>\n",
              "      <td>EPI_ISL_0</td>\n",
              "      <td>?</td>\n",
              "      <td>2021-05-15</td>\n",
              "      <td>Asia</td>\n",
              "      <td>India</td>\n",
              "      <td>Assam</td>\n",
              "      <td>JORHAT</td>\n",
              "      <td>Asia</td>\n",
              "      <td>India</td>\n",
              "      <td>Assam</td>\n",
              "      <td>genome</td>\n",
              "      <td>29890</td>\n",
              "      <td>Human</td>\n",
              "      <td>51</td>\n",
              "      <td>Male</td>\n",
              "      <td>Centre for Infectious Diseases, CSIR-NEIST</td>\n",
              "      <td>NEIST</td>\n",
              "      <td>Romi Wahengbam, Moirangthem G Singh, Munmi Bor...</td>\n",
              "      <td>?</td>\n",
              "      <td>?</td>\n",
              "      <td>?</td>\n",
              "      <td>2021-05-15</td>\n",
              "      <td>?</td>\n",
              "      <td>CIDIN0011</td>\n",
              "      <td>1st dose: COVAXIN, 2021-04-20</td>\n",
              "      <td>North East India</td>\n",
              "      <td>21A (Delta)</td>\n",
              "      <td>0.0</td>\n",
              "      <td>395.0</td>\n",
              "      <td>0.0</td>\n",
              "      <td>NaN</td>\n",
              "      <td>G210T,C241T,C1191T,C1267T,C2676T,C3037T,C5184T...</td>\n",
              "      <td>22029-22034,28248-28253,28271</td>\n",
              "      <td>M:I82T,N:D63G,N:R203M,N:T362I,N:D377Y,N:R385K,...</td>\n",
              "      <td>ORF8:D119-,ORF8:F120-,S:E156-,S:F157-</td>\n",
              "      <td>B.1.617.2</td>\n",
              "      <td>Delta (B.1.617.2-like)</td>\n",
              "      <td>scorpio call: Alt alleles 12; Ref alleles 0; A...</td>\n",
              "      <td>2021-08-24</td>\n",
              "    </tr>\n",
              "    <tr>\n",
              "      <th>1</th>\n",
              "      <td>hCoV-19/India/INSACOG/AS-CSIR-NEIST1-CIDIN0001...</td>\n",
              "      <td>betacoronavirus</td>\n",
              "      <td>EPI_ISL_1</td>\n",
              "      <td>?</td>\n",
              "      <td>2020-07-21</td>\n",
              "      <td>Asia</td>\n",
              "      <td>India</td>\n",
              "      <td>Assam</td>\n",
              "      <td>GOLAGHAT</td>\n",
              "      <td>Asia</td>\n",
              "      <td>India</td>\n",
              "      <td>Assam</td>\n",
              "      <td>genome</td>\n",
              "      <td>29903</td>\n",
              "      <td>Human</td>\n",
              "      <td>55</td>\n",
              "      <td>Male</td>\n",
              "      <td>Centre for Infectious Diseases, CSIR-NEIST</td>\n",
              "      <td>NEIST</td>\n",
              "      <td>Romi Wahengbam, Moirangthem G Singh, Munmi Bor...</td>\n",
              "      <td>?</td>\n",
              "      <td>?</td>\n",
              "      <td>?</td>\n",
              "      <td>2020-07-21</td>\n",
              "      <td>?</td>\n",
              "      <td>CIDIN0001</td>\n",
              "      <td>unknown</td>\n",
              "      <td>North East India</td>\n",
              "      <td>20A</td>\n",
              "      <td>0.0</td>\n",
              "      <td>6689.0</td>\n",
              "      <td>0.0</td>\n",
              "      <td>NaN</td>\n",
              "      <td>C241T,T1947C,C3037T,C12546T,C14408T,C18877T,G2...</td>\n",
              "      <td>NaN</td>\n",
              "      <td>ORF1a:V561A,ORF1a:A4094V,ORF1b:P314L,ORF3a:Q57...</td>\n",
              "      <td>NaN</td>\n",
              "      <td>B.1.36</td>\n",
              "      <td>NaN</td>\n",
              "      <td>NaN</td>\n",
              "      <td>2021-08-24</td>\n",
              "    </tr>\n",
              "  </tbody>\n",
              "</table>\n",
              "</div>"
            ],
            "text/plain": [
              "                                              strain  ... pangoLEARN_version\n",
              "0  hCoV-19/India/INSACOG/AS-CSIR-NEIST1-CIDIN0011...  ...         2021-08-24\n",
              "1  hCoV-19/India/INSACOG/AS-CSIR-NEIST1-CIDIN0001...  ...         2021-08-24\n",
              "\n",
              "[2 rows x 41 columns]"
            ]
          },
          "metadata": {},
          "execution_count": 4
        }
      ]
    },
    {
      "cell_type": "markdown",
      "metadata": {
        "id": "57B8CN-gAag4"
      },
      "source": [
        "delete_unnessary_columns_change_in_dataset"
      ]
    },
    {
      "cell_type": "code",
      "metadata": {
        "id": "TqaqwvuEAq6Q",
        "colab": {
          "base_uri": "https://localhost:8080/",
          "height": 233
        },
        "outputId": "2adbf12d-2534-444c-b609-273a7f85d89e"
      },
      "source": [
        "df.drop([ 'virus','gisaid_epi_isl', 'genbank_accession', 'region', 'country', 'region_exposure', 'country_exposure', 'division_exposure', 'segment', 'length', 'host', 'originating_lab', 'authors', 'url',\n",
        "       'title', 'paper_url', 'date_submitted', 'purpose_of_sequencing', 'lab_id', 'totalInsertions', 'totalMissing', 'totalNonACGTNs', 'nonACGTNs', 'substitutions', 'deletions', 'aaDeletions', 'scorpio_call', 'note', 'pangoLEARN_version'], axis=1, inplace=True)\n",
        "df.head(2)"
      ],
      "execution_count": null,
      "outputs": [
        {
          "output_type": "execute_result",
          "data": {
            "text/html": [
              "<div>\n",
              "<style scoped>\n",
              "    .dataframe tbody tr th:only-of-type {\n",
              "        vertical-align: middle;\n",
              "    }\n",
              "\n",
              "    .dataframe tbody tr th {\n",
              "        vertical-align: top;\n",
              "    }\n",
              "\n",
              "    .dataframe thead th {\n",
              "        text-align: right;\n",
              "    }\n",
              "</style>\n",
              "<table border=\"1\" class=\"dataframe\">\n",
              "  <thead>\n",
              "    <tr style=\"text-align: right;\">\n",
              "      <th></th>\n",
              "      <th>strain</th>\n",
              "      <th>date</th>\n",
              "      <th>division</th>\n",
              "      <th>location</th>\n",
              "      <th>age</th>\n",
              "      <th>sex</th>\n",
              "      <th>submitting_lab</th>\n",
              "      <th>last_vaccinated</th>\n",
              "      <th>region_type</th>\n",
              "      <th>clade</th>\n",
              "      <th>aaSubstitutions</th>\n",
              "      <th>lineage</th>\n",
              "    </tr>\n",
              "  </thead>\n",
              "  <tbody>\n",
              "    <tr>\n",
              "      <th>0</th>\n",
              "      <td>hCoV-19/India/INSACOG/AS-CSIR-NEIST1-CIDIN0011...</td>\n",
              "      <td>2021-05-15</td>\n",
              "      <td>Assam</td>\n",
              "      <td>JORHAT</td>\n",
              "      <td>51</td>\n",
              "      <td>Male</td>\n",
              "      <td>NEIST</td>\n",
              "      <td>1st dose: COVAXIN, 2021-04-20</td>\n",
              "      <td>North East India</td>\n",
              "      <td>21A (Delta)</td>\n",
              "      <td>M:I82T,N:D63G,N:R203M,N:T362I,N:D377Y,N:R385K,...</td>\n",
              "      <td>B.1.617.2</td>\n",
              "    </tr>\n",
              "    <tr>\n",
              "      <th>1</th>\n",
              "      <td>hCoV-19/India/INSACOG/AS-CSIR-NEIST1-CIDIN0001...</td>\n",
              "      <td>2020-07-21</td>\n",
              "      <td>Assam</td>\n",
              "      <td>GOLAGHAT</td>\n",
              "      <td>55</td>\n",
              "      <td>Male</td>\n",
              "      <td>NEIST</td>\n",
              "      <td>unknown</td>\n",
              "      <td>North East India</td>\n",
              "      <td>20A</td>\n",
              "      <td>ORF1a:V561A,ORF1a:A4094V,ORF1b:P314L,ORF3a:Q57...</td>\n",
              "      <td>B.1.36</td>\n",
              "    </tr>\n",
              "  </tbody>\n",
              "</table>\n",
              "</div>"
            ],
            "text/plain": [
              "                                              strain  ...    lineage\n",
              "0  hCoV-19/India/INSACOG/AS-CSIR-NEIST1-CIDIN0011...  ...  B.1.617.2\n",
              "1  hCoV-19/India/INSACOG/AS-CSIR-NEIST1-CIDIN0001...  ...     B.1.36\n",
              "\n",
              "[2 rows x 12 columns]"
            ]
          },
          "metadata": {},
          "execution_count": 5
        }
      ]
    },
    {
      "cell_type": "markdown",
      "metadata": {
        "id": "EjeHe8Et8iux"
      },
      "source": [
        "# Lineage_Name_Change"
      ]
    },
    {
      "cell_type": "code",
      "metadata": {
        "id": "Qj7IbViRRR2T"
      },
      "source": [
        "#focus on other"
      ],
      "execution_count": null,
      "outputs": []
    },
    {
      "cell_type": "code",
      "metadata": {
        "id": "KqhIlX3TMu_2"
      },
      "source": [
        "df.loc[df['lineage'] == 'B.1.1.7', 'ImpLin'] = 'Alpha'\n",
        "df.loc[df['lineage'] == 'Q.1', 'ImpLin'] = 'Alpha'\n",
        "df.loc[df['lineage'] == 'Q.2', 'ImpLin'] = 'Alpha'\n",
        "df.loc[df['lineage'] == 'Q.3', 'ImpLin'] = 'Alpha'\n",
        "df.loc[df['lineage'] == 'Q.4', 'ImpLin'] = 'Alpha'\n",
        "df.loc[df['lineage'] == 'Q.5', 'ImpLin'] = 'Alpha'\n",
        "df.loc[df['lineage'] == 'Q.6', 'ImpLin'] = 'Alpha'\n",
        "df.loc[df['lineage'] == 'Q.7', 'ImpLin'] = 'Alpha'\n",
        "df.loc[df['lineage'] == 'Q.8', 'ImpLin'] = 'Alpha'\n",
        "df.loc[df['lineage'] == 'B.1.351', 'ImpLin'] = 'Beta'\n",
        "df.loc[df['lineage'] == 'P.1', 'ImpLin'] = 'Gamma'\n",
        "df.loc[df['lineage'] == 'B.1.525', 'ImpLin'] = 'Eta'\n",
        "df.loc[df['lineage'] == 'B.1.526', 'ImpLin'] = 'Iota'\n",
        "df.loc[df['lineage'] == 'B.1.617.1', 'ImpLin'] = 'Kappa'\n",
        "df.loc[df['lineage'] == 'C.37', 'ImpLin'] = 'Lambda'\n",
        "df.loc[df['lineage'] == 'B.1.621', 'ImpLin'] = 'Mu'\n",
        "df.loc[df['lineage'] == 'B.1.427', 'ImpLin'] = 'Monitoring'\n",
        "df.loc[df['lineage'] == 'B.1.429', 'ImpLin'] = 'Monitoring'\n",
        "df.loc[df['lineage'] == 'R.1', 'ImpLin'] = 'Monitoring'\n",
        "df.loc[df['lineage'] == 'B.1.466.2', 'ImpLin'] = 'Monitoring'\n",
        "df.loc[df['lineage'] == 'B.1.1.318', 'ImpLin'] = 'Monitoring'\n",
        "df.loc[df['lineage'] == 'B.1.1.519', 'ImpLin'] = 'Monitoring'\n",
        "df.loc[df['lineage'] == 'C.36.3', 'ImpLin'] = 'Monitoring'\n",
        "df.loc[df['lineage'] == 'B.1.214.2', 'ImpLin'] = 'Monitoring'\n",
        "df.loc[df['lineage'] == 'B.1.1.523', 'ImpLin'] = 'Monitoring'\n",
        "df.loc[df['lineage'] == 'B.1.619', 'ImpLin'] = 'Monitoring'\n",
        "df.loc[df['lineage'] == 'B.1.620', 'ImpLin'] = 'Monitoring'\n",
        "df.loc[df['lineage'] == 'C.1.2', 'ImpLin'] = 'Monitoring'\n",
        "df.loc[df['lineage'] == 'B.1.617.2', 'ImpLin'] = 'Delta'\n",
        "df.loc[df['lineage'] == 'AY.1', 'ImpLin'] = 'AY.X'\n",
        "df.loc[df['lineage'] == 'AY.2', 'ImpLin'] = 'AY.X'\n",
        "df.loc[df['lineage'] == 'AY.3', 'ImpLin'] = 'AY.X'\n",
        "df.loc[df['lineage'] == 'AY.3.1', 'ImpLin'] = 'AY.X'\n",
        "df.loc[df['lineage'] == 'AY.4', 'ImpLin'] = 'AY.X'\n",
        "df.loc[df['lineage'] == 'AY.5', 'ImpLin'] = 'AY.X'\n",
        "df.loc[df['lineage'] == 'AY.5.1', 'ImpLin'] = 'AY.X'\n",
        "df.loc[df['lineage'] == 'AY.5.2', 'ImpLin'] = 'AY.X'\n",
        "df.loc[df['lineage'] == 'AY.6', 'ImpLin'] = 'AY.X'\n",
        "df.loc[df['lineage'] == 'AY.7', 'ImpLin'] = 'AY.X'\n",
        "df.loc[df['lineage'] == 'AY.7.1', 'ImpLin'] = 'AY.X'\n",
        "df.loc[df['lineage'] == 'AY.7.2', 'ImpLin'] = 'AY.X'\n",
        "df.loc[df['lineage'] == 'AY.8', 'ImpLin'] = 'AY.X'\n",
        "df.loc[df['lineage'] == 'AY.9', 'ImpLin'] = 'AY.X'\n",
        "df.loc[df['lineage'] == 'AY.10', 'ImpLin'] = 'AY.X'\n",
        "df.loc[df['lineage'] == 'AY.11', 'ImpLin'] = 'AY.X'\n",
        "df.loc[df['lineage'] == 'AY.12', 'ImpLin'] = 'AY.X'\n",
        "df.loc[df['lineage'] == 'AY.13', 'ImpLin'] = 'AY.X'\n",
        "df.loc[df['lineage'] == 'AY.14', 'ImpLin'] = 'AY.X'\n",
        "df.loc[df['lineage'] == 'AY.15', 'ImpLin'] = 'AY.X'\n",
        "df.loc[df['lineage'] == 'AY.16', 'ImpLin'] = 'AY.X'\n",
        "df.loc[df['lineage'] == 'AY.17', 'ImpLin'] = 'AY.X'\n",
        "df.loc[df['lineage'] == 'AY.18', 'ImpLin'] = 'AY.X'\n",
        "df.loc[df['lineage'] == 'AY.19', 'ImpLin'] = 'AY.X'\n",
        "df.loc[df['lineage'] == 'AY.20', 'ImpLin'] = 'AY.X'\n",
        "df.loc[df['lineage'] == 'AY.21', 'ImpLin'] = 'AY.X'\n",
        "df.loc[df['lineage'] == 'AY.22', 'ImpLin'] = 'AY.X'\n",
        "df.loc[df['lineage'] == 'AY.23', 'ImpLin'] = 'AY.X'\n",
        "df.loc[df['lineage'] == 'AY.24', 'ImpLin'] = 'AY.X'\n",
        "df.loc[df['lineage'] == 'AY.25', 'ImpLin'] = 'AY.X'\n",
        "df.loc[df['lineage'] == 'AY.26', 'ImpLin'] = 'AY.X'\n",
        "df.loc[df['lineage'] == 'AY.27', 'ImpLin'] = 'AY.X'\n",
        "df.loc[df['lineage'] == 'AY.28', 'ImpLin'] = 'AY.X'\n",
        "df.loc[df['lineage'] == 'AY.29', 'ImpLin'] = 'AY.X'\n",
        "df.loc[df['lineage'] == 'AY.30', 'ImpLin'] = 'AY.X'\n",
        "df.loc[df['lineage'] == 'AY.31', 'ImpLin'] = 'AY.X'\n",
        "df.loc[df['lineage'] == 'AY.32', 'ImpLin'] = 'AY.X'\n",
        "df.loc[df['lineage'] == 'AY.33', 'ImpLin'] = 'AY.X'\n",
        "df.loc[(df['lineage'] != 'B.1.1.7') & (df['lineage'] != 'Q.1') & (df['lineage'] != 'Q.2') & (df['lineage'] != 'Q.3') & (df['lineage'] != 'Q.4') & (df['lineage'] != 'Q.5') & (df['lineage'] != 'Q.6') & (df['lineage'] != 'Q.7') & (df['lineage'] != 'Q.8') & (df['lineage'] != 'B.1.351') & (df['lineage'] != 'P.1') & (df['lineage'] != 'B.1.525') & (df['lineage'] != 'B.1.526') & (df['lineage'] != 'B.1.617.1') & (df['lineage'] != 'C.37') & (df['lineage'] != 'B.1.621') & (df['lineage'] != 'B.1.427') & (df['lineage'] != 'B.1.429') & (df['lineage'] != 'R.1') & (df['lineage'] != 'B.1.466.2') & (df['lineage'] != 'B.1.1.318') & (df['lineage'] != 'B.1.1.519') & (df['lineage'] != 'C.36.3') & (df['lineage'] != 'B.1.214.2') & (df['lineage'] != 'B.1.1.523') & (df['lineage'] != 'B.1.619') & (df['lineage'] != 'B.1.620') & (df['lineage'] != 'C.1.2') & (df['lineage'] != 'B.1.617.2') & (df['lineage'] != 'AY.1') & (df['lineage'] != 'AY.2') & (df['lineage'] != 'AY.3') & (df['lineage'] != 'AY.3.1') & (df['lineage'] != 'AY.4') & (df['lineage'] != 'AY.5') & (df['lineage'] != 'AY.5.1') & (df['lineage'] != 'AY.5.2') & (df['lineage'] != 'AY.6') & (df['lineage'] != 'AY.7') & (df['lineage'] != 'AY.7.1') & (df['lineage'] != 'AY.7.2') & (df['lineage'] != 'AY.8') & (df['lineage'] != 'AY.9') & (df['lineage'] != 'AY.10') & (df['lineage'] != 'AY.11') & (df['lineage'] != 'AY.12') & (df['lineage'] != 'AY.13') & (df['lineage'] != 'AY.14') & (df['lineage'] != 'AY.15') & (df['lineage'] != 'AY.16') & (df['lineage'] != 'AY.17') & (df['lineage'] != 'AY.18') & (df['lineage'] != 'AY.19') & (df['lineage'] != 'AY.20') & (df['lineage'] != 'AY.21') & (df['lineage'] != 'AY.22') & (df['lineage'] != 'AY.23') & (df['lineage'] != 'AY.24') & (df['lineage'] != 'AY.25') & (df['lineage'] != 'AY.26') & (df['lineage'] != 'AY.27') & (df['lineage'] != 'AY.28') & (df['lineage'] != 'AY.29') & (df['lineage'] != 'AY.30') & (df['lineage'] != 'AY.31') & (df['lineage'] != 'AY.32') & (df['lineage'] != 'AY.33'), 'ImpLin'] = 'Other'"
      ],
      "execution_count": null,
      "outputs": []
    },
    {
      "cell_type": "code",
      "metadata": {
        "id": "1CgkQLMnY5RF"
      },
      "source": [
        "#variant_naming"
      ],
      "execution_count": null,
      "outputs": []
    },
    {
      "cell_type": "code",
      "metadata": {
        "id": "iENkXzwlS1pd"
      },
      "source": [
        "df.loc[df['ImpLin'] == 'Alpha', 'Variant'] = 'VOC'\n",
        "df.loc[df['ImpLin'] == 'Beta', 'Variant'] = 'VOC'\n",
        "df.loc[df['ImpLin'] == 'Gamma', 'Variant'] = 'VOC'\n",
        "df.loc[df['ImpLin'] == 'Delta', 'Variant'] = 'VOC'\n",
        "df.loc[df['ImpLin'] == 'Eta', 'Variant'] = 'VOI'\n",
        "df.loc[df['ImpLin'] == 'Iota', 'Variant'] = 'VOI'\n",
        "df.loc[df['ImpLin'] == 'Kappa', 'Variant'] = 'VOI'\n",
        "df.loc[df['ImpLin'] == 'Lambda', 'Variant'] = 'VOI'\n",
        "df.loc[df['ImpLin'] == 'Mu', 'Variant'] = 'VOI'\n",
        "df.loc[df['ImpLin'] == 'Monitoring', 'Variant'] = 'Monitoring'\n",
        "df.loc[(df['ImpLin'] != 'Alpha') & (df['ImpLin'] != 'Beta') & (df['ImpLin'] != 'Gamma') & (df['ImpLin'] != 'Delta') & (df['ImpLin'] != 'Eta') & (df['ImpLin'] != 'Iota') & (df['ImpLin'] != 'Kappa') & (df['ImpLin'] != 'Lambda') & (df['ImpLin'] != 'Mu') & (df['ImpLin'] != 'Monitoring'), 'Variant'] = 'Other'"
      ],
      "execution_count": null,
      "outputs": []
    },
    {
      "cell_type": "code",
      "metadata": {
        "colab": {
          "base_uri": "https://localhost:8080/",
          "height": 233
        },
        "id": "kY7qw-W4d21J",
        "outputId": "1897930b-f273-45aa-9688-d2dc982bc0c2"
      },
      "source": [
        "df.head(2)"
      ],
      "execution_count": null,
      "outputs": [
        {
          "output_type": "execute_result",
          "data": {
            "text/html": [
              "<div>\n",
              "<style scoped>\n",
              "    .dataframe tbody tr th:only-of-type {\n",
              "        vertical-align: middle;\n",
              "    }\n",
              "\n",
              "    .dataframe tbody tr th {\n",
              "        vertical-align: top;\n",
              "    }\n",
              "\n",
              "    .dataframe thead th {\n",
              "        text-align: right;\n",
              "    }\n",
              "</style>\n",
              "<table border=\"1\" class=\"dataframe\">\n",
              "  <thead>\n",
              "    <tr style=\"text-align: right;\">\n",
              "      <th></th>\n",
              "      <th>strain</th>\n",
              "      <th>date</th>\n",
              "      <th>division</th>\n",
              "      <th>location</th>\n",
              "      <th>age</th>\n",
              "      <th>sex</th>\n",
              "      <th>submitting_lab</th>\n",
              "      <th>last_vaccinated</th>\n",
              "      <th>region_type</th>\n",
              "      <th>clade</th>\n",
              "      <th>aaSubstitutions</th>\n",
              "      <th>lineage</th>\n",
              "      <th>ImpLin</th>\n",
              "      <th>Variant</th>\n",
              "    </tr>\n",
              "  </thead>\n",
              "  <tbody>\n",
              "    <tr>\n",
              "      <th>0</th>\n",
              "      <td>hCoV-19/India/INSACOG/AS-CSIR-NEIST1-CIDIN0011...</td>\n",
              "      <td>2021-05-15</td>\n",
              "      <td>Assam</td>\n",
              "      <td>JORHAT</td>\n",
              "      <td>51</td>\n",
              "      <td>Male</td>\n",
              "      <td>NEIST</td>\n",
              "      <td>1st dose: COVAXIN, 2021-04-20</td>\n",
              "      <td>North East India</td>\n",
              "      <td>21A (Delta)</td>\n",
              "      <td>M:I82T,N:D63G,N:R203M,N:T362I,N:D377Y,N:R385K,...</td>\n",
              "      <td>B.1.617.2</td>\n",
              "      <td>Delta</td>\n",
              "      <td>VOC</td>\n",
              "    </tr>\n",
              "    <tr>\n",
              "      <th>1</th>\n",
              "      <td>hCoV-19/India/INSACOG/AS-CSIR-NEIST1-CIDIN0001...</td>\n",
              "      <td>2020-07-21</td>\n",
              "      <td>Assam</td>\n",
              "      <td>GOLAGHAT</td>\n",
              "      <td>55</td>\n",
              "      <td>Male</td>\n",
              "      <td>NEIST</td>\n",
              "      <td>unknown</td>\n",
              "      <td>North East India</td>\n",
              "      <td>20A</td>\n",
              "      <td>ORF1a:V561A,ORF1a:A4094V,ORF1b:P314L,ORF3a:Q57...</td>\n",
              "      <td>B.1.36</td>\n",
              "      <td>Other</td>\n",
              "      <td>Other</td>\n",
              "    </tr>\n",
              "  </tbody>\n",
              "</table>\n",
              "</div>"
            ],
            "text/plain": [
              "                                              strain        date  ... ImpLin Variant\n",
              "0  hCoV-19/India/INSACOG/AS-CSIR-NEIST1-CIDIN0011...  2021-05-15  ...  Delta     VOC\n",
              "1  hCoV-19/India/INSACOG/AS-CSIR-NEIST1-CIDIN0001...  2020-07-21  ...  Other   Other\n",
              "\n",
              "[2 rows x 14 columns]"
            ]
          },
          "metadata": {},
          "execution_count": 8
        }
      ]
    },
    {
      "cell_type": "code",
      "metadata": {
        "id": "uYGcj8z0io9e"
      },
      "source": [
        "#date_format_change"
      ],
      "execution_count": null,
      "outputs": []
    },
    {
      "cell_type": "code",
      "metadata": {
        "colab": {
          "base_uri": "https://localhost:8080/",
          "height": 233
        },
        "id": "AWfv4UVfisaZ",
        "outputId": "a7b0a334-765b-4032-a0d5-75bc19a9dc37"
      },
      "source": [
        "df[\"date\"] = pd.to_datetime(df[\"date\"])\n",
        "df[\"year\"] = df[\"date\"].dt.year\n",
        "df[\"month\"] = df[\"date\"].dt.month\n",
        "df.head(2)"
      ],
      "execution_count": null,
      "outputs": [
        {
          "output_type": "execute_result",
          "data": {
            "text/html": [
              "<div>\n",
              "<style scoped>\n",
              "    .dataframe tbody tr th:only-of-type {\n",
              "        vertical-align: middle;\n",
              "    }\n",
              "\n",
              "    .dataframe tbody tr th {\n",
              "        vertical-align: top;\n",
              "    }\n",
              "\n",
              "    .dataframe thead th {\n",
              "        text-align: right;\n",
              "    }\n",
              "</style>\n",
              "<table border=\"1\" class=\"dataframe\">\n",
              "  <thead>\n",
              "    <tr style=\"text-align: right;\">\n",
              "      <th></th>\n",
              "      <th>strain</th>\n",
              "      <th>date</th>\n",
              "      <th>division</th>\n",
              "      <th>location</th>\n",
              "      <th>age</th>\n",
              "      <th>sex</th>\n",
              "      <th>submitting_lab</th>\n",
              "      <th>last_vaccinated</th>\n",
              "      <th>region_type</th>\n",
              "      <th>clade</th>\n",
              "      <th>aaSubstitutions</th>\n",
              "      <th>lineage</th>\n",
              "      <th>ImpLin</th>\n",
              "      <th>Variant</th>\n",
              "      <th>year</th>\n",
              "      <th>month</th>\n",
              "    </tr>\n",
              "  </thead>\n",
              "  <tbody>\n",
              "    <tr>\n",
              "      <th>0</th>\n",
              "      <td>hCoV-19/India/INSACOG/AS-CSIR-NEIST1-CIDIN0011...</td>\n",
              "      <td>2021-05-15</td>\n",
              "      <td>Assam</td>\n",
              "      <td>JORHAT</td>\n",
              "      <td>51</td>\n",
              "      <td>Male</td>\n",
              "      <td>NEIST</td>\n",
              "      <td>1st dose: COVAXIN, 2021-04-20</td>\n",
              "      <td>North East India</td>\n",
              "      <td>21A (Delta)</td>\n",
              "      <td>M:I82T,N:D63G,N:R203M,N:T362I,N:D377Y,N:R385K,...</td>\n",
              "      <td>B.1.617.2</td>\n",
              "      <td>Delta</td>\n",
              "      <td>VOC</td>\n",
              "      <td>2021</td>\n",
              "      <td>5</td>\n",
              "    </tr>\n",
              "    <tr>\n",
              "      <th>1</th>\n",
              "      <td>hCoV-19/India/INSACOG/AS-CSIR-NEIST1-CIDIN0001...</td>\n",
              "      <td>2020-07-21</td>\n",
              "      <td>Assam</td>\n",
              "      <td>GOLAGHAT</td>\n",
              "      <td>55</td>\n",
              "      <td>Male</td>\n",
              "      <td>NEIST</td>\n",
              "      <td>unknown</td>\n",
              "      <td>North East India</td>\n",
              "      <td>20A</td>\n",
              "      <td>ORF1a:V561A,ORF1a:A4094V,ORF1b:P314L,ORF3a:Q57...</td>\n",
              "      <td>B.1.36</td>\n",
              "      <td>Other</td>\n",
              "      <td>Other</td>\n",
              "      <td>2020</td>\n",
              "      <td>7</td>\n",
              "    </tr>\n",
              "  </tbody>\n",
              "</table>\n",
              "</div>"
            ],
            "text/plain": [
              "                                              strain       date  ...  year month\n",
              "0  hCoV-19/India/INSACOG/AS-CSIR-NEIST1-CIDIN0011... 2021-05-15  ...  2021     5\n",
              "1  hCoV-19/India/INSACOG/AS-CSIR-NEIST1-CIDIN0001... 2020-07-21  ...  2020     7\n",
              "\n",
              "[2 rows x 16 columns]"
            ]
          },
          "metadata": {},
          "execution_count": 9
        }
      ]
    },
    {
      "cell_type": "code",
      "metadata": {
        "id": "EanKXYoBhOpy"
      },
      "source": [
        "#amino_acid_explode"
      ],
      "execution_count": null,
      "outputs": []
    },
    {
      "cell_type": "code",
      "metadata": {
        "colab": {
          "base_uri": "https://localhost:8080/",
          "height": 151
        },
        "id": "_CbnlWmKfwSm",
        "outputId": "1a99fcbe-83d8-49f1-b33e-1e33b4d78c10"
      },
      "source": [
        "df['aaSubstitutions']=df['aaSubstitutions'].map(str)\n",
        "df['aaSubstitutions'] = df['aaSubstitutions'].str.split(',')\n",
        "mut1 = df.explode('aaSubstitutions')\n",
        "mut1 = df.explode('aaSubstitutions')\n",
        "mut1[['gene', 'aaMutations']] = mut1['aaSubstitutions'].str.split(':', expand=True)\n",
        "mut1.head(1)"
      ],
      "execution_count": null,
      "outputs": [
        {
          "output_type": "execute_result",
          "data": {
            "text/html": [
              "<div>\n",
              "<style scoped>\n",
              "    .dataframe tbody tr th:only-of-type {\n",
              "        vertical-align: middle;\n",
              "    }\n",
              "\n",
              "    .dataframe tbody tr th {\n",
              "        vertical-align: top;\n",
              "    }\n",
              "\n",
              "    .dataframe thead th {\n",
              "        text-align: right;\n",
              "    }\n",
              "</style>\n",
              "<table border=\"1\" class=\"dataframe\">\n",
              "  <thead>\n",
              "    <tr style=\"text-align: right;\">\n",
              "      <th></th>\n",
              "      <th>strain</th>\n",
              "      <th>date</th>\n",
              "      <th>division</th>\n",
              "      <th>location</th>\n",
              "      <th>age</th>\n",
              "      <th>sex</th>\n",
              "      <th>submitting_lab</th>\n",
              "      <th>last_vaccinated</th>\n",
              "      <th>region_type</th>\n",
              "      <th>clade</th>\n",
              "      <th>aaSubstitutions</th>\n",
              "      <th>lineage</th>\n",
              "      <th>ImpLin</th>\n",
              "      <th>Variant</th>\n",
              "      <th>year</th>\n",
              "      <th>month</th>\n",
              "      <th>gene</th>\n",
              "      <th>aaMutations</th>\n",
              "    </tr>\n",
              "  </thead>\n",
              "  <tbody>\n",
              "    <tr>\n",
              "      <th>0</th>\n",
              "      <td>hCoV-19/India/INSACOG/AS-CSIR-NEIST1-CIDIN0011...</td>\n",
              "      <td>2021-05-15</td>\n",
              "      <td>Assam</td>\n",
              "      <td>JORHAT</td>\n",
              "      <td>51</td>\n",
              "      <td>Male</td>\n",
              "      <td>NEIST</td>\n",
              "      <td>1st dose: COVAXIN, 2021-04-20</td>\n",
              "      <td>North East India</td>\n",
              "      <td>21A (Delta)</td>\n",
              "      <td>M:I82T</td>\n",
              "      <td>B.1.617.2</td>\n",
              "      <td>Delta</td>\n",
              "      <td>VOC</td>\n",
              "      <td>2021</td>\n",
              "      <td>5</td>\n",
              "      <td>M</td>\n",
              "      <td>I82T</td>\n",
              "    </tr>\n",
              "  </tbody>\n",
              "</table>\n",
              "</div>"
            ],
            "text/plain": [
              "                                              strain  ... aaMutations\n",
              "0  hCoV-19/India/INSACOG/AS-CSIR-NEIST1-CIDIN0011...  ...        I82T\n",
              "\n",
              "[1 rows x 18 columns]"
            ]
          },
          "metadata": {},
          "execution_count": 10
        }
      ]
    },
    {
      "cell_type": "code",
      "metadata": {
        "id": "BW8iDfylhStv"
      },
      "source": [
        "#mutation_split"
      ],
      "execution_count": null,
      "outputs": []
    },
    {
      "cell_type": "code",
      "metadata": {
        "colab": {
          "base_uri": "https://localhost:8080/",
          "height": 233
        },
        "id": "Spi5w9iCf9IU",
        "outputId": "26bd69c9-8a28-465c-bd9f-097736f49d20"
      },
      "source": [
        "mut2 = mut1['aaMutations'].str.split('(\\d+)([A-Za-z]+)', expand=True)\n",
        "mut3 = pd.concat([mut1, mut2], axis=1, join='inner')\n",
        "mut3.rename(columns={0:'RefAA', 1:'Position', 2:'AltAA'}, inplace=True)\n",
        "mut3.drop(3, axis=1, inplace=True)\n",
        "mut3.head(2)"
      ],
      "execution_count": null,
      "outputs": [
        {
          "output_type": "execute_result",
          "data": {
            "text/html": [
              "<div>\n",
              "<style scoped>\n",
              "    .dataframe tbody tr th:only-of-type {\n",
              "        vertical-align: middle;\n",
              "    }\n",
              "\n",
              "    .dataframe tbody tr th {\n",
              "        vertical-align: top;\n",
              "    }\n",
              "\n",
              "    .dataframe thead th {\n",
              "        text-align: right;\n",
              "    }\n",
              "</style>\n",
              "<table border=\"1\" class=\"dataframe\">\n",
              "  <thead>\n",
              "    <tr style=\"text-align: right;\">\n",
              "      <th></th>\n",
              "      <th>strain</th>\n",
              "      <th>date</th>\n",
              "      <th>division</th>\n",
              "      <th>location</th>\n",
              "      <th>age</th>\n",
              "      <th>sex</th>\n",
              "      <th>submitting_lab</th>\n",
              "      <th>last_vaccinated</th>\n",
              "      <th>region_type</th>\n",
              "      <th>clade</th>\n",
              "      <th>aaSubstitutions</th>\n",
              "      <th>lineage</th>\n",
              "      <th>ImpLin</th>\n",
              "      <th>Variant</th>\n",
              "      <th>year</th>\n",
              "      <th>month</th>\n",
              "      <th>gene</th>\n",
              "      <th>aaMutations</th>\n",
              "      <th>RefAA</th>\n",
              "      <th>Position</th>\n",
              "      <th>AltAA</th>\n",
              "    </tr>\n",
              "  </thead>\n",
              "  <tbody>\n",
              "    <tr>\n",
              "      <th>0</th>\n",
              "      <td>hCoV-19/India/INSACOG/AS-CSIR-NEIST1-CIDIN0011...</td>\n",
              "      <td>2021-05-15</td>\n",
              "      <td>Assam</td>\n",
              "      <td>JORHAT</td>\n",
              "      <td>51</td>\n",
              "      <td>Male</td>\n",
              "      <td>NEIST</td>\n",
              "      <td>1st dose: COVAXIN, 2021-04-20</td>\n",
              "      <td>North East India</td>\n",
              "      <td>21A (Delta)</td>\n",
              "      <td>M:I82T</td>\n",
              "      <td>B.1.617.2</td>\n",
              "      <td>Delta</td>\n",
              "      <td>VOC</td>\n",
              "      <td>2021</td>\n",
              "      <td>5</td>\n",
              "      <td>M</td>\n",
              "      <td>I82T</td>\n",
              "      <td>I</td>\n",
              "      <td>82</td>\n",
              "      <td>T</td>\n",
              "    </tr>\n",
              "    <tr>\n",
              "      <th>0</th>\n",
              "      <td>hCoV-19/India/INSACOG/AS-CSIR-NEIST1-CIDIN0011...</td>\n",
              "      <td>2021-05-15</td>\n",
              "      <td>Assam</td>\n",
              "      <td>JORHAT</td>\n",
              "      <td>51</td>\n",
              "      <td>Male</td>\n",
              "      <td>NEIST</td>\n",
              "      <td>1st dose: COVAXIN, 2021-04-20</td>\n",
              "      <td>North East India</td>\n",
              "      <td>21A (Delta)</td>\n",
              "      <td>N:D63G</td>\n",
              "      <td>B.1.617.2</td>\n",
              "      <td>Delta</td>\n",
              "      <td>VOC</td>\n",
              "      <td>2021</td>\n",
              "      <td>5</td>\n",
              "      <td>N</td>\n",
              "      <td>D63G</td>\n",
              "      <td>D</td>\n",
              "      <td>63</td>\n",
              "      <td>G</td>\n",
              "    </tr>\n",
              "  </tbody>\n",
              "</table>\n",
              "</div>"
            ],
            "text/plain": [
              "                                              strain       date  ... Position AltAA\n",
              "0  hCoV-19/India/INSACOG/AS-CSIR-NEIST1-CIDIN0011... 2021-05-15  ...       82     T\n",
              "0  hCoV-19/India/INSACOG/AS-CSIR-NEIST1-CIDIN0011... 2021-05-15  ...       63     G\n",
              "\n",
              "[2 rows x 21 columns]"
            ]
          },
          "metadata": {},
          "execution_count": 11
        }
      ]
    },
    {
      "cell_type": "code",
      "metadata": {
        "id": "gGh9RCq6iR9x"
      },
      "source": [
        "mut3.to_csv('mutation.csv', index=False)"
      ],
      "execution_count": null,
      "outputs": []
    },
    {
      "cell_type": "code",
      "metadata": {
        "id": "8u-ES2uzj-fG"
      },
      "source": [
        "#Select_Specific_gene"
      ],
      "execution_count": null,
      "outputs": []
    },
    {
      "cell_type": "code",
      "metadata": {
        "id": "7wz5hewlmKJJ"
      },
      "source": [
        "#full_specific_gene_download"
      ],
      "execution_count": null,
      "outputs": []
    },
    {
      "cell_type": "code",
      "metadata": {
        "colab": {
          "base_uri": "https://localhost:8080/",
          "height": 151
        },
        "id": "lUTwYfdVl--h",
        "outputId": "fb74b9c3-3f8a-470c-aadf-7af3375debe8"
      },
      "source": [
        "S_gene=mut3[mut3['gene'] == 'S']\n",
        "S_gene.to_csv('S_geneFull.csv', index=False)\n",
        "S_gene.head(1)"
      ],
      "execution_count": null,
      "outputs": [
        {
          "output_type": "execute_result",
          "data": {
            "text/html": [
              "<div>\n",
              "<style scoped>\n",
              "    .dataframe tbody tr th:only-of-type {\n",
              "        vertical-align: middle;\n",
              "    }\n",
              "\n",
              "    .dataframe tbody tr th {\n",
              "        vertical-align: top;\n",
              "    }\n",
              "\n",
              "    .dataframe thead th {\n",
              "        text-align: right;\n",
              "    }\n",
              "</style>\n",
              "<table border=\"1\" class=\"dataframe\">\n",
              "  <thead>\n",
              "    <tr style=\"text-align: right;\">\n",
              "      <th></th>\n",
              "      <th>strain</th>\n",
              "      <th>date</th>\n",
              "      <th>division</th>\n",
              "      <th>location</th>\n",
              "      <th>age</th>\n",
              "      <th>sex</th>\n",
              "      <th>submitting_lab</th>\n",
              "      <th>last_vaccinated</th>\n",
              "      <th>region_type</th>\n",
              "      <th>clade</th>\n",
              "      <th>aaSubstitutions</th>\n",
              "      <th>lineage</th>\n",
              "      <th>ImpLin</th>\n",
              "      <th>Variant</th>\n",
              "      <th>year</th>\n",
              "      <th>month</th>\n",
              "      <th>gene</th>\n",
              "      <th>aaMutations</th>\n",
              "      <th>RefAA</th>\n",
              "      <th>Position</th>\n",
              "      <th>AltAA</th>\n",
              "    </tr>\n",
              "  </thead>\n",
              "  <tbody>\n",
              "    <tr>\n",
              "      <th>0</th>\n",
              "      <td>hCoV-19/India/INSACOG/AS-CSIR-NEIST1-CIDIN0011...</td>\n",
              "      <td>2021-05-15</td>\n",
              "      <td>Assam</td>\n",
              "      <td>JORHAT</td>\n",
              "      <td>51</td>\n",
              "      <td>Male</td>\n",
              "      <td>NEIST</td>\n",
              "      <td>1st dose: COVAXIN, 2021-04-20</td>\n",
              "      <td>North East India</td>\n",
              "      <td>21A (Delta)</td>\n",
              "      <td>S:T19R</td>\n",
              "      <td>B.1.617.2</td>\n",
              "      <td>Delta</td>\n",
              "      <td>VOC</td>\n",
              "      <td>2021</td>\n",
              "      <td>5</td>\n",
              "      <td>S</td>\n",
              "      <td>T19R</td>\n",
              "      <td>T</td>\n",
              "      <td>19</td>\n",
              "      <td>R</td>\n",
              "    </tr>\n",
              "  </tbody>\n",
              "</table>\n",
              "</div>"
            ],
            "text/plain": [
              "                                              strain       date  ... Position AltAA\n",
              "0  hCoV-19/India/INSACOG/AS-CSIR-NEIST1-CIDIN0011... 2021-05-15  ...       19     R\n",
              "\n",
              "[1 rows x 21 columns]"
            ]
          },
          "metadata": {},
          "execution_count": 12
        }
      ]
    },
    {
      "cell_type": "code",
      "metadata": {
        "id": "OhaNKwy5mQiw"
      },
      "source": [
        "#year_wise_specific_gene_down"
      ],
      "execution_count": null,
      "outputs": []
    },
    {
      "cell_type": "code",
      "metadata": {
        "colab": {
          "base_uri": "https://localhost:8080/",
          "height": 235
        },
        "id": "9m_OhrB2kGtt",
        "outputId": "5fab9aaa-57bd-486e-8675-efcf63c9a738"
      },
      "source": [
        "#S_gene=mut3[mut3['gene'] == 'S']\n",
        "#pd.crosstab([S_gene.gene, S_gene.year, S_gene.ImpLin, S_gene.aaMutations], S_gene.month, margins=True).head()"
      ],
      "execution_count": null,
      "outputs": [
        {
          "output_type": "execute_result",
          "data": {
            "text/html": [
              "<div>\n",
              "<style scoped>\n",
              "    .dataframe tbody tr th:only-of-type {\n",
              "        vertical-align: middle;\n",
              "    }\n",
              "\n",
              "    .dataframe tbody tr th {\n",
              "        vertical-align: top;\n",
              "    }\n",
              "\n",
              "    .dataframe thead th {\n",
              "        text-align: right;\n",
              "    }\n",
              "</style>\n",
              "<table border=\"1\" class=\"dataframe\">\n",
              "  <thead>\n",
              "    <tr style=\"text-align: right;\">\n",
              "      <th></th>\n",
              "      <th></th>\n",
              "      <th></th>\n",
              "      <th>month</th>\n",
              "      <th>1</th>\n",
              "      <th>2</th>\n",
              "      <th>3</th>\n",
              "      <th>4</th>\n",
              "      <th>5</th>\n",
              "      <th>6</th>\n",
              "      <th>7</th>\n",
              "      <th>8</th>\n",
              "      <th>9</th>\n",
              "      <th>10</th>\n",
              "      <th>11</th>\n",
              "      <th>12</th>\n",
              "      <th>All</th>\n",
              "    </tr>\n",
              "    <tr>\n",
              "      <th>gene</th>\n",
              "      <th>year</th>\n",
              "      <th>ImpLin</th>\n",
              "      <th>aaMutations</th>\n",
              "      <th></th>\n",
              "      <th></th>\n",
              "      <th></th>\n",
              "      <th></th>\n",
              "      <th></th>\n",
              "      <th></th>\n",
              "      <th></th>\n",
              "      <th></th>\n",
              "      <th></th>\n",
              "      <th></th>\n",
              "      <th></th>\n",
              "      <th></th>\n",
              "      <th></th>\n",
              "    </tr>\n",
              "  </thead>\n",
              "  <tbody>\n",
              "    <tr>\n",
              "      <th rowspan=\"5\" valign=\"top\">S</th>\n",
              "      <th rowspan=\"5\" valign=\"top\">2020</th>\n",
              "      <th rowspan=\"5\" valign=\"top\">AY.X</th>\n",
              "      <th>A879S</th>\n",
              "      <td>0</td>\n",
              "      <td>0</td>\n",
              "      <td>0</td>\n",
              "      <td>0</td>\n",
              "      <td>0</td>\n",
              "      <td>0</td>\n",
              "      <td>0</td>\n",
              "      <td>0</td>\n",
              "      <td>0</td>\n",
              "      <td>0</td>\n",
              "      <td>1</td>\n",
              "      <td>0</td>\n",
              "      <td>1</td>\n",
              "    </tr>\n",
              "    <tr>\n",
              "      <th>D614G</th>\n",
              "      <td>0</td>\n",
              "      <td>0</td>\n",
              "      <td>0</td>\n",
              "      <td>0</td>\n",
              "      <td>0</td>\n",
              "      <td>0</td>\n",
              "      <td>2</td>\n",
              "      <td>0</td>\n",
              "      <td>1</td>\n",
              "      <td>1</td>\n",
              "      <td>3</td>\n",
              "      <td>4</td>\n",
              "      <td>11</td>\n",
              "    </tr>\n",
              "    <tr>\n",
              "      <th>D80A</th>\n",
              "      <td>0</td>\n",
              "      <td>0</td>\n",
              "      <td>0</td>\n",
              "      <td>0</td>\n",
              "      <td>0</td>\n",
              "      <td>0</td>\n",
              "      <td>0</td>\n",
              "      <td>0</td>\n",
              "      <td>0</td>\n",
              "      <td>1</td>\n",
              "      <td>0</td>\n",
              "      <td>1</td>\n",
              "      <td>2</td>\n",
              "    </tr>\n",
              "    <tr>\n",
              "      <th>D950N</th>\n",
              "      <td>0</td>\n",
              "      <td>0</td>\n",
              "      <td>0</td>\n",
              "      <td>0</td>\n",
              "      <td>0</td>\n",
              "      <td>0</td>\n",
              "      <td>2</td>\n",
              "      <td>0</td>\n",
              "      <td>1</td>\n",
              "      <td>1</td>\n",
              "      <td>3</td>\n",
              "      <td>4</td>\n",
              "      <td>11</td>\n",
              "    </tr>\n",
              "    <tr>\n",
              "      <th>E154K</th>\n",
              "      <td>0</td>\n",
              "      <td>0</td>\n",
              "      <td>0</td>\n",
              "      <td>0</td>\n",
              "      <td>0</td>\n",
              "      <td>0</td>\n",
              "      <td>0</td>\n",
              "      <td>0</td>\n",
              "      <td>0</td>\n",
              "      <td>0</td>\n",
              "      <td>1</td>\n",
              "      <td>0</td>\n",
              "      <td>1</td>\n",
              "    </tr>\n",
              "  </tbody>\n",
              "</table>\n",
              "</div>"
            ],
            "text/plain": [
              "month                         1  2  3  4  5  6  7  8  9  10  11  12  All\n",
              "gene year ImpLin aaMutations                                            \n",
              "S    2020 AY.X   A879S        0  0  0  0  0  0  0  0  0   0   1   0    1\n",
              "                 D614G        0  0  0  0  0  0  2  0  1   1   3   4   11\n",
              "                 D80A         0  0  0  0  0  0  0  0  0   1   0   1    2\n",
              "                 D950N        0  0  0  0  0  0  2  0  1   1   3   4   11\n",
              "                 E154K        0  0  0  0  0  0  0  0  0   0   1   0    1"
            ]
          },
          "metadata": {},
          "execution_count": 109
        }
      ]
    },
    {
      "cell_type": "code",
      "metadata": {
        "id": "sqGVsj7h3DkI"
      },
      "source": [
        "#pd.crosstab([S_gene.gene, S_gene.year, S_gene.ImpLin, S_gene.aaMutations], S_gene.month, margins=True).to_csv('S_gene_yr_iLin.csv')"
      ],
      "execution_count": null,
      "outputs": []
    },
    {
      "cell_type": "code",
      "metadata": {
        "id": "-_zKmtfi22-T"
      },
      "source": [
        "#year_importantLineage_division_specific_gene_download"
      ],
      "execution_count": null,
      "outputs": []
    },
    {
      "cell_type": "code",
      "metadata": {
        "colab": {
          "base_uri": "https://localhost:8080/",
          "height": 235
        },
        "id": "pMM7Jvhq2hcz",
        "outputId": "49bd579c-b37d-4170-d836-c12583350cbe"
      },
      "source": [
        "#S_gene=mut3[mut3['gene'] == 'S']\n",
        "#pd.crosstab([S_gene.gene, S_gene.year, S_gene.ImpLin, S_gene.division, S_gene.aaMutations], S_gene.month, margins=True).head()"
      ],
      "execution_count": null,
      "outputs": [
        {
          "output_type": "execute_result",
          "data": {
            "text/html": [
              "<div>\n",
              "<style scoped>\n",
              "    .dataframe tbody tr th:only-of-type {\n",
              "        vertical-align: middle;\n",
              "    }\n",
              "\n",
              "    .dataframe tbody tr th {\n",
              "        vertical-align: top;\n",
              "    }\n",
              "\n",
              "    .dataframe thead th {\n",
              "        text-align: right;\n",
              "    }\n",
              "</style>\n",
              "<table border=\"1\" class=\"dataframe\">\n",
              "  <thead>\n",
              "    <tr style=\"text-align: right;\">\n",
              "      <th></th>\n",
              "      <th></th>\n",
              "      <th></th>\n",
              "      <th></th>\n",
              "      <th>month</th>\n",
              "      <th>1</th>\n",
              "      <th>2</th>\n",
              "      <th>3</th>\n",
              "      <th>4</th>\n",
              "      <th>5</th>\n",
              "      <th>6</th>\n",
              "      <th>7</th>\n",
              "      <th>8</th>\n",
              "      <th>9</th>\n",
              "      <th>10</th>\n",
              "      <th>11</th>\n",
              "      <th>12</th>\n",
              "      <th>All</th>\n",
              "    </tr>\n",
              "    <tr>\n",
              "      <th>gene</th>\n",
              "      <th>year</th>\n",
              "      <th>ImpLin</th>\n",
              "      <th>division</th>\n",
              "      <th>aaMutations</th>\n",
              "      <th></th>\n",
              "      <th></th>\n",
              "      <th></th>\n",
              "      <th></th>\n",
              "      <th></th>\n",
              "      <th></th>\n",
              "      <th></th>\n",
              "      <th></th>\n",
              "      <th></th>\n",
              "      <th></th>\n",
              "      <th></th>\n",
              "      <th></th>\n",
              "      <th></th>\n",
              "    </tr>\n",
              "  </thead>\n",
              "  <tbody>\n",
              "    <tr>\n",
              "      <th rowspan=\"5\" valign=\"top\">S</th>\n",
              "      <th rowspan=\"5\" valign=\"top\">2020</th>\n",
              "      <th rowspan=\"5\" valign=\"top\">AY.X</th>\n",
              "      <th rowspan=\"4\" valign=\"top\">Jammu and Kashmir</th>\n",
              "      <th>D614G</th>\n",
              "      <td>0</td>\n",
              "      <td>0</td>\n",
              "      <td>0</td>\n",
              "      <td>0</td>\n",
              "      <td>0</td>\n",
              "      <td>0</td>\n",
              "      <td>0</td>\n",
              "      <td>0</td>\n",
              "      <td>0</td>\n",
              "      <td>0</td>\n",
              "      <td>0</td>\n",
              "      <td>1</td>\n",
              "      <td>1</td>\n",
              "    </tr>\n",
              "    <tr>\n",
              "      <th>D950N</th>\n",
              "      <td>0</td>\n",
              "      <td>0</td>\n",
              "      <td>0</td>\n",
              "      <td>0</td>\n",
              "      <td>0</td>\n",
              "      <td>0</td>\n",
              "      <td>0</td>\n",
              "      <td>0</td>\n",
              "      <td>0</td>\n",
              "      <td>0</td>\n",
              "      <td>0</td>\n",
              "      <td>1</td>\n",
              "      <td>1</td>\n",
              "    </tr>\n",
              "    <tr>\n",
              "      <th>P681R</th>\n",
              "      <td>0</td>\n",
              "      <td>0</td>\n",
              "      <td>0</td>\n",
              "      <td>0</td>\n",
              "      <td>0</td>\n",
              "      <td>0</td>\n",
              "      <td>0</td>\n",
              "      <td>0</td>\n",
              "      <td>0</td>\n",
              "      <td>0</td>\n",
              "      <td>0</td>\n",
              "      <td>1</td>\n",
              "      <td>1</td>\n",
              "    </tr>\n",
              "    <tr>\n",
              "      <th>T19R</th>\n",
              "      <td>0</td>\n",
              "      <td>0</td>\n",
              "      <td>0</td>\n",
              "      <td>0</td>\n",
              "      <td>0</td>\n",
              "      <td>0</td>\n",
              "      <td>0</td>\n",
              "      <td>0</td>\n",
              "      <td>0</td>\n",
              "      <td>0</td>\n",
              "      <td>0</td>\n",
              "      <td>1</td>\n",
              "      <td>1</td>\n",
              "    </tr>\n",
              "    <tr>\n",
              "      <th>Madhya Pradesh</th>\n",
              "      <th>D614G</th>\n",
              "      <td>0</td>\n",
              "      <td>0</td>\n",
              "      <td>0</td>\n",
              "      <td>0</td>\n",
              "      <td>0</td>\n",
              "      <td>0</td>\n",
              "      <td>0</td>\n",
              "      <td>0</td>\n",
              "      <td>1</td>\n",
              "      <td>0</td>\n",
              "      <td>1</td>\n",
              "      <td>0</td>\n",
              "      <td>2</td>\n",
              "    </tr>\n",
              "  </tbody>\n",
              "</table>\n",
              "</div>"
            ],
            "text/plain": [
              "month                                           1  2  3  4  ...  10  11  12  All\n",
              "gene year ImpLin division          aaMutations              ...                 \n",
              "S    2020 AY.X   Jammu and Kashmir D614G        0  0  0  0  ...   0   0   1    1\n",
              "                                   D950N        0  0  0  0  ...   0   0   1    1\n",
              "                                   P681R        0  0  0  0  ...   0   0   1    1\n",
              "                                   T19R         0  0  0  0  ...   0   0   1    1\n",
              "                 Madhya Pradesh    D614G        0  0  0  0  ...   0   1   0    2\n",
              "\n",
              "[5 rows x 13 columns]"
            ]
          },
          "metadata": {},
          "execution_count": 110
        }
      ]
    },
    {
      "cell_type": "code",
      "metadata": {
        "id": "cfrCixJY3bEI"
      },
      "source": [
        "#pd.crosstab([S_gene.gene, S_gene.year, S_gene.ImpLin, S_gene.division, S_gene.aaMutations], S_gene.month, margins=True).to_csv('S_gene_yr_iLin_div.csv')"
      ],
      "execution_count": null,
      "outputs": []
    },
    {
      "cell_type": "code",
      "metadata": {
        "id": "tz_zpeDMgbN7"
      },
      "source": [
        "#mut3.to_csv('Mutation_split.csv', index=False)"
      ],
      "execution_count": null,
      "outputs": []
    }
  ]
}