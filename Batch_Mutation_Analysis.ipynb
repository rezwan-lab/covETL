{
  "nbformat": 4,
  "nbformat_minor": 0,
  "metadata": {
    "colab": {
      "provenance": []
    },
    "kernelspec": {
      "name": "python3",
      "display_name": "Python 3"
    },
    "language_info": {
      "name": "python"
    }
  },
  "cells": [
    {
      "cell_type": "markdown",
      "metadata": {
        "id": "UyaiI0y1-o4g"
      },
      "source": [
        "# **install_library**"
      ]
    },
    {
      "cell_type": "code",
      "metadata": {
        "id": "rmzM1cu5-NM4"
      },
      "source": [
        "import pandas as pd\n",
        "import numpy as np"
      ],
      "execution_count": null,
      "outputs": []
    },
    {
      "cell_type": "markdown",
      "metadata": {
        "id": "z68mjX67_q60"
      },
      "source": [
        "# **data_upload**"
      ]
    },
    {
      "cell_type": "markdown",
      "metadata": {
        "id": "pkkWGWBU_yN7"
      },
      "source": [
        "mount_gdrive"
      ]
    },
    {
      "cell_type": "code",
      "metadata": {
        "id": "P21rS5VX_xZV",
        "colab": {
          "base_uri": "https://localhost:8080/"
        },
        "outputId": "b0ca147f-627a-4420-8bd1-b801f5de01dc"
      },
      "source": [
        "from google.colab import drive\n",
        "drive.mount('/content/drive')"
      ],
      "execution_count": null,
      "outputs": [
        {
          "output_type": "stream",
          "name": "stdout",
          "text": [
            "Drive already mounted at /content/drive; to attempt to forcibly remount, call drive.mount(\"/content/drive\", force_remount=True).\n"
          ]
        }
      ]
    },
    {
      "cell_type": "markdown",
      "metadata": {
        "id": "yLEjhxkn_7pc"
      },
      "source": [
        "import_file"
      ]
    },
    {
      "cell_type": "code",
      "metadata": {
        "id": "caPBwETTADUi"
      },
      "source": [
        "df = pd.read_table(\"/content/drive/MyDrive/Weekly_Analysis/WA28_07.10/nextstrain_metadata_WA28_07.10.tsv\", sep='\\t')"
      ],
      "execution_count": null,
      "outputs": []
    },
    {
      "cell_type": "markdown",
      "metadata": {
        "id": "Uz85YocsAVb5"
      },
      "source": [
        "# **data_clean**"
      ]
    },
    {
      "cell_type": "code",
      "metadata": {
        "id": "HHJJaQc8Kp_E"
      },
      "source": [
        "#dataNeed_Strain_Date_Division_Location_Submitting_Lab_Region_Type_Clade_Lineage_ImpLin_VariantStatus"
      ],
      "execution_count": null,
      "outputs": []
    },
    {
      "cell_type": "code",
      "metadata": {
        "id": "6YwXCU44ccVR"
      },
      "source": [
        "#df.head(2)"
      ],
      "execution_count": null,
      "outputs": []
    },
    {
      "cell_type": "markdown",
      "metadata": {
        "id": "57B8CN-gAag4"
      },
      "source": [
        "delete_unnessary_columns_change_in_dataset"
      ]
    },
    {
      "cell_type": "code",
      "metadata": {
        "id": "TqaqwvuEAq6Q"
      },
      "source": [
        "df.drop([ 'virus','gisaid_epi_isl', 'genbank_accession', 'region', 'country', 'region_exposure', 'country_exposure', 'division_exposure', 'segment', 'length', 'host', 'originating_lab', 'authors', 'url',\n",
        "       'title', 'paper_url', 'date_submitted', 'purpose_of_sequencing', 'lab_id', 'totalInsertions', 'totalMissing', 'totalNonACGTNs', 'nonACGTNs', 'substitutions', 'deletions', 'aaDeletions', 'scorpio_call', 'note', 'pangoLEARN_version'], axis=1, inplace=True)\n",
        "#df.head(2)"
      ],
      "execution_count": null,
      "outputs": []
    },
    {
      "cell_type": "markdown",
      "metadata": {
        "id": "EjeHe8Et8iux"
      },
      "source": [
        "# Lineage_Name_Change"
      ]
    },
    {
      "cell_type": "code",
      "metadata": {
        "id": "Qj7IbViRRR2T"
      },
      "source": [
        "#focus on other"
      ],
      "execution_count": null,
      "outputs": []
    },
    {
      "cell_type": "code",
      "metadata": {
        "id": "Rz1dxyf68HtM"
      },
      "source": [
        "df.loc[df['lineage'] == 'B.1.1.7', 'ImpLin'] = 'Alpha'\n",
        "df.loc[df['lineage'] == 'Q.1', 'ImpLin'] = 'Alpha'\n",
        "df.loc[df['lineage'] == 'Q.2', 'ImpLin'] = 'Alpha'\n",
        "df.loc[df['lineage'] == 'Q.3', 'ImpLin'] = 'Alpha'\n",
        "df.loc[df['lineage'] == 'Q.4', 'ImpLin'] = 'Alpha'\n",
        "df.loc[df['lineage'] == 'Q.5', 'ImpLin'] = 'Alpha'\n",
        "df.loc[df['lineage'] == 'Q.6', 'ImpLin'] = 'Alpha'\n",
        "df.loc[df['lineage'] == 'Q.7', 'ImpLin'] = 'Alpha'\n",
        "df.loc[df['lineage'] == 'Q.8', 'ImpLin'] = 'Alpha'\n",
        "df.loc[df['lineage'] == 'B.1.351', 'ImpLin'] = 'Beta'\n",
        "df.loc[df['lineage'] == 'P.1', 'ImpLin'] = 'Gamma'\n",
        "df.loc[df['lineage'] == 'B.1.525', 'ImpLin'] = 'Monitoring'\n",
        "df.loc[df['lineage'] == 'B.1.526', 'ImpLin'] = 'Monitoring'\n",
        "df.loc[df['lineage'] == 'B.1.617.1', 'ImpLin'] = 'Monitoring'\n",
        "df.loc[df['lineage'] == 'C.37', 'ImpLin'] = 'Lambda'\n",
        "df.loc[df['lineage'] == 'B.1.621', 'ImpLin'] = 'Mu'\n",
        "df.loc[df['lineage'] == 'B.1.427', 'ImpLin'] = 'Monitoring'\n",
        "df.loc[df['lineage'] == 'B.1.429', 'ImpLin'] = 'Monitoring'\n",
        "df.loc[df['lineage'] == 'R.1', 'ImpLin'] = 'Monitoring'\n",
        "df.loc[df['lineage'] == 'B.1.466.2', 'ImpLin'] = 'Monitoring'\n",
        "df.loc[df['lineage'] == 'B.1.1.318', 'ImpLin'] = 'Monitoring'\n",
        "df.loc[df['lineage'] == 'B.1.1.519', 'ImpLin'] = 'Monitoring'\n",
        "df.loc[df['lineage'] == 'C.36.3', 'ImpLin'] = 'Monitoring'\n",
        "df.loc[df['lineage'] == 'B.1.214.2', 'ImpLin'] = 'Monitoring'\n",
        "df.loc[df['lineage'] == 'B.1.1.523', 'ImpLin'] = 'Monitoring'\n",
        "df.loc[df['lineage'] == 'B.1.619', 'ImpLin'] = 'Monitoring'\n",
        "df.loc[df['lineage'] == 'B.1.620', 'ImpLin'] = 'Monitoring'\n",
        "df.loc[df['lineage'] == 'C.1.2', 'ImpLin'] = 'Monitoring'\n",
        "df.loc[df['lineage'] == 'B.1.617.1', 'ImpLin'] = 'Monitoring'\n",
        "df.loc[df['lineage'] == 'B.1.526', 'ImpLin'] = 'Monitoring'\n",
        "df.loc[df['lineage'] == 'B.1.525', 'ImpLin'] = 'Monitoring'\n",
        "df.loc[df['lineage'] == 'B.1.617.2', 'ImpLin'] = 'Delta'\n",
        "df.loc[df['lineage'] == 'AY.1', 'ImpLin'] = 'Delta'\n",
        "df.loc[df['lineage'] == 'AY.2', 'ImpLin'] = 'Delta'\n",
        "df.loc[df['lineage'] == 'AY.3', 'ImpLin'] = 'Delta'\n",
        "df.loc[df['lineage'] == 'AY.3.1', 'ImpLin'] = 'Delta'\n",
        "df.loc[df['lineage'] == 'AY.4', 'ImpLin'] = 'Delta'\n",
        "df.loc[df['lineage'] == 'AY.5', 'ImpLin'] = 'Delta'\n",
        "df.loc[df['lineage'] == 'AY.5.1', 'ImpLin'] = 'Delta'\n",
        "df.loc[df['lineage'] == 'AY.5.2', 'ImpLin'] = 'Delta'\n",
        "df.loc[df['lineage'] == 'AY.6', 'ImpLin'] = 'Delta'\n",
        "df.loc[df['lineage'] == 'AY.7', 'ImpLin'] = 'Delta'\n",
        "df.loc[df['lineage'] == 'AY.7.1', 'ImpLin'] = 'Delta'\n",
        "df.loc[df['lineage'] == 'AY.7.2', 'ImpLin'] = 'Delta'\n",
        "df.loc[df['lineage'] == 'AY.8', 'ImpLin'] = 'Delta'\n",
        "df.loc[df['lineage'] == 'AY.9', 'ImpLin'] = 'Delta'\n",
        "df.loc[df['lineage'] == 'AY.10', 'ImpLin'] = 'Delta'\n",
        "df.loc[df['lineage'] == 'AY.11', 'ImpLin'] = 'Delta'\n",
        "df.loc[df['lineage'] == 'AY.12', 'ImpLin'] = 'Delta'\n",
        "df.loc[df['lineage'] == 'AY.13', 'ImpLin'] = 'Delta'\n",
        "df.loc[df['lineage'] == 'AY.14', 'ImpLin'] = 'Delta'\n",
        "df.loc[df['lineage'] == 'AY.15', 'ImpLin'] = 'Delta'\n",
        "df.loc[df['lineage'] == 'AY.16', 'ImpLin'] = 'Delta'\n",
        "df.loc[df['lineage'] == 'AY.17', 'ImpLin'] = 'Delta'\n",
        "df.loc[df['lineage'] == 'AY.18', 'ImpLin'] = 'Delta'\n",
        "df.loc[df['lineage'] == 'AY.19', 'ImpLin'] = 'Delta'\n",
        "df.loc[df['lineage'] == 'AY.20', 'ImpLin'] = 'Delta'\n",
        "df.loc[df['lineage'] == 'AY.21', 'ImpLin'] = 'Delta'\n",
        "df.loc[df['lineage'] == 'AY.22', 'ImpLin'] = 'Delta'\n",
        "df.loc[df['lineage'] == 'AY.23', 'ImpLin'] = 'Delta'\n",
        "df.loc[df['lineage'] == 'AY.24', 'ImpLin'] = 'Delta'\n",
        "df.loc[df['lineage'] == 'AY.25', 'ImpLin'] = 'Delta'\n",
        "df.loc[df['lineage'] == 'AY.26', 'ImpLin'] = 'Delta'\n",
        "df.loc[df['lineage'] == 'AY.27', 'ImpLin'] = 'Delta'\n",
        "df.loc[df['lineage'] == 'AY.28', 'ImpLin'] = 'Delta'\n",
        "df.loc[df['lineage'] == 'AY.29', 'ImpLin'] = 'Delta'\n",
        "df.loc[df['lineage'] == 'AY.30', 'ImpLin'] = 'Delta'\n",
        "df.loc[df['lineage'] == 'AY.31', 'ImpLin'] = 'Delta'\n",
        "df.loc[df['lineage'] == 'AY.32', 'ImpLin'] = 'Delta'\n",
        "df.loc[df['lineage'] == 'AY.33', 'ImpLin'] = 'Delta'\n",
        "df.loc[df['lineage'] == 'AY.34', 'ImpLin'] = 'Delta'\n",
        "df.loc[df['lineage'] == 'AY.35', 'ImpLin'] = 'Delta'\n",
        "df.loc[df['lineage'] == 'AY.36', 'ImpLin'] = 'Delta'\n",
        "df.loc[df['lineage'] == 'AY.37', 'ImpLin'] = 'Delta'\n",
        "df.loc[df['lineage'] == 'AY.38', 'ImpLin'] = 'Delta'\n",
        "df.loc[df['lineage'] == 'None', 'ImpLin'] = 'None'\n",
        "df.loc[(df['lineage'] != 'B.1.1.7') & (df['lineage'] != 'Q.1') & (df['lineage'] != 'Q.2') & (df['lineage'] != 'Q.3') & (df['lineage'] != 'Q.4') & (df['lineage'] != 'Q.5') & (df['lineage'] != 'Q.6') & (df['lineage'] != 'Q.7') & (df['lineage'] != 'Q.8') & (df['lineage'] != 'B.1.351') & (df['lineage'] != 'P.1') & (df['lineage'] != 'B.1.525') & (df['lineage'] != 'B.1.526') & (df['lineage'] != 'B.1.617.1') & (df['lineage'] != 'C.37') & (df['lineage'] != 'B.1.621') & (df['lineage'] != 'B.1.427') & (df['lineage'] != 'B.1.429') & (df['lineage'] != 'R.1') & (df['lineage'] != 'B.1.466.2') & (df['lineage'] != 'B.1.1.318') & (df['lineage'] != 'B.1.1.519') & (df['lineage'] != 'C.36.3') & (df['lineage'] != 'B.1.214.2') & (df['lineage'] != 'B.1.1.523') & (df['lineage'] != 'B.1.619') & (df['lineage'] != 'B.1.620') & (df['lineage'] != 'C.1.2') & (df['lineage'] != 'B.1.617.2') & (df['lineage'] != 'AY.1') & (df['lineage'] != 'AY.2') & (df['lineage'] != 'AY.3') & (df['lineage'] != 'AY.3.1') & (df['lineage'] != 'AY.4') & (df['lineage'] != 'AY.5') & (df['lineage'] != 'AY.5.1') & (df['lineage'] != 'AY.5.2') & (df['lineage'] != 'AY.6') & (df['lineage'] != 'AY.7') & (df['lineage'] != 'AY.7.1') & (df['lineage'] != 'AY.7.2') & (df['lineage'] != 'AY.8') & (df['lineage'] != 'AY.9') & (df['lineage'] != 'AY.10') & (df['lineage'] != 'AY.11') & (df['lineage'] != 'AY.12') & (df['lineage'] != 'AY.13') & (df['lineage'] != 'AY.14') & (df['lineage'] != 'AY.15') & (df['lineage'] != 'AY.16') & (df['lineage'] != 'AY.17') & (df['lineage'] != 'AY.18') & (df['lineage'] != 'AY.19') & (df['lineage'] != 'AY.20') & (df['lineage'] != 'AY.21') & (df['lineage'] != 'AY.22') & (df['lineage'] != 'AY.23') & (df['lineage'] != 'AY.24') & (df['lineage'] != 'AY.25') & (df['lineage'] != 'AY.26') & (df['lineage'] != 'AY.27') & (df['lineage'] != 'AY.28') & (df['lineage'] != 'AY.29') & (df['lineage'] != 'AY.30') & (df['lineage'] != 'AY.31') & (df['lineage'] != 'AY.32') & (df['lineage'] != 'AY.33') & (df['lineage'] != 'AY.34') & (df['lineage'] != 'AY.35') & (df['lineage'] != 'AY.36') & (df['lineage'] != 'AY.37') & (df['lineage'] != 'AY.38') & (df['lineage'] != 'None'), 'ImpLin'] = 'Other'"
      ],
      "execution_count": null,
      "outputs": []
    },
    {
      "cell_type": "code",
      "metadata": {
        "id": "1CgkQLMnY5RF"
      },
      "source": [
        "#variant_naming"
      ],
      "execution_count": null,
      "outputs": []
    },
    {
      "cell_type": "code",
      "metadata": {
        "id": "iENkXzwlS1pd"
      },
      "source": [
        "df.loc[df['ImpLin'] == 'Alpha', 'Variant'] = 'VOC'\n",
        "df.loc[df['ImpLin'] == 'Beta', 'Variant'] = 'VOC'\n",
        "df.loc[df['ImpLin'] == 'Gamma', 'Variant'] = 'VOC'\n",
        "df.loc[df['ImpLin'] == 'Delta', 'Variant'] = 'VOC'\n",
        "df.loc[df['ImpLin'] == 'Lambda', 'Variant'] = 'VOI'\n",
        "df.loc[df['ImpLin'] == 'Mu', 'Variant'] = 'VOI'\n",
        "df.loc[df['ImpLin'] == 'Monitoring', 'Variant'] = 'Monitoring'\n",
        "df.loc[(df['ImpLin'] != 'Alpha') & (df['ImpLin'] != 'Beta') & (df['ImpLin'] != 'Gamma') & (df['ImpLin'] != 'Delta') & (df['ImpLin'] != 'Lambda') & (df['ImpLin'] != 'Mu') & (df['ImpLin'] != 'Monitoring'), 'Variant'] = 'Other'"
      ],
      "execution_count": null,
      "outputs": []
    },
    {
      "cell_type": "code",
      "metadata": {
        "id": "kY7qw-W4d21J"
      },
      "source": [
        "#df.head(2)"
      ],
      "execution_count": null,
      "outputs": []
    },
    {
      "cell_type": "code",
      "metadata": {
        "id": "uYGcj8z0io9e"
      },
      "source": [
        "#date_format_change"
      ],
      "execution_count": null,
      "outputs": []
    },
    {
      "cell_type": "code",
      "metadata": {
        "id": "AWfv4UVfisaZ"
      },
      "source": [
        "df[\"date\"] = pd.to_datetime(df[\"date\"])\n",
        "df[\"year\"] = df[\"date\"].dt.year\n",
        "df[\"month\"] = df[\"date\"].dt.month\n",
        "#df.head(2)"
      ],
      "execution_count": null,
      "outputs": []
    },
    {
      "cell_type": "code",
      "metadata": {
        "id": "EanKXYoBhOpy"
      },
      "source": [
        "#amino_acid_explode"
      ],
      "execution_count": null,
      "outputs": []
    },
    {
      "cell_type": "code",
      "metadata": {
        "id": "_CbnlWmKfwSm"
      },
      "source": [
        "df['aaSubstitutions']=df['aaSubstitutions'].map(str)\n",
        "df['aaSubstitutions'] = df['aaSubstitutions'].str.split(',')\n",
        "mut1 = df.explode('aaSubstitutions')\n",
        "mut1 = df.explode('aaSubstitutions')\n",
        "mut1[['gene', 'aaMutations']] = mut1['aaSubstitutions'].str.split(':', expand=True)\n",
        "#mut1.head(1)"
      ],
      "execution_count": null,
      "outputs": []
    },
    {
      "cell_type": "code",
      "metadata": {
        "id": "BW8iDfylhStv"
      },
      "source": [
        "#mutation_split"
      ],
      "execution_count": null,
      "outputs": []
    },
    {
      "cell_type": "code",
      "metadata": {
        "id": "Spi5w9iCf9IU"
      },
      "source": [
        "mut2 = mut1['aaMutations'].str.split('(\\d+)([A-Za-z]+)', expand=True)\n",
        "mut3 = pd.concat([mut1, mut2], axis=1, join='inner')\n",
        "mut3.rename(columns={0:'RefAA', 1:'Position', 2:'AltAA'}, inplace=True)\n",
        "mut3.drop(3, axis=1, inplace=True)\n",
        "#mut3.head(2)"
      ],
      "execution_count": null,
      "outputs": []
    },
    {
      "cell_type": "code",
      "metadata": {
        "id": "2pePnq7AvNhB"
      },
      "source": [
        "mut3[\"Position\"] = pd.to_numeric(mut3[\"Position\"])\n",
        "mut3['count']=1"
      ],
      "execution_count": null,
      "outputs": []
    },
    {
      "cell_type": "code",
      "metadata": {
        "id": "OoowARduogz_"
      },
      "source": [
        "#mut3.head(2)"
      ],
      "execution_count": null,
      "outputs": []
    },
    {
      "cell_type": "code",
      "metadata": {
        "id": "2nzRkbdDv42P"
      },
      "source": [
        "#mut3.to_csv('mutation_all_WA27.csv', index=False)"
      ],
      "execution_count": null,
      "outputs": []
    },
    {
      "cell_type": "code",
      "metadata": {
        "id": "Ov1Y0w7kvNdW"
      },
      "source": [
        "N=mut3[mut3['gene'] == 'N']"
      ],
      "execution_count": null,
      "outputs": []
    },
    {
      "cell_type": "code",
      "metadata": {
        "id": "1yt7fR3nyeQc"
      },
      "source": [
        "#N.head(2)"
      ],
      "execution_count": null,
      "outputs": []
    },
    {
      "cell_type": "code",
      "metadata": {
        "id": "j4e4r6uo9ULH"
      },
      "source": [
        "n2 = N[N['year'] == 2021]\n",
        "options = ['6', '7', '8', '9', '10']\n",
        "n3 = n2[n2['month'].isin(options)]"
      ],
      "execution_count": null,
      "outputs": []
    },
    {
      "cell_type": "code",
      "metadata": {
        "id": "TVL1_sKy9jG3"
      },
      "source": [
        "n3.to_csv('N_WA28_07.10.csv', index=False)"
      ],
      "execution_count": null,
      "outputs": []
    },
    {
      "cell_type": "code",
      "metadata": {
        "id": "LM0QXsQEm8i0"
      },
      "source": [
        "spike=mut3[mut3['gene'] == 'S']"
      ],
      "execution_count": null,
      "outputs": []
    },
    {
      "cell_type": "code",
      "metadata": {
        "id": "33Fah9zSoEma"
      },
      "source": [
        "#spike.head(2)"
      ],
      "execution_count": null,
      "outputs": []
    },
    {
      "cell_type": "code",
      "metadata": {
        "id": "hlnpeg7pwErI"
      },
      "source": [
        "pd.options.mode.chained_assignment = None"
      ],
      "execution_count": null,
      "outputs": []
    },
    {
      "cell_type": "code",
      "metadata": {
        "id": "iVAK7F-UvNZd"
      },
      "source": [
        "spike.loc[spike['Position'] <= 15, 'Domian'] = 'S1'\n",
        "spike.loc[(spike['Position'] >= 16) & (spike['Position'] <= 305) , 'Domian'] = 'NTD'\n",
        "spike.loc[(spike['Position'] >= 306) & (spike['Position'] <= 329) , 'Domian'] = 'S1.1'\n",
        "spike.loc[(spike['Position'] >= 330) & (spike['Position'] <= 521) , 'Domian'] = 'RBD'\n",
        "spike.loc[(spike['Position'] >= 522) & (spike['Position'] <= 681) , 'Domian'] = 'S1/S2'\n",
        "spike.loc[(spike['Position'] >= 682) & (spike['Position'] <= 814) , 'Domian'] = 'S2.1'\n",
        "spike.loc[(spike['Position'] >= 815) & (spike['Position'] <= 833) , 'Domian'] = 'FP'\n",
        "spike.loc[(spike['Position'] >= 834) & (spike['Position'] <= 911) , 'Domian'] = 'S2.2'\n",
        "spike.loc[(spike['Position'] >= 912) & (spike['Position'] <= 985) , 'Domian'] = 'HR1'\n",
        "spike.loc[(spike['Position'] >= 986) & (spike['Position'] <= 1035) , 'Domian'] = 'CH'\n",
        "spike.loc[(spike['Position'] >= 1036) & (spike['Position'] <= 1075) , 'Domian'] = 'S2.3'\n",
        "spike.loc[(spike['Position'] >= 1076) & (spike['Position'] <= 1141) , 'Domian'] = 'CD'\n",
        "spike.loc[spike['Position'] > 1142, 'Domian'] = 'S2'"
      ],
      "execution_count": null,
      "outputs": []
    },
    {
      "cell_type": "code",
      "metadata": {
        "id": "eIX59h-tx79t"
      },
      "source": [
        "#spike.head(2)"
      ],
      "execution_count": null,
      "outputs": []
    },
    {
      "cell_type": "code",
      "metadata": {
        "id": "4dYAr3RrvNTy"
      },
      "source": [
        "#spike.to_csv('spike_WA27_06.10.csv', index=False)"
      ],
      "execution_count": null,
      "outputs": []
    },
    {
      "cell_type": "code",
      "metadata": {
        "id": "lOhpGZGgG1k7"
      },
      "source": [
        "s2 = spike[spike['year'] == 2021]"
      ],
      "execution_count": null,
      "outputs": []
    },
    {
      "cell_type": "code",
      "metadata": {
        "id": "_CJZr8QES9rA"
      },
      "source": [
        "options = ['6', '7', '8', '9', '10']\n",
        "s3 = s2[s2['month'].isin(options)]"
      ],
      "execution_count": null,
      "outputs": []
    },
    {
      "cell_type": "code",
      "metadata": {
        "id": "WD3Va6LHUVMy"
      },
      "source": [
        "s3.to_csv('spike_WA28_07.10.csv', index=False)"
      ],
      "execution_count": null,
      "outputs": []
    }
  ]
}