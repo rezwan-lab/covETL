{
  "nbformat": 4,
  "nbformat_minor": 0,
  "metadata": {
    "colab": {
      "provenance": []
    },
    "kernelspec": {
      "name": "python3",
      "display_name": "Python 3"
    },
    "language_info": {
      "name": "python"
    }
  },
  "cells": [
    {
      "cell_type": "markdown",
      "metadata": {
        "id": "UyaiI0y1-o4g"
      },
      "source": [
        "# **install_library**"
      ]
    },
    {
      "cell_type": "code",
      "metadata": {
        "id": "rmzM1cu5-NM4"
      },
      "source": [
        "import pandas as pd\n",
        "import numpy as np"
      ],
      "execution_count": 2,
      "outputs": []
    },
    {
      "cell_type": "markdown",
      "metadata": {
        "id": "z68mjX67_q60"
      },
      "source": [
        "# **data_upload**"
      ]
    },
    {
      "cell_type": "markdown",
      "metadata": {
        "id": "pkkWGWBU_yN7"
      },
      "source": [
        "mount_gdrive"
      ]
    },
    {
      "cell_type": "code",
      "metadata": {
        "id": "P21rS5VX_xZV",
        "colab": {
          "base_uri": "https://localhost:8080/",
          "height": 304
        },
        "outputId": "2796fe5e-e57c-440c-ae43-a1887db6673c"
      },
      "source": [
        "from google.colab import drive\n",
        "drive.mount('/content/drive')"
      ],
      "execution_count": 3,
      "outputs": [
        {
          "output_type": "error",
          "ename": "MessageError",
          "evalue": "Error: credential propagation was unsuccessful",
          "traceback": [
            "\u001b[0;31m---------------------------------------------------------------------------\u001b[0m",
            "\u001b[0;31mMessageError\u001b[0m                              Traceback (most recent call last)",
            "\u001b[0;32m<ipython-input-3-d5df0069828e>\u001b[0m in \u001b[0;36m<cell line: 0>\u001b[0;34m()\u001b[0m\n\u001b[1;32m      1\u001b[0m \u001b[0;32mfrom\u001b[0m \u001b[0mgoogle\u001b[0m\u001b[0;34m.\u001b[0m\u001b[0mcolab\u001b[0m \u001b[0;32mimport\u001b[0m \u001b[0mdrive\u001b[0m\u001b[0;34m\u001b[0m\u001b[0;34m\u001b[0m\u001b[0m\n\u001b[0;32m----> 2\u001b[0;31m \u001b[0mdrive\u001b[0m\u001b[0;34m.\u001b[0m\u001b[0mmount\u001b[0m\u001b[0;34m(\u001b[0m\u001b[0;34m'/content/drive'\u001b[0m\u001b[0;34m)\u001b[0m\u001b[0;34m\u001b[0m\u001b[0;34m\u001b[0m\u001b[0m\n\u001b[0m",
            "\u001b[0;32m/usr/local/lib/python3.11/dist-packages/google/colab/drive.py\u001b[0m in \u001b[0;36mmount\u001b[0;34m(mountpoint, force_remount, timeout_ms, readonly)\u001b[0m\n\u001b[1;32m     98\u001b[0m \u001b[0;32mdef\u001b[0m \u001b[0mmount\u001b[0m\u001b[0;34m(\u001b[0m\u001b[0mmountpoint\u001b[0m\u001b[0;34m,\u001b[0m \u001b[0mforce_remount\u001b[0m\u001b[0;34m=\u001b[0m\u001b[0;32mFalse\u001b[0m\u001b[0;34m,\u001b[0m \u001b[0mtimeout_ms\u001b[0m\u001b[0;34m=\u001b[0m\u001b[0;36m120000\u001b[0m\u001b[0;34m,\u001b[0m \u001b[0mreadonly\u001b[0m\u001b[0;34m=\u001b[0m\u001b[0;32mFalse\u001b[0m\u001b[0;34m)\u001b[0m\u001b[0;34m:\u001b[0m\u001b[0;34m\u001b[0m\u001b[0;34m\u001b[0m\u001b[0m\n\u001b[1;32m     99\u001b[0m   \u001b[0;34m\"\"\"Mount your Google Drive at the specified mountpoint path.\"\"\"\u001b[0m\u001b[0;34m\u001b[0m\u001b[0;34m\u001b[0m\u001b[0m\n\u001b[0;32m--> 100\u001b[0;31m   return _mount(\n\u001b[0m\u001b[1;32m    101\u001b[0m       \u001b[0mmountpoint\u001b[0m\u001b[0;34m,\u001b[0m\u001b[0;34m\u001b[0m\u001b[0;34m\u001b[0m\u001b[0m\n\u001b[1;32m    102\u001b[0m       \u001b[0mforce_remount\u001b[0m\u001b[0;34m=\u001b[0m\u001b[0mforce_remount\u001b[0m\u001b[0;34m,\u001b[0m\u001b[0;34m\u001b[0m\u001b[0;34m\u001b[0m\u001b[0m\n",
            "\u001b[0;32m/usr/local/lib/python3.11/dist-packages/google/colab/drive.py\u001b[0m in \u001b[0;36m_mount\u001b[0;34m(mountpoint, force_remount, timeout_ms, ephemeral, readonly)\u001b[0m\n\u001b[1;32m    135\u001b[0m   )\n\u001b[1;32m    136\u001b[0m   \u001b[0;32mif\u001b[0m \u001b[0mephemeral\u001b[0m\u001b[0;34m:\u001b[0m\u001b[0;34m\u001b[0m\u001b[0;34m\u001b[0m\u001b[0m\n\u001b[0;32m--> 137\u001b[0;31m     _message.blocking_request(\n\u001b[0m\u001b[1;32m    138\u001b[0m         \u001b[0;34m'request_auth'\u001b[0m\u001b[0;34m,\u001b[0m\u001b[0;34m\u001b[0m\u001b[0;34m\u001b[0m\u001b[0m\n\u001b[1;32m    139\u001b[0m         \u001b[0mrequest\u001b[0m\u001b[0;34m=\u001b[0m\u001b[0;34m{\u001b[0m\u001b[0;34m'authType'\u001b[0m\u001b[0;34m:\u001b[0m \u001b[0;34m'dfs_ephemeral'\u001b[0m\u001b[0;34m}\u001b[0m\u001b[0;34m,\u001b[0m\u001b[0;34m\u001b[0m\u001b[0;34m\u001b[0m\u001b[0m\n",
            "\u001b[0;32m/usr/local/lib/python3.11/dist-packages/google/colab/_message.py\u001b[0m in \u001b[0;36mblocking_request\u001b[0;34m(request_type, request, timeout_sec, parent)\u001b[0m\n\u001b[1;32m    174\u001b[0m       \u001b[0mrequest_type\u001b[0m\u001b[0;34m,\u001b[0m \u001b[0mrequest\u001b[0m\u001b[0;34m,\u001b[0m \u001b[0mparent\u001b[0m\u001b[0;34m=\u001b[0m\u001b[0mparent\u001b[0m\u001b[0;34m,\u001b[0m \u001b[0mexpect_reply\u001b[0m\u001b[0;34m=\u001b[0m\u001b[0;32mTrue\u001b[0m\u001b[0;34m\u001b[0m\u001b[0;34m\u001b[0m\u001b[0m\n\u001b[1;32m    175\u001b[0m   )\n\u001b[0;32m--> 176\u001b[0;31m   \u001b[0;32mreturn\u001b[0m \u001b[0mread_reply_from_input\u001b[0m\u001b[0;34m(\u001b[0m\u001b[0mrequest_id\u001b[0m\u001b[0;34m,\u001b[0m \u001b[0mtimeout_sec\u001b[0m\u001b[0;34m)\u001b[0m\u001b[0;34m\u001b[0m\u001b[0;34m\u001b[0m\u001b[0m\n\u001b[0m",
            "\u001b[0;32m/usr/local/lib/python3.11/dist-packages/google/colab/_message.py\u001b[0m in \u001b[0;36mread_reply_from_input\u001b[0;34m(message_id, timeout_sec)\u001b[0m\n\u001b[1;32m    101\u001b[0m     ):\n\u001b[1;32m    102\u001b[0m       \u001b[0;32mif\u001b[0m \u001b[0;34m'error'\u001b[0m \u001b[0;32min\u001b[0m \u001b[0mreply\u001b[0m\u001b[0;34m:\u001b[0m\u001b[0;34m\u001b[0m\u001b[0;34m\u001b[0m\u001b[0m\n\u001b[0;32m--> 103\u001b[0;31m         \u001b[0;32mraise\u001b[0m \u001b[0mMessageError\u001b[0m\u001b[0;34m(\u001b[0m\u001b[0mreply\u001b[0m\u001b[0;34m[\u001b[0m\u001b[0;34m'error'\u001b[0m\u001b[0;34m]\u001b[0m\u001b[0;34m)\u001b[0m\u001b[0;34m\u001b[0m\u001b[0;34m\u001b[0m\u001b[0m\n\u001b[0m\u001b[1;32m    104\u001b[0m       \u001b[0;32mreturn\u001b[0m \u001b[0mreply\u001b[0m\u001b[0;34m.\u001b[0m\u001b[0mget\u001b[0m\u001b[0;34m(\u001b[0m\u001b[0;34m'data'\u001b[0m\u001b[0;34m,\u001b[0m \u001b[0;32mNone\u001b[0m\u001b[0;34m)\u001b[0m\u001b[0;34m\u001b[0m\u001b[0;34m\u001b[0m\u001b[0m\n\u001b[1;32m    105\u001b[0m \u001b[0;34m\u001b[0m\u001b[0m\n",
            "\u001b[0;31mMessageError\u001b[0m: Error: credential propagation was unsuccessful"
          ]
        }
      ]
    },
    {
      "cell_type": "markdown",
      "metadata": {
        "id": "yLEjhxkn_7pc"
      },
      "source": [
        "import_file"
      ]
    },
    {
      "cell_type": "code",
      "metadata": {
        "id": "caPBwETTADUi"
      },
      "source": [
        "df = pd.read_table(\"/content/metadata.tsv\", sep='\\t')"
      ],
      "execution_count": null,
      "outputs": []
    },
    {
      "cell_type": "markdown",
      "metadata": {
        "id": "Uz85YocsAVb5"
      },
      "source": [
        "# **data_clean**"
      ]
    },
    {
      "cell_type": "code",
      "metadata": {
        "id": "HHJJaQc8Kp_E"
      },
      "source": [
        "#dataNeed_Strain_Date_Division_Location_Submitting_Lab_Region_Type_Clade_Lineage_ImpLin_VariantStatus"
      ],
      "execution_count": null,
      "outputs": []
    },
    {
      "cell_type": "code",
      "metadata": {
        "colab": {
          "base_uri": "https://localhost:8080/",
          "height": 141
        },
        "id": "6YwXCU44ccVR",
        "outputId": "3521644d-4e3c-4f03-de73-e7ba203004ae"
      },
      "source": [
        "df.head(2)"
      ],
      "execution_count": 1,
      "outputs": [
        {
          "output_type": "error",
          "ename": "NameError",
          "evalue": "name 'df' is not defined",
          "traceback": [
            "\u001b[0;31m---------------------------------------------------------------------------\u001b[0m",
            "\u001b[0;31mNameError\u001b[0m                                 Traceback (most recent call last)",
            "\u001b[0;32m<ipython-input-1-dfd2a9b66af3>\u001b[0m in \u001b[0;36m<cell line: 0>\u001b[0;34m()\u001b[0m\n\u001b[0;32m----> 1\u001b[0;31m \u001b[0mdf\u001b[0m\u001b[0;34m.\u001b[0m\u001b[0mhead\u001b[0m\u001b[0;34m(\u001b[0m\u001b[0;36m2\u001b[0m\u001b[0;34m)\u001b[0m\u001b[0;34m\u001b[0m\u001b[0;34m\u001b[0m\u001b[0m\n\u001b[0m",
            "\u001b[0;31mNameError\u001b[0m: name 'df' is not defined"
          ]
        }
      ]
    },
    {
      "cell_type": "markdown",
      "metadata": {
        "id": "57B8CN-gAag4"
      },
      "source": [
        "delete_unnessary_columns_change_in_dataset"
      ]
    },
    {
      "cell_type": "code",
      "metadata": {
        "id": "TqaqwvuEAq6Q",
        "colab": {
          "base_uri": "https://localhost:8080/",
          "height": 211
        },
        "outputId": "e99b3bba-8138-49dc-ed30-372270f4c32f"
      },
      "source": [
        "df.drop([ 'virus','gisaid_epi_isl', 'genbank_accession', 'region', 'country', 'region_exposure', 'country_exposure', 'division_exposure', 'segment', 'length', 'host', 'originating_lab', 'authors', 'url',\n",
        "       'title', 'paper_url', 'date_submitted', 'purpose_of_sequencing', 'lab_id', 'totalInsertions', 'totalMissing', 'totalNonACGTNs', 'nonACGTNs', 'substitutions', 'deletions', 'aaSubstitutions', 'aaDeletions', 'scorpio_call', 'note', 'pangoLEARN_version'], axis=1, inplace=True)\n",
        "df.head(2)"
      ],
      "execution_count": 4,
      "outputs": [
        {
          "output_type": "error",
          "ename": "NameError",
          "evalue": "name 'df' is not defined",
          "traceback": [
            "\u001b[0;31m---------------------------------------------------------------------------\u001b[0m",
            "\u001b[0;31mNameError\u001b[0m                                 Traceback (most recent call last)",
            "\u001b[0;32m<ipython-input-4-628d60ea0ad0>\u001b[0m in \u001b[0;36m<cell line: 0>\u001b[0;34m()\u001b[0m\n\u001b[0;32m----> 1\u001b[0;31m df.drop([ 'virus','gisaid_epi_isl', 'genbank_accession', 'region', 'country', 'region_exposure', 'country_exposure', 'division_exposure', 'segment', 'length', 'host', 'originating_lab', 'authors', 'url',\n\u001b[0m\u001b[1;32m      2\u001b[0m        'title', 'paper_url', 'date_submitted', 'purpose_of_sequencing', 'lab_id', 'totalInsertions', 'totalMissing', 'totalNonACGTNs', 'nonACGTNs', 'substitutions', 'deletions', 'aaSubstitutions', 'aaDeletions', 'scorpio_call', 'note', 'pangoLEARN_version'], axis=1, inplace=True)\n\u001b[1;32m      3\u001b[0m \u001b[0mdf\u001b[0m\u001b[0;34m.\u001b[0m\u001b[0mhead\u001b[0m\u001b[0;34m(\u001b[0m\u001b[0;36m2\u001b[0m\u001b[0;34m)\u001b[0m\u001b[0;34m\u001b[0m\u001b[0;34m\u001b[0m\u001b[0m\n",
            "\u001b[0;31mNameError\u001b[0m: name 'df' is not defined"
          ]
        }
      ]
    },
    {
      "cell_type": "markdown",
      "metadata": {
        "id": "EjeHe8Et8iux"
      },
      "source": [
        "# Lineage_Name_Change"
      ]
    },
    {
      "cell_type": "code",
      "metadata": {
        "id": "Qj7IbViRRR2T"
      },
      "source": [
        "#focus on other"
      ],
      "execution_count": null,
      "outputs": []
    },
    {
      "cell_type": "code",
      "metadata": {
        "id": "KqhIlX3TMu_2"
      },
      "source": [
        "df.loc[df['lineage'] == 'B.1.1.7', 'ImpLin'] = 'Alpha'\n",
        "df.loc[df['lineage'] == 'Q.1', 'ImpLin'] = 'Alpha'\n",
        "df.loc[df['lineage'] == 'Q.2', 'ImpLin'] = 'Alpha'\n",
        "df.loc[df['lineage'] == 'Q.3', 'ImpLin'] = 'Alpha'\n",
        "df.loc[df['lineage'] == 'Q.4', 'ImpLin'] = 'Alpha'\n",
        "df.loc[df['lineage'] == 'Q.5', 'ImpLin'] = 'Alpha'\n",
        "df.loc[df['lineage'] == 'Q.6', 'ImpLin'] = 'Alpha'\n",
        "df.loc[df['lineage'] == 'Q.7', 'ImpLin'] = 'Alpha'\n",
        "df.loc[df['lineage'] == 'Q.8', 'ImpLin'] = 'Alpha'\n",
        "df.loc[df['lineage'] == 'B.1.351', 'ImpLin'] = 'Beta'\n",
        "df.loc[df['lineage'] == 'P.1', 'ImpLin'] = 'Gamma'\n",
        "df.loc[df['lineage'] == 'B.1.525', 'ImpLin'] = 'Monitoring'\n",
        "df.loc[df['lineage'] == 'B.1.526', 'ImpLin'] = 'Monitoring'\n",
        "df.loc[df['lineage'] == 'B.1.617.1', 'ImpLin'] = 'Monitoring'\n",
        "df.loc[df['lineage'] == 'C.37', 'ImpLin'] = 'Lambda'\n",
        "df.loc[df['lineage'] == 'B.1.621', 'ImpLin'] = 'Mu'\n",
        "df.loc[df['lineage'] == 'B.1.427', 'ImpLin'] = 'Monitoring'\n",
        "df.loc[df['lineage'] == 'B.1.429', 'ImpLin'] = 'Monitoring'\n",
        "df.loc[df['lineage'] == 'R.1', 'ImpLin'] = 'Monitoring'\n",
        "df.loc[df['lineage'] == 'B.1.466.2', 'ImpLin'] = 'Monitoring'\n",
        "df.loc[df['lineage'] == 'B.1.1.318', 'ImpLin'] = 'Monitoring'\n",
        "df.loc[df['lineage'] == 'B.1.1.519', 'ImpLin'] = 'Monitoring'\n",
        "df.loc[df['lineage'] == 'C.36.3', 'ImpLin'] = 'Monitoring'\n",
        "df.loc[df['lineage'] == 'B.1.214.2', 'ImpLin'] = 'Monitoring'\n",
        "df.loc[df['lineage'] == 'B.1.1.523', 'ImpLin'] = 'Monitoring'\n",
        "df.loc[df['lineage'] == 'B.1.619', 'ImpLin'] = 'Monitoring'\n",
        "df.loc[df['lineage'] == 'B.1.620', 'ImpLin'] = 'Monitoring'\n",
        "df.loc[df['lineage'] == 'C.1.2', 'ImpLin'] = 'Monitoring'\n",
        "df.loc[df['lineage'] == 'B.1.617.1', 'ImpLin'] = 'Monitoring'\n",
        "df.loc[df['lineage'] == 'B.1.526', 'ImpLin'] = 'Monitoring'\n",
        "df.loc[df['lineage'] == 'B.1.525', 'ImpLin'] = 'Monitoring'\n",
        "df.loc[df['lineage'] == 'B.1.617.2', 'ImpLin'] = 'Delta'\n",
        "df.loc[df['lineage'] == 'AY.1', 'ImpLin'] = 'Delta'\n",
        "df.loc[df['lineage'] == 'AY.2', 'ImpLin'] = 'Delta'\n",
        "df.loc[df['lineage'] == 'AY.3', 'ImpLin'] = 'Delta'\n",
        "df.loc[df['lineage'] == 'AY.3.1', 'ImpLin'] = 'Delta'\n",
        "df.loc[df['lineage'] == 'AY.4', 'ImpLin'] = 'Delta'\n",
        "df.loc[df['lineage'] == 'AY.5', 'ImpLin'] = 'Delta'\n",
        "df.loc[df['lineage'] == 'AY.5.1', 'ImpLin'] = 'Delta'\n",
        "df.loc[df['lineage'] == 'AY.5.2', 'ImpLin'] = 'Delta'\n",
        "df.loc[df['lineage'] == 'AY.6', 'ImpLin'] = 'Delta'\n",
        "df.loc[df['lineage'] == 'AY.7', 'ImpLin'] = 'Delta'\n",
        "df.loc[df['lineage'] == 'AY.7.1', 'ImpLin'] = 'Delta'\n",
        "df.loc[df['lineage'] == 'AY.7.2', 'ImpLin'] = 'Delta'\n",
        "df.loc[df['lineage'] == 'AY.8', 'ImpLin'] = 'Delta'\n",
        "df.loc[df['lineage'] == 'AY.9', 'ImpLin'] = 'Delta'\n",
        "df.loc[df['lineage'] == 'AY.10', 'ImpLin'] = 'Delta'\n",
        "df.loc[df['lineage'] == 'AY.11', 'ImpLin'] = 'Delta'\n",
        "df.loc[df['lineage'] == 'AY.12', 'ImpLin'] = 'Delta'\n",
        "df.loc[df['lineage'] == 'AY.13', 'ImpLin'] = 'Delta'\n",
        "df.loc[df['lineage'] == 'AY.14', 'ImpLin'] = 'Delta'\n",
        "df.loc[df['lineage'] == 'AY.15', 'ImpLin'] = 'Delta'\n",
        "df.loc[df['lineage'] == 'AY.16', 'ImpLin'] = 'Delta'\n",
        "df.loc[df['lineage'] == 'AY.17', 'ImpLin'] = 'Delta'\n",
        "df.loc[df['lineage'] == 'AY.18', 'ImpLin'] = 'Delta'\n",
        "df.loc[df['lineage'] == 'AY.19', 'ImpLin'] = 'Delta'\n",
        "df.loc[df['lineage'] == 'AY.20', 'ImpLin'] = 'Delta'\n",
        "df.loc[df['lineage'] == 'AY.21', 'ImpLin'] = 'Delta'\n",
        "df.loc[df['lineage'] == 'AY.22', 'ImpLin'] = 'Delta'\n",
        "df.loc[df['lineage'] == 'AY.23', 'ImpLin'] = 'Delta'\n",
        "df.loc[df['lineage'] == 'AY.24', 'ImpLin'] = 'Delta'\n",
        "df.loc[df['lineage'] == 'AY.25', 'ImpLin'] = 'Delta'\n",
        "df.loc[df['lineage'] == 'AY.26', 'ImpLin'] = 'Delta'\n",
        "df.loc[df['lineage'] == 'AY.27', 'ImpLin'] = 'Delta'\n",
        "df.loc[df['lineage'] == 'AY.28', 'ImpLin'] = 'Delta'\n",
        "df.loc[df['lineage'] == 'AY.29', 'ImpLin'] = 'Delta'\n",
        "df.loc[df['lineage'] == 'AY.30', 'ImpLin'] = 'Delta'\n",
        "df.loc[df['lineage'] == 'AY.31', 'ImpLin'] = 'Delta'\n",
        "df.loc[df['lineage'] == 'AY.32', 'ImpLin'] = 'Delta'\n",
        "df.loc[df['lineage'] == 'AY.33', 'ImpLin'] = 'Delta'\n",
        "df.loc[df['lineage'] == 'AY.34', 'ImpLin'] = 'Delta'\n",
        "df.loc[df['lineage'] == 'AY.35', 'ImpLin'] = 'Delta'\n",
        "df.loc[df['lineage'] == 'AY.36', 'ImpLin'] = 'Delta'\n",
        "df.loc[df['lineage'] == 'AY.37', 'ImpLin'] = 'Delta'\n",
        "df.loc[df['lineage'] == 'AY.38', 'ImpLin'] = 'Delta'\n",
        "df.loc[df['lineage'] == 'None', 'ImpLin'] = 'None'\n",
        "df.loc[(df['lineage'] != 'B.1.1.7') & (df['lineage'] != 'Q.1') & (df['lineage'] != 'Q.2') & (df['lineage'] != 'Q.3') & (df['lineage'] != 'Q.4') & (df['lineage'] != 'Q.5') & (df['lineage'] != 'Q.6') & (df['lineage'] != 'Q.7') & (df['lineage'] != 'Q.8') & (df['lineage'] != 'B.1.351') & (df['lineage'] != 'P.1') & (df['lineage'] != 'B.1.525') & (df['lineage'] != 'B.1.526') & (df['lineage'] != 'B.1.617.1') & (df['lineage'] != 'C.37') & (df['lineage'] != 'B.1.621') & (df['lineage'] != 'B.1.427') & (df['lineage'] != 'B.1.429') & (df['lineage'] != 'R.1') & (df['lineage'] != 'B.1.466.2') & (df['lineage'] != 'B.1.1.318') & (df['lineage'] != 'B.1.1.519') & (df['lineage'] != 'C.36.3') & (df['lineage'] != 'B.1.214.2') & (df['lineage'] != 'B.1.1.523') & (df['lineage'] != 'B.1.619') & (df['lineage'] != 'B.1.620') & (df['lineage'] != 'C.1.2') & (df['lineage'] != 'B.1.617.2') & (df['lineage'] != 'AY.1') & (df['lineage'] != 'AY.2') & (df['lineage'] != 'AY.3') & (df['lineage'] != 'AY.3.1') & (df['lineage'] != 'AY.4') & (df['lineage'] != 'AY.5') & (df['lineage'] != 'AY.5.1') & (df['lineage'] != 'AY.5.2') & (df['lineage'] != 'AY.6') & (df['lineage'] != 'AY.7') & (df['lineage'] != 'AY.7.1') & (df['lineage'] != 'AY.7.2') & (df['lineage'] != 'AY.8') & (df['lineage'] != 'AY.9') & (df['lineage'] != 'AY.10') & (df['lineage'] != 'AY.11') & (df['lineage'] != 'AY.12') & (df['lineage'] != 'AY.13') & (df['lineage'] != 'AY.14') & (df['lineage'] != 'AY.15') & (df['lineage'] != 'AY.16') & (df['lineage'] != 'AY.17') & (df['lineage'] != 'AY.18') & (df['lineage'] != 'AY.19') & (df['lineage'] != 'AY.20') & (df['lineage'] != 'AY.21') & (df['lineage'] != 'AY.22') & (df['lineage'] != 'AY.23') & (df['lineage'] != 'AY.24') & (df['lineage'] != 'AY.25') & (df['lineage'] != 'AY.26') & (df['lineage'] != 'AY.27') & (df['lineage'] != 'AY.28') & (df['lineage'] != 'AY.29') & (df['lineage'] != 'AY.30') & (df['lineage'] != 'AY.31') & (df['lineage'] != 'AY.32') & (df['lineage'] != 'AY.33') & (df['lineage'] != 'AY.34') & (df['lineage'] != 'AY.35') & (df['lineage'] != 'AY.36') & (df['lineage'] != 'AY.37') & (df['lineage'] != 'AY.38') & (df['lineage'] != 'None'), 'ImpLin'] = 'Other'"
      ],
      "execution_count": null,
      "outputs": []
    },
    {
      "cell_type": "code",
      "metadata": {
        "colab": {
          "base_uri": "https://localhost:8080/",
          "height": 141
        },
        "id": "aETHmXigdRgB",
        "outputId": "2f22e34b-2d42-4354-efed-c5f4c6f36c7f"
      },
      "source": [
        "df.head(2)"
      ],
      "execution_count": 5,
      "outputs": [
        {
          "output_type": "error",
          "ename": "NameError",
          "evalue": "name 'df' is not defined",
          "traceback": [
            "\u001b[0;31m---------------------------------------------------------------------------\u001b[0m",
            "\u001b[0;31mNameError\u001b[0m                                 Traceback (most recent call last)",
            "\u001b[0;32m<ipython-input-5-dfd2a9b66af3>\u001b[0m in \u001b[0;36m<cell line: 0>\u001b[0;34m()\u001b[0m\n\u001b[0;32m----> 1\u001b[0;31m \u001b[0mdf\u001b[0m\u001b[0;34m.\u001b[0m\u001b[0mhead\u001b[0m\u001b[0;34m(\u001b[0m\u001b[0;36m2\u001b[0m\u001b[0;34m)\u001b[0m\u001b[0;34m\u001b[0m\u001b[0;34m\u001b[0m\u001b[0m\n\u001b[0m",
            "\u001b[0;31mNameError\u001b[0m: name 'df' is not defined"
          ]
        }
      ]
    },
    {
      "cell_type": "code",
      "metadata": {
        "id": "1CgkQLMnY5RF"
      },
      "source": [
        "#variant_naming"
      ],
      "execution_count": null,
      "outputs": []
    },
    {
      "cell_type": "code",
      "metadata": {
        "id": "iENkXzwlS1pd"
      },
      "source": [
        "df.loc[df['ImpLin'] == 'Alpha', 'Variant'] = 'VOC'\n",
        "df.loc[df['ImpLin'] == 'Beta', 'Variant'] = 'VOC'\n",
        "df.loc[df['ImpLin'] == 'Gamma', 'Variant'] = 'VOC'\n",
        "df.loc[df['ImpLin'] == 'Delta', 'Variant'] = 'VOC'\n",
        "df.loc[df['ImpLin'] == 'Lambda', 'Variant'] = 'VOI'\n",
        "df.loc[df['ImpLin'] == 'Mu', 'Variant'] = 'VOI'\n",
        "df.loc[df['ImpLin'] == 'Monitoring', 'Variant'] = 'Monitoring'\n",
        "df.loc[df['ImpLin'] == 'None', 'Variant'] = 'None'\n",
        "df.loc[(df['ImpLin'] != 'Alpha') & (df['ImpLin'] != 'Beta') & (df['ImpLin'] != 'Gamma') & (df['ImpLin'] != 'Delta') & (df['ImpLin'] != 'Lambda') & (df['ImpLin'] != 'Mu') & (df['ImpLin'] != 'Monitoring') & (df['ImpLin'] != 'None'), 'Variant'] = 'Other'"
      ],
      "execution_count": null,
      "outputs": []
    },
    {
      "cell_type": "code",
      "metadata": {
        "colab": {
          "base_uri": "https://localhost:8080/",
          "height": 141
        },
        "id": "kY7qw-W4d21J",
        "outputId": "b1be3b3e-5fd7-4d34-ac82-a4a2c30fe468"
      },
      "source": [
        "df.head(2)"
      ],
      "execution_count": 6,
      "outputs": [
        {
          "output_type": "error",
          "ename": "NameError",
          "evalue": "name 'df' is not defined",
          "traceback": [
            "\u001b[0;31m---------------------------------------------------------------------------\u001b[0m",
            "\u001b[0;31mNameError\u001b[0m                                 Traceback (most recent call last)",
            "\u001b[0;32m<ipython-input-6-dfd2a9b66af3>\u001b[0m in \u001b[0;36m<cell line: 0>\u001b[0;34m()\u001b[0m\n\u001b[0;32m----> 1\u001b[0;31m \u001b[0mdf\u001b[0m\u001b[0;34m.\u001b[0m\u001b[0mhead\u001b[0m\u001b[0;34m(\u001b[0m\u001b[0;36m2\u001b[0m\u001b[0;34m)\u001b[0m\u001b[0;34m\u001b[0m\u001b[0;34m\u001b[0m\u001b[0m\n\u001b[0m",
            "\u001b[0;31mNameError\u001b[0m: name 'df' is not defined"
          ]
        }
      ]
    },
    {
      "cell_type": "code",
      "metadata": {
        "colab": {
          "base_uri": "https://localhost:8080/",
          "height": 193
        },
        "id": "1hwFYv6KgTZw",
        "outputId": "ebf1a4e4-48fd-49fc-d7a1-11d9fba32723"
      },
      "source": [
        "df[\"date\"] = pd.to_datetime(df[\"date\"])\n",
        "df[\"year\"] = df[\"date\"].dt.year\n",
        "df[\"month\"] = df[\"date\"].dt.month\n",
        "df.head(2)"
      ],
      "execution_count": 7,
      "outputs": [
        {
          "output_type": "error",
          "ename": "NameError",
          "evalue": "name 'df' is not defined",
          "traceback": [
            "\u001b[0;31m---------------------------------------------------------------------------\u001b[0m",
            "\u001b[0;31mNameError\u001b[0m                                 Traceback (most recent call last)",
            "\u001b[0;32m<ipython-input-7-ac7b3d0f720e>\u001b[0m in \u001b[0;36m<cell line: 0>\u001b[0;34m()\u001b[0m\n\u001b[0;32m----> 1\u001b[0;31m \u001b[0mdf\u001b[0m\u001b[0;34m[\u001b[0m\u001b[0;34m\"date\"\u001b[0m\u001b[0;34m]\u001b[0m \u001b[0;34m=\u001b[0m \u001b[0mpd\u001b[0m\u001b[0;34m.\u001b[0m\u001b[0mto_datetime\u001b[0m\u001b[0;34m(\u001b[0m\u001b[0mdf\u001b[0m\u001b[0;34m[\u001b[0m\u001b[0;34m\"date\"\u001b[0m\u001b[0;34m]\u001b[0m\u001b[0;34m)\u001b[0m\u001b[0;34m\u001b[0m\u001b[0;34m\u001b[0m\u001b[0m\n\u001b[0m\u001b[1;32m      2\u001b[0m \u001b[0mdf\u001b[0m\u001b[0;34m[\u001b[0m\u001b[0;34m\"year\"\u001b[0m\u001b[0;34m]\u001b[0m \u001b[0;34m=\u001b[0m \u001b[0mdf\u001b[0m\u001b[0;34m[\u001b[0m\u001b[0;34m\"date\"\u001b[0m\u001b[0;34m]\u001b[0m\u001b[0;34m.\u001b[0m\u001b[0mdt\u001b[0m\u001b[0;34m.\u001b[0m\u001b[0myear\u001b[0m\u001b[0;34m\u001b[0m\u001b[0;34m\u001b[0m\u001b[0m\n\u001b[1;32m      3\u001b[0m \u001b[0mdf\u001b[0m\u001b[0;34m[\u001b[0m\u001b[0;34m\"month\"\u001b[0m\u001b[0;34m]\u001b[0m \u001b[0;34m=\u001b[0m \u001b[0mdf\u001b[0m\u001b[0;34m[\u001b[0m\u001b[0;34m\"date\"\u001b[0m\u001b[0;34m]\u001b[0m\u001b[0;34m.\u001b[0m\u001b[0mdt\u001b[0m\u001b[0;34m.\u001b[0m\u001b[0mmonth\u001b[0m\u001b[0;34m\u001b[0m\u001b[0;34m\u001b[0m\u001b[0m\n\u001b[1;32m      4\u001b[0m \u001b[0mdf\u001b[0m\u001b[0;34m.\u001b[0m\u001b[0mhead\u001b[0m\u001b[0;34m(\u001b[0m\u001b[0;36m2\u001b[0m\u001b[0;34m)\u001b[0m\u001b[0;34m\u001b[0m\u001b[0;34m\u001b[0m\u001b[0m\n",
            "\u001b[0;31mNameError\u001b[0m: name 'df' is not defined"
          ]
        }
      ]
    },
    {
      "cell_type": "code",
      "metadata": {
        "id": "ff8N9gD-lh6q"
      },
      "source": [
        "df['count']=1"
      ],
      "execution_count": null,
      "outputs": []
    },
    {
      "cell_type": "code",
      "metadata": {
        "colab": {
          "base_uri": "https://localhost:8080/",
          "height": 141
        },
        "id": "i2R2yOSkmILP",
        "outputId": "727c6ba6-58b6-4825-a197-698952e4ba18"
      },
      "source": [
        "df.head(2)"
      ],
      "execution_count": 8,
      "outputs": [
        {
          "output_type": "error",
          "ename": "NameError",
          "evalue": "name 'df' is not defined",
          "traceback": [
            "\u001b[0;31m---------------------------------------------------------------------------\u001b[0m",
            "\u001b[0;31mNameError\u001b[0m                                 Traceback (most recent call last)",
            "\u001b[0;32m<ipython-input-8-dfd2a9b66af3>\u001b[0m in \u001b[0;36m<cell line: 0>\u001b[0;34m()\u001b[0m\n\u001b[0;32m----> 1\u001b[0;31m \u001b[0mdf\u001b[0m\u001b[0;34m.\u001b[0m\u001b[0mhead\u001b[0m\u001b[0;34m(\u001b[0m\u001b[0;36m2\u001b[0m\u001b[0;34m)\u001b[0m\u001b[0;34m\u001b[0m\u001b[0;34m\u001b[0m\u001b[0m\n\u001b[0m",
            "\u001b[0;31mNameError\u001b[0m: name 'df' is not defined"
          ]
        }
      ]
    },
    {
      "cell_type": "code",
      "metadata": {
        "colab": {
          "base_uri": "https://localhost:8080/"
        },
        "id": "YXMh7iJMgqUt",
        "outputId": "e0fb9e24-3502-412e-db25-ec2c8edcbb5e"
      },
      "source": [
        "!pip install pivottablejs\n",
        "from pivottablejs import pivot_ui\n",
        "from IPython.display import HTML\n",
        "from IPython.display import IFrame\n",
        "import json, io"
      ],
      "execution_count": null,
      "outputs": [
        {
          "output_type": "stream",
          "name": "stdout",
          "text": [
            "Requirement already satisfied: pivottablejs in /usr/local/lib/python3.7/dist-packages (0.9.0)\n"
          ]
        }
      ]
    },
    {
      "cell_type": "code",
      "metadata": {
        "id": "8mxvT7XigtPM"
      },
      "source": [
        "def pivot_cht_html(df, outfile_path = \"pivottablejs.html\", url=\"\",\n",
        "    width=\"100%\", height=\"500\",json_kwargs='',  **kwargs):\n",
        "  with io.open(outfile_path, 'wt', encoding='utf8') as outfile:\n",
        "      csv = df.to_csv(encoding='utf8')\n",
        "      if hasattr(csv, 'decode'):\n",
        "          csv = csv.decode('utf8')\n",
        "      outfile.write(TEMPLATE %\n",
        "            dict(csv=csv, kwargs=json.dumps(kwargs),json_kwargs=json_kwargs))\n",
        "\n",
        "  IFrame(src=url or outfile_path, width=width, height=height)\n",
        "  return HTML(outfile_path)"
      ],
      "execution_count": null,
      "outputs": []
    },
    {
      "cell_type": "code",
      "metadata": {
        "id": "5cD0XXtdhQea"
      },
      "source": [
        "pivot_ui(df,outfile_path='pivottablejs.html')\n",
        "HTML('pivottablejs.html')"
      ],
      "execution_count": null,
      "outputs": []
    },
    {
      "cell_type": "code",
      "metadata": {
        "colab": {
          "base_uri": "https://localhost:8080/"
        },
        "id": "TCckC6qn6bk4",
        "outputId": "714a8b16-62a4-4aad-f63a-5aa4282286d3"
      },
      "source": [
        "! pip install https://github.com/pandas-profiling/pandas-profiling/archive/master.zip"
      ],
      "execution_count": null,
      "outputs": [
        {
          "output_type": "stream",
          "name": "stdout",
          "text": [
            "Collecting https://github.com/pandas-profiling/pandas-profiling/archive/master.zip\n",
            "  Using cached https://github.com/pandas-profiling/pandas-profiling/archive/master.zip\n",
            "Requirement already satisfied: joblib~=1.0.1 in /usr/local/lib/python3.7/dist-packages (from pandas-profiling==3.1.1) (1.0.1)\n",
            "Requirement already satisfied: scipy>=1.4.1 in /usr/local/lib/python3.7/dist-packages (from pandas-profiling==3.1.1) (1.7.1)\n",
            "Requirement already satisfied: pandas!=1.0.0,!=1.0.1,!=1.0.2,!=1.1.0,>=0.25.3 in /usr/local/lib/python3.7/dist-packages (from pandas-profiling==3.1.1) (1.1.5)\n",
            "Requirement already satisfied: matplotlib>=3.2.0 in /usr/local/lib/python3.7/dist-packages (from pandas-profiling==3.1.1) (3.2.2)\n",
            "Requirement already satisfied: pydantic>=1.8.1 in /usr/local/lib/python3.7/dist-packages (from pandas-profiling==3.1.1) (1.8.2)\n",
            "Requirement already satisfied: PyYAML>=5.0.0 in /usr/local/lib/python3.7/dist-packages (from pandas-profiling==3.1.1) (5.4.1)\n",
            "Requirement already satisfied: jinja2>=2.11.1 in /usr/local/lib/python3.7/dist-packages (from pandas-profiling==3.1.1) (2.11.3)\n",
            "Requirement already satisfied: markupsafe~=2.0.1 in /usr/local/lib/python3.7/dist-packages (from pandas-profiling==3.1.1) (2.0.1)\n",
            "Requirement already satisfied: visions[type_image_path]==0.7.4 in /usr/local/lib/python3.7/dist-packages (from pandas-profiling==3.1.1) (0.7.4)\n",
            "Requirement already satisfied: numpy>=1.16.0 in /usr/local/lib/python3.7/dist-packages (from pandas-profiling==3.1.1) (1.19.5)\n",
            "Requirement already satisfied: htmlmin>=0.1.12 in /usr/local/lib/python3.7/dist-packages (from pandas-profiling==3.1.1) (0.1.12)\n",
            "Requirement already satisfied: missingno>=0.4.2 in /usr/local/lib/python3.7/dist-packages (from pandas-profiling==3.1.1) (0.5.0)\n",
            "Requirement already satisfied: phik>=0.11.1 in /usr/local/lib/python3.7/dist-packages (from pandas-profiling==3.1.1) (0.12.0)\n",
            "Requirement already satisfied: tangled-up-in-unicode==0.2.0 in /usr/local/lib/python3.7/dist-packages (from pandas-profiling==3.1.1) (0.2.0)\n",
            "Requirement already satisfied: requests>=2.24.0 in /usr/local/lib/python3.7/dist-packages (from pandas-profiling==3.1.1) (2.26.0)\n",
            "Requirement already satisfied: tqdm>=4.48.2 in /usr/local/lib/python3.7/dist-packages (from pandas-profiling==3.1.1) (4.62.3)\n",
            "Requirement already satisfied: seaborn>=0.10.1 in /usr/local/lib/python3.7/dist-packages (from pandas-profiling==3.1.1) (0.11.2)\n",
            "Requirement already satisfied: multimethod>=1.4 in /usr/local/lib/python3.7/dist-packages (from pandas-profiling==3.1.1) (1.6)\n",
            "Requirement already satisfied: attrs>=19.3.0 in /usr/local/lib/python3.7/dist-packages (from visions[type_image_path]==0.7.4->pandas-profiling==3.1.1) (21.2.0)\n",
            "Requirement already satisfied: networkx>=2.4 in /usr/local/lib/python3.7/dist-packages (from visions[type_image_path]==0.7.4->pandas-profiling==3.1.1) (2.6.3)\n",
            "Requirement already satisfied: Pillow in /usr/local/lib/python3.7/dist-packages (from visions[type_image_path]==0.7.4->pandas-profiling==3.1.1) (7.1.2)\n",
            "Requirement already satisfied: imagehash in /usr/local/lib/python3.7/dist-packages (from visions[type_image_path]==0.7.4->pandas-profiling==3.1.1) (4.2.1)\n",
            "Requirement already satisfied: kiwisolver>=1.0.1 in /usr/local/lib/python3.7/dist-packages (from matplotlib>=3.2.0->pandas-profiling==3.1.1) (1.3.2)\n",
            "Requirement already satisfied: python-dateutil>=2.1 in /usr/local/lib/python3.7/dist-packages (from matplotlib>=3.2.0->pandas-profiling==3.1.1) (2.8.2)\n",
            "Requirement already satisfied: cycler>=0.10 in /usr/local/lib/python3.7/dist-packages (from matplotlib>=3.2.0->pandas-profiling==3.1.1) (0.10.0)\n",
            "Requirement already satisfied: pyparsing!=2.0.4,!=2.1.2,!=2.1.6,>=2.0.1 in /usr/local/lib/python3.7/dist-packages (from matplotlib>=3.2.0->pandas-profiling==3.1.1) (2.4.7)\n",
            "Requirement already satisfied: six in /usr/local/lib/python3.7/dist-packages (from cycler>=0.10->matplotlib>=3.2.0->pandas-profiling==3.1.1) (1.15.0)\n",
            "Requirement already satisfied: pytz>=2017.2 in /usr/local/lib/python3.7/dist-packages (from pandas!=1.0.0,!=1.0.1,!=1.0.2,!=1.1.0,>=0.25.3->pandas-profiling==3.1.1) (2018.9)\n",
            "Requirement already satisfied: typing-extensions>=3.7.4.3 in /usr/local/lib/python3.7/dist-packages (from pydantic>=1.8.1->pandas-profiling==3.1.1) (3.7.4.3)\n",
            "Requirement already satisfied: idna<4,>=2.5 in /usr/local/lib/python3.7/dist-packages (from requests>=2.24.0->pandas-profiling==3.1.1) (2.10)\n",
            "Requirement already satisfied: charset-normalizer~=2.0.0 in /usr/local/lib/python3.7/dist-packages (from requests>=2.24.0->pandas-profiling==3.1.1) (2.0.6)\n",
            "Requirement already satisfied: certifi>=2017.4.17 in /usr/local/lib/python3.7/dist-packages (from requests>=2.24.0->pandas-profiling==3.1.1) (2021.5.30)\n",
            "Requirement already satisfied: urllib3<1.27,>=1.21.1 in /usr/local/lib/python3.7/dist-packages (from requests>=2.24.0->pandas-profiling==3.1.1) (1.24.3)\n",
            "Requirement already satisfied: PyWavelets in /usr/local/lib/python3.7/dist-packages (from imagehash->visions[type_image_path]==0.7.4->pandas-profiling==3.1.1) (1.1.1)\n"
          ]
        }
      ]
    },
    {
      "cell_type": "code",
      "metadata": {
        "colab": {
          "base_uri": "https://localhost:8080/",
          "height": 384
        },
        "id": "s7-4bp-g7Co_",
        "outputId": "11bd5be5-67a7-4ce5-eb64-552a78638132"
      },
      "source": [
        "import pandas as pd\n",
        "import numpy as np\n",
        "from pandas_profiling import ProfileReport\n",
        "\n",
        "profile = ProfileReport(df)\n",
        "profile.to_notebook_iframe()"
      ],
      "execution_count": 9,
      "outputs": [
        {
          "output_type": "error",
          "ename": "ModuleNotFoundError",
          "evalue": "No module named 'pandas_profiling'",
          "traceback": [
            "\u001b[0;31m---------------------------------------------------------------------------\u001b[0m",
            "\u001b[0;31mModuleNotFoundError\u001b[0m                       Traceback (most recent call last)",
            "\u001b[0;32m<ipython-input-9-e4caf7712b65>\u001b[0m in \u001b[0;36m<cell line: 0>\u001b[0;34m()\u001b[0m\n\u001b[1;32m      1\u001b[0m \u001b[0;32mimport\u001b[0m \u001b[0mpandas\u001b[0m \u001b[0;32mas\u001b[0m \u001b[0mpd\u001b[0m\u001b[0;34m\u001b[0m\u001b[0;34m\u001b[0m\u001b[0m\n\u001b[1;32m      2\u001b[0m \u001b[0;32mimport\u001b[0m \u001b[0mnumpy\u001b[0m \u001b[0;32mas\u001b[0m \u001b[0mnp\u001b[0m\u001b[0;34m\u001b[0m\u001b[0;34m\u001b[0m\u001b[0m\n\u001b[0;32m----> 3\u001b[0;31m \u001b[0;32mfrom\u001b[0m \u001b[0mpandas_profiling\u001b[0m \u001b[0;32mimport\u001b[0m \u001b[0mProfileReport\u001b[0m\u001b[0;34m\u001b[0m\u001b[0;34m\u001b[0m\u001b[0m\n\u001b[0m\u001b[1;32m      4\u001b[0m \u001b[0;34m\u001b[0m\u001b[0m\n\u001b[1;32m      5\u001b[0m \u001b[0mprofile\u001b[0m \u001b[0;34m=\u001b[0m \u001b[0mProfileReport\u001b[0m\u001b[0;34m(\u001b[0m\u001b[0mdf\u001b[0m\u001b[0;34m)\u001b[0m\u001b[0;34m\u001b[0m\u001b[0;34m\u001b[0m\u001b[0m\n",
            "\u001b[0;31mModuleNotFoundError\u001b[0m: No module named 'pandas_profiling'",
            "",
            "\u001b[0;31m---------------------------------------------------------------------------\u001b[0;32m\nNOTE: If your import is failing due to a missing package, you can\nmanually install dependencies using either !pip or !apt.\n\nTo view examples of installing some common dependencies, click the\n\"Open Examples\" button below.\n\u001b[0;31m---------------------------------------------------------------------------\u001b[0m\n"
          ],
          "errorDetails": {
            "actions": [
              {
                "action": "open_url",
                "actionText": "Open Examples",
                "url": "/notebooks/snippets/importing_libraries.ipynb"
              }
            ]
          }
        }
      ]
    },
    {
      "cell_type": "code",
      "metadata": {
        "id": "jqSOWP6FeK51"
      },
      "source": [
        "#df.to_csv('WA28_07.10_Lineage.csv', index=False)"
      ],
      "execution_count": null,
      "outputs": []
    }
  ]
}